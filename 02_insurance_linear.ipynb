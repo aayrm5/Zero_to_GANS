{
  "nbformat": 4,
  "nbformat_minor": 0,
  "metadata": {
    "kernelspec": {
      "display_name": "Python 3",
      "language": "python",
      "name": "python3"
    },
    "language_info": {
      "codemirror_mode": {
        "name": "ipython",
        "version": 3
      },
      "file_extension": ".py",
      "mimetype": "text/x-python",
      "name": "python",
      "nbconvert_exporter": "python",
      "pygments_lexer": "ipython3",
      "version": "3.8.5"
    },
    "colab": {
      "name": "02-insurance-linear.ipynb",
      "provenance": [],
      "collapsed_sections": [
        "TnVitODr7gww",
        "m3BVckeR7gw0",
        "Bwgdqq147gw3",
        "tkUHYItK7gw4"
      ],
      "include_colab_link": true
    },
    "widgets": {
      "application/vnd.jupyter.widget-state+json": {
        "c7e684aba36c413aac6b4edcde737dd5": {
          "model_module": "@jupyter-widgets/controls",
          "model_name": "HBoxModel",
          "state": {
            "_view_name": "HBoxView",
            "_dom_classes": [],
            "_model_name": "HBoxModel",
            "_view_module": "@jupyter-widgets/controls",
            "_model_module_version": "1.5.0",
            "_view_count": null,
            "_view_module_version": "1.5.0",
            "box_style": "",
            "layout": "IPY_MODEL_894038e3808b4d0b8e80e9748ee4cb8d",
            "_model_module": "@jupyter-widgets/controls",
            "children": [
              "IPY_MODEL_f38cc56bc5d14f1cbc5408cc47d2e8ab",
              "IPY_MODEL_d203338540484a6ba3355c3a39e97961"
            ]
          }
        },
        "894038e3808b4d0b8e80e9748ee4cb8d": {
          "model_module": "@jupyter-widgets/base",
          "model_name": "LayoutModel",
          "state": {
            "_view_name": "LayoutView",
            "grid_template_rows": null,
            "right": null,
            "justify_content": null,
            "_view_module": "@jupyter-widgets/base",
            "overflow": null,
            "_model_module_version": "1.2.0",
            "_view_count": null,
            "flex_flow": null,
            "width": null,
            "min_width": null,
            "border": null,
            "align_items": null,
            "bottom": null,
            "_model_module": "@jupyter-widgets/base",
            "top": null,
            "grid_column": null,
            "overflow_y": null,
            "overflow_x": null,
            "grid_auto_flow": null,
            "grid_area": null,
            "grid_template_columns": null,
            "flex": null,
            "_model_name": "LayoutModel",
            "justify_items": null,
            "grid_row": null,
            "max_height": null,
            "align_content": null,
            "visibility": null,
            "align_self": null,
            "height": null,
            "min_height": null,
            "padding": null,
            "grid_auto_rows": null,
            "grid_gap": null,
            "max_width": null,
            "order": null,
            "_view_module_version": "1.2.0",
            "grid_template_areas": null,
            "object_position": null,
            "object_fit": null,
            "grid_auto_columns": null,
            "margin": null,
            "display": null,
            "left": null
          }
        },
        "f38cc56bc5d14f1cbc5408cc47d2e8ab": {
          "model_module": "@jupyter-widgets/controls",
          "model_name": "FloatProgressModel",
          "state": {
            "_view_name": "ProgressView",
            "style": "IPY_MODEL_d218879e81a046538345ff2ea962bb53",
            "_dom_classes": [],
            "description": "",
            "_model_name": "FloatProgressModel",
            "bar_style": "info",
            "max": 1,
            "_view_module": "@jupyter-widgets/controls",
            "_model_module_version": "1.5.0",
            "value": 1,
            "_view_count": null,
            "_view_module_version": "1.5.0",
            "orientation": "horizontal",
            "min": 0,
            "description_tooltip": null,
            "_model_module": "@jupyter-widgets/controls",
            "layout": "IPY_MODEL_a2bffe830c474d68ab1e09685785e70f"
          }
        },
        "d203338540484a6ba3355c3a39e97961": {
          "model_module": "@jupyter-widgets/controls",
          "model_name": "HTMLModel",
          "state": {
            "_view_name": "HTMLView",
            "style": "IPY_MODEL_f39696bdda9f4cef9cbf8d9fd48adbe0",
            "_dom_classes": [],
            "description": "",
            "_model_name": "HTMLModel",
            "placeholder": "​",
            "_view_module": "@jupyter-widgets/controls",
            "_model_module_version": "1.5.0",
            "value": " 57344/? [00:20&lt;00:00, 129579.20it/s]",
            "_view_count": null,
            "_view_module_version": "1.5.0",
            "description_tooltip": null,
            "_model_module": "@jupyter-widgets/controls",
            "layout": "IPY_MODEL_b79df6d894764d05ba9d752f1d8df092"
          }
        },
        "d218879e81a046538345ff2ea962bb53": {
          "model_module": "@jupyter-widgets/controls",
          "model_name": "ProgressStyleModel",
          "state": {
            "_view_name": "StyleView",
            "_model_name": "ProgressStyleModel",
            "description_width": "initial",
            "_view_module": "@jupyter-widgets/base",
            "_model_module_version": "1.5.0",
            "_view_count": null,
            "_view_module_version": "1.2.0",
            "bar_color": null,
            "_model_module": "@jupyter-widgets/controls"
          }
        },
        "a2bffe830c474d68ab1e09685785e70f": {
          "model_module": "@jupyter-widgets/base",
          "model_name": "LayoutModel",
          "state": {
            "_view_name": "LayoutView",
            "grid_template_rows": null,
            "right": null,
            "justify_content": null,
            "_view_module": "@jupyter-widgets/base",
            "overflow": null,
            "_model_module_version": "1.2.0",
            "_view_count": null,
            "flex_flow": null,
            "width": null,
            "min_width": null,
            "border": null,
            "align_items": null,
            "bottom": null,
            "_model_module": "@jupyter-widgets/base",
            "top": null,
            "grid_column": null,
            "overflow_y": null,
            "overflow_x": null,
            "grid_auto_flow": null,
            "grid_area": null,
            "grid_template_columns": null,
            "flex": null,
            "_model_name": "LayoutModel",
            "justify_items": null,
            "grid_row": null,
            "max_height": null,
            "align_content": null,
            "visibility": null,
            "align_self": null,
            "height": null,
            "min_height": null,
            "padding": null,
            "grid_auto_rows": null,
            "grid_gap": null,
            "max_width": null,
            "order": null,
            "_view_module_version": "1.2.0",
            "grid_template_areas": null,
            "object_position": null,
            "object_fit": null,
            "grid_auto_columns": null,
            "margin": null,
            "display": null,
            "left": null
          }
        },
        "f39696bdda9f4cef9cbf8d9fd48adbe0": {
          "model_module": "@jupyter-widgets/controls",
          "model_name": "DescriptionStyleModel",
          "state": {
            "_view_name": "StyleView",
            "_model_name": "DescriptionStyleModel",
            "description_width": "",
            "_view_module": "@jupyter-widgets/base",
            "_model_module_version": "1.5.0",
            "_view_count": null,
            "_view_module_version": "1.2.0",
            "_model_module": "@jupyter-widgets/controls"
          }
        },
        "b79df6d894764d05ba9d752f1d8df092": {
          "model_module": "@jupyter-widgets/base",
          "model_name": "LayoutModel",
          "state": {
            "_view_name": "LayoutView",
            "grid_template_rows": null,
            "right": null,
            "justify_content": null,
            "_view_module": "@jupyter-widgets/base",
            "overflow": null,
            "_model_module_version": "1.2.0",
            "_view_count": null,
            "flex_flow": null,
            "width": null,
            "min_width": null,
            "border": null,
            "align_items": null,
            "bottom": null,
            "_model_module": "@jupyter-widgets/base",
            "top": null,
            "grid_column": null,
            "overflow_y": null,
            "overflow_x": null,
            "grid_auto_flow": null,
            "grid_area": null,
            "grid_template_columns": null,
            "flex": null,
            "_model_name": "LayoutModel",
            "justify_items": null,
            "grid_row": null,
            "max_height": null,
            "align_content": null,
            "visibility": null,
            "align_self": null,
            "height": null,
            "min_height": null,
            "padding": null,
            "grid_auto_rows": null,
            "grid_gap": null,
            "max_width": null,
            "order": null,
            "_view_module_version": "1.2.0",
            "grid_template_areas": null,
            "object_position": null,
            "object_fit": null,
            "grid_auto_columns": null,
            "margin": null,
            "display": null,
            "left": null
          }
        }
      }
    }
  },
  "cells": [
    {
      "cell_type": "markdown",
      "metadata": {
        "id": "view-in-github",
        "colab_type": "text"
      },
      "source": [
        "<a href=\"https://colab.research.google.com/github/aayrm5/Zero_to_GANS/blob/main/02_insurance_linear.ipynb\" target=\"_parent\"><img src=\"https://colab.research.google.com/assets/colab-badge.svg\" alt=\"Open In Colab\"/></a>"
      ]
    },
    {
      "cell_type": "code",
      "metadata": {
        "colab": {
          "base_uri": "https://localhost:8080/"
        },
        "id": "LrjO6S5q7gwU",
        "outputId": "fdc513b4-8039-4191-ec4a-c38658790751"
      },
      "source": [
        "# Jovian Commit Essentials\n",
        "# Please retain and execute this cell without modifying the contents for `jovian.commit` to work\n",
        "!pip install jovian --upgrade -q\n",
        "import jovian\n",
        "jovian.utils.colab.set_colab_file_id('13bF95-g0YnK_f7Po-OLuam_9cjqst7lG')"
      ],
      "execution_count": null,
      "outputs": [
        {
          "output_type": "stream",
          "text": [
            "\u001b[?25l\r\u001b[K     |█████                           | 10kB 23.6MB/s eta 0:00:01\r\u001b[K     |██████████                      | 20kB 27.4MB/s eta 0:00:01\r\u001b[K     |██████████████▉                 | 30kB 11.9MB/s eta 0:00:01\r\u001b[K     |███████████████████▉            | 40kB 8.6MB/s eta 0:00:01\r\u001b[K     |████████████████████████▉       | 51kB 4.3MB/s eta 0:00:01\r\u001b[K     |█████████████████████████████▊  | 61kB 4.6MB/s eta 0:00:01\r\u001b[K     |████████████████████████████████| 71kB 3.4MB/s \n",
            "\u001b[?25h  Building wheel for uuid (setup.py) ... \u001b[?25l\u001b[?25hdone\n"
          ],
          "name": "stdout"
        }
      ]
    },
    {
      "cell_type": "markdown",
      "metadata": {
        "_cell_guid": "b1076dfc-b9ad-4769-8c92-a6c4dae69d19",
        "_uuid": "8f2839f25d086af736a60e9eeb907d3b93b6e0e5",
        "id": "lHQtNWPM7gwe"
      },
      "source": [
        "# Insurance cost prediction using linear regression\n",
        "\n",
        "Make a submisson here: https://jovian.ai/learn/deep-learning-with-pytorch-zero-to-gans/assignment/assignment-2-train-your-first-model\n",
        "\n",
        "In this assignment we're going to use information like a person's age, sex, BMI, no. of children and smoking habit to predict the price of yearly medical bills. This kind of model is useful for insurance companies to determine the yearly insurance premium for a person. The dataset for this problem is taken from [Kaggle](https://www.kaggle.com/mirichoi0218/insurance).\n",
        "\n",
        "\n",
        "We will create a model with the following steps:\n",
        "1. Download and explore the dataset\n",
        "2. Prepare the dataset for training\n",
        "3. Create a linear regression model\n",
        "4. Train the model to fit the data\n",
        "5. Make predictions using the trained model\n",
        "\n",
        "\n",
        "This assignment builds upon the concepts from the first 2 lessons. It will help to review these Jupyter notebooks:\n",
        "- PyTorch basics: https://jovian.ai/aakashns/01-pytorch-basics\n",
        "- Linear Regression: https://jovian.ai/aakashns/02-linear-regression\n",
        "- Logistic Regression: https://jovian.ai/aakashns/03-logistic-regression\n",
        "- Linear regression (minimal): https://jovian.ai/aakashns/housing-linear-minimal\n",
        "- Logistic regression (minimal): https://jovian.ai/aakashns/mnist-logistic-minimal\n",
        "\n",
        "As you go through this notebook, you will find a **???** in certain places. Your job is to replace the **???** with appropriate code or values, to ensure that the notebook runs properly end-to-end . In some cases, you'll be required to choose some hyperparameters (learning rate, batch size etc.). Try to experiment with the hypeparameters to get the lowest loss.\n"
      ]
    },
    {
      "cell_type": "code",
      "metadata": {
        "id": "9y0yZdav7gwe"
      },
      "source": [
        "# Uncomment and run the appropriate command for your operating system, if required\n",
        "\n",
        "# Linux / Binder\n",
        "# !pip install numpy matplotlib pandas torch==1.7.0+cpu torchvision==0.8.1+cpu torchaudio==0.7.0 -f https://download.pytorch.org/whl/torch_stable.html\n",
        "\n",
        "# Windows\n",
        "# !pip install numpy matplotlib pandas torch==1.7.0+cpu torchvision==0.8.1+cpu torchaudio==0.7.0 -f https://download.pytorch.org/whl/torch_stable.html\n",
        "\n",
        "# MacOS\n",
        "# !pip install numpy matplotlib pandas torch torchvision torchaudio"
      ],
      "execution_count": null,
      "outputs": []
    },
    {
      "cell_type": "code",
      "metadata": {
        "id": "kwx9IQgc7gwg"
      },
      "source": [
        "import torch\n",
        "import jovian\n",
        "import torchvision\n",
        "import torch.nn as nn\n",
        "import pandas as pd\n",
        "import matplotlib.pyplot as plt\n",
        "import torch.nn.functional as F\n",
        "from torchvision.datasets.utils import download_url\n",
        "from torch.utils.data import DataLoader, TensorDataset, random_split"
      ],
      "execution_count": null,
      "outputs": []
    },
    {
      "cell_type": "code",
      "metadata": {
        "id": "sSbeieqS7gwg"
      },
      "source": [
        "project_name='02-insurance-linear-regression' # will be used by jovian.commit"
      ],
      "execution_count": null,
      "outputs": []
    },
    {
      "cell_type": "markdown",
      "metadata": {
        "id": "gO-cdzkt7gwh"
      },
      "source": [
        "## Step 1: Download and explore the data\n",
        "\n",
        "Let us begin by downloading the data. We'll use the `download_url` function from PyTorch to get the data as a CSV (comma-separated values) file. "
      ]
    },
    {
      "cell_type": "code",
      "metadata": {
        "_cell_guid": "79c7e3d0-c299-4dcb-8224-4455121ee9b0",
        "_uuid": "d629ff2d2480ee46fbb7e2d37f6b5fab8052498a",
        "colab": {
          "base_uri": "https://localhost:8080/",
          "height": 67,
          "referenced_widgets": [
            "c7e684aba36c413aac6b4edcde737dd5",
            "894038e3808b4d0b8e80e9748ee4cb8d",
            "f38cc56bc5d14f1cbc5408cc47d2e8ab",
            "d203338540484a6ba3355c3a39e97961",
            "d218879e81a046538345ff2ea962bb53",
            "a2bffe830c474d68ab1e09685785e70f",
            "f39696bdda9f4cef9cbf8d9fd48adbe0",
            "b79df6d894764d05ba9d752f1d8df092"
          ]
        },
        "id": "eDDLFDK-7gwh",
        "outputId": "b146e9e2-160f-42f3-858d-1f33992980d8"
      },
      "source": [
        "DATASET_URL = \"https://hub.jovian.ml/wp-content/uploads/2020/05/insurance.csv\"\n",
        "DATA_FILENAME = \"insurance.csv\"\n",
        "download_url(DATASET_URL, '.')"
      ],
      "execution_count": null,
      "outputs": [
        {
          "output_type": "stream",
          "text": [
            "Downloading https://hub.jovian.ml/wp-content/uploads/2020/05/insurance.csv to ./insurance.csv\n"
          ],
          "name": "stdout"
        },
        {
          "output_type": "display_data",
          "data": {
            "application/vnd.jupyter.widget-view+json": {
              "model_id": "c7e684aba36c413aac6b4edcde737dd5",
              "version_minor": 0,
              "version_major": 2
            },
            "text/plain": [
              "HBox(children=(FloatProgress(value=1.0, bar_style='info', max=1.0), HTML(value='')))"
            ]
          },
          "metadata": {
            "tags": []
          }
        }
      ]
    },
    {
      "cell_type": "markdown",
      "metadata": {
        "id": "gLPSTli47gwj"
      },
      "source": [
        "To load the dataset into memory, we'll use the `read_csv` function from the `pandas` library. The data will be loaded as a Pandas dataframe. See this short tutorial to learn more: https://data36.com/pandas-tutorial-1-basics-reading-data-files-dataframes-data-selection/"
      ]
    },
    {
      "cell_type": "code",
      "metadata": {
        "colab": {
          "base_uri": "https://localhost:8080/",
          "height": 206
        },
        "id": "3drC8Dg_7gwl",
        "outputId": "31ef0ed5-64cd-45ba-8627-a58508476dab"
      },
      "source": [
        "dataframe_raw = pd.read_csv(DATA_FILENAME)\n",
        "dataframe_raw.head()"
      ],
      "execution_count": null,
      "outputs": [
        {
          "output_type": "execute_result",
          "data": {
            "text/html": [
              "<div>\n",
              "<style scoped>\n",
              "    .dataframe tbody tr th:only-of-type {\n",
              "        vertical-align: middle;\n",
              "    }\n",
              "\n",
              "    .dataframe tbody tr th {\n",
              "        vertical-align: top;\n",
              "    }\n",
              "\n",
              "    .dataframe thead th {\n",
              "        text-align: right;\n",
              "    }\n",
              "</style>\n",
              "<table border=\"1\" class=\"dataframe\">\n",
              "  <thead>\n",
              "    <tr style=\"text-align: right;\">\n",
              "      <th></th>\n",
              "      <th>age</th>\n",
              "      <th>sex</th>\n",
              "      <th>bmi</th>\n",
              "      <th>children</th>\n",
              "      <th>smoker</th>\n",
              "      <th>region</th>\n",
              "      <th>charges</th>\n",
              "    </tr>\n",
              "  </thead>\n",
              "  <tbody>\n",
              "    <tr>\n",
              "      <th>0</th>\n",
              "      <td>19</td>\n",
              "      <td>female</td>\n",
              "      <td>27.900</td>\n",
              "      <td>0</td>\n",
              "      <td>yes</td>\n",
              "      <td>southwest</td>\n",
              "      <td>16884.92400</td>\n",
              "    </tr>\n",
              "    <tr>\n",
              "      <th>1</th>\n",
              "      <td>18</td>\n",
              "      <td>male</td>\n",
              "      <td>33.770</td>\n",
              "      <td>1</td>\n",
              "      <td>no</td>\n",
              "      <td>southeast</td>\n",
              "      <td>1725.55230</td>\n",
              "    </tr>\n",
              "    <tr>\n",
              "      <th>2</th>\n",
              "      <td>28</td>\n",
              "      <td>male</td>\n",
              "      <td>33.000</td>\n",
              "      <td>3</td>\n",
              "      <td>no</td>\n",
              "      <td>southeast</td>\n",
              "      <td>4449.46200</td>\n",
              "    </tr>\n",
              "    <tr>\n",
              "      <th>3</th>\n",
              "      <td>33</td>\n",
              "      <td>male</td>\n",
              "      <td>22.705</td>\n",
              "      <td>0</td>\n",
              "      <td>no</td>\n",
              "      <td>northwest</td>\n",
              "      <td>21984.47061</td>\n",
              "    </tr>\n",
              "    <tr>\n",
              "      <th>4</th>\n",
              "      <td>32</td>\n",
              "      <td>male</td>\n",
              "      <td>28.880</td>\n",
              "      <td>0</td>\n",
              "      <td>no</td>\n",
              "      <td>northwest</td>\n",
              "      <td>3866.85520</td>\n",
              "    </tr>\n",
              "  </tbody>\n",
              "</table>\n",
              "</div>"
            ],
            "text/plain": [
              "   age     sex     bmi  children smoker     region      charges\n",
              "0   19  female  27.900         0    yes  southwest  16884.92400\n",
              "1   18    male  33.770         1     no  southeast   1725.55230\n",
              "2   28    male  33.000         3     no  southeast   4449.46200\n",
              "3   33    male  22.705         0     no  northwest  21984.47061\n",
              "4   32    male  28.880         0     no  northwest   3866.85520"
            ]
          },
          "metadata": {
            "tags": []
          },
          "execution_count": 5
        }
      ]
    },
    {
      "cell_type": "markdown",
      "metadata": {
        "id": "19Z37KN77gwm"
      },
      "source": [
        "We're going to do a slight customization of the data, so that you every participant receives a slightly different version of the dataset. Fill in your name below as a string (enter at least 5 characters)"
      ]
    },
    {
      "cell_type": "code",
      "metadata": {
        "id": "4sMoEba67gwm"
      },
      "source": [
        "your_name = 'Riyaz' # at least 5 characters"
      ],
      "execution_count": null,
      "outputs": []
    },
    {
      "cell_type": "markdown",
      "metadata": {
        "id": "20__7aju7gwn"
      },
      "source": [
        "The `customize_dataset` function will customize the dataset slightly using your name as a source of random numbers."
      ]
    },
    {
      "cell_type": "code",
      "metadata": {
        "id": "782gIh0J7gwn"
      },
      "source": [
        "def customize_dataset(dataframe_raw, rand_str):\n",
        "    dataframe = dataframe_raw.copy(deep=True)\n",
        "    # drop some rows\n",
        "    dataframe = dataframe.sample(int(0.95*len(dataframe)), random_state=int(ord(rand_str[0])))\n",
        "    # scale input\n",
        "    dataframe.bmi = dataframe.bmi * ord(rand_str[1])/100.\n",
        "    # scale target\n",
        "    dataframe.charges = dataframe.charges * ord(rand_str[2])/100.\n",
        "    # drop column\n",
        "    if ord(rand_str[3]) % 2 == 1:\n",
        "        dataframe = dataframe.drop(['region'], axis=1)\n",
        "    return dataframe"
      ],
      "execution_count": null,
      "outputs": []
    },
    {
      "cell_type": "code",
      "metadata": {
        "colab": {
          "base_uri": "https://localhost:8080/",
          "height": 206
        },
        "id": "BOPp2LBx7gwo",
        "outputId": "e95a72df-2323-42e7-b591-f22107168fab"
      },
      "source": [
        "dataframe = customize_dataset(dataframe_raw, your_name)\n",
        "dataframe.head()"
      ],
      "execution_count": null,
      "outputs": [
        {
          "output_type": "execute_result",
          "data": {
            "text/html": [
              "<div>\n",
              "<style scoped>\n",
              "    .dataframe tbody tr th:only-of-type {\n",
              "        vertical-align: middle;\n",
              "    }\n",
              "\n",
              "    .dataframe tbody tr th {\n",
              "        vertical-align: top;\n",
              "    }\n",
              "\n",
              "    .dataframe thead th {\n",
              "        text-align: right;\n",
              "    }\n",
              "</style>\n",
              "<table border=\"1\" class=\"dataframe\">\n",
              "  <thead>\n",
              "    <tr style=\"text-align: right;\">\n",
              "      <th></th>\n",
              "      <th>age</th>\n",
              "      <th>sex</th>\n",
              "      <th>bmi</th>\n",
              "      <th>children</th>\n",
              "      <th>smoker</th>\n",
              "      <th>charges</th>\n",
              "    </tr>\n",
              "  </thead>\n",
              "  <tbody>\n",
              "    <tr>\n",
              "      <th>457</th>\n",
              "      <td>57</td>\n",
              "      <td>female</td>\n",
              "      <td>32.01975</td>\n",
              "      <td>0</td>\n",
              "      <td>no</td>\n",
              "      <td>14327.337811</td>\n",
              "    </tr>\n",
              "    <tr>\n",
              "      <th>1050</th>\n",
              "      <td>44</td>\n",
              "      <td>female</td>\n",
              "      <td>38.80275</td>\n",
              "      <td>1</td>\n",
              "      <td>no</td>\n",
              "      <td>9707.993894</td>\n",
              "    </tr>\n",
              "    <tr>\n",
              "      <th>56</th>\n",
              "      <td>58</td>\n",
              "      <td>female</td>\n",
              "      <td>33.41625</td>\n",
              "      <td>2</td>\n",
              "      <td>no</td>\n",
              "      <td>16464.916187</td>\n",
              "    </tr>\n",
              "    <tr>\n",
              "      <th>311</th>\n",
              "      <td>19</td>\n",
              "      <td>female</td>\n",
              "      <td>25.93500</td>\n",
              "      <td>0</td>\n",
              "      <td>no</td>\n",
              "      <td>2102.224960</td>\n",
              "    </tr>\n",
              "    <tr>\n",
              "      <th>1288</th>\n",
              "      <td>20</td>\n",
              "      <td>male</td>\n",
              "      <td>41.37000</td>\n",
              "      <td>2</td>\n",
              "      <td>yes</td>\n",
              "      <td>46396.924860</td>\n",
              "    </tr>\n",
              "  </tbody>\n",
              "</table>\n",
              "</div>"
            ],
            "text/plain": [
              "      age     sex       bmi  children smoker       charges\n",
              "457    57  female  32.01975         0     no  14327.337811\n",
              "1050   44  female  38.80275         1     no   9707.993894\n",
              "56     58  female  33.41625         2     no  16464.916187\n",
              "311    19  female  25.93500         0     no   2102.224960\n",
              "1288   20    male  41.37000         2    yes  46396.924860"
            ]
          },
          "metadata": {
            "tags": []
          },
          "execution_count": 8
        }
      ]
    },
    {
      "cell_type": "markdown",
      "metadata": {
        "id": "McZNi5j17gwo"
      },
      "source": [
        "Let us answer some basic questions about the dataset. \n",
        "\n",
        "\n",
        "**Q: How many rows does the dataset have?**"
      ]
    },
    {
      "cell_type": "code",
      "metadata": {
        "colab": {
          "base_uri": "https://localhost:8080/"
        },
        "id": "l-adcTrz7gwo",
        "outputId": "f5f5067c-878d-4868-d738-2404da0a47aa"
      },
      "source": [
        "num_rows = dataframe.shape[0]\n",
        "print(num_rows)"
      ],
      "execution_count": null,
      "outputs": [
        {
          "output_type": "stream",
          "text": [
            "1271\n"
          ],
          "name": "stdout"
        }
      ]
    },
    {
      "cell_type": "markdown",
      "metadata": {
        "id": "qy-_T5Mh7gwo"
      },
      "source": [
        "**Q: How many columns doe the dataset have**"
      ]
    },
    {
      "cell_type": "code",
      "metadata": {
        "colab": {
          "base_uri": "https://localhost:8080/"
        },
        "id": "Kf4dG3U47gwo",
        "outputId": "44d25566-164c-42c3-c6c1-cd0142671016"
      },
      "source": [
        "num_cols = dataframe.shape[1]\n",
        "print(num_cols)"
      ],
      "execution_count": null,
      "outputs": [
        {
          "output_type": "stream",
          "text": [
            "6\n"
          ],
          "name": "stdout"
        }
      ]
    },
    {
      "cell_type": "markdown",
      "metadata": {
        "id": "hDlICYXn7gwp"
      },
      "source": [
        "**Q: What are the column titles of the input variables?**"
      ]
    },
    {
      "cell_type": "code",
      "metadata": {
        "colab": {
          "base_uri": "https://localhost:8080/"
        },
        "id": "WxehLpH27gwp",
        "outputId": "b3e2139a-4e93-4c6c-c7cb-8ff88576594e"
      },
      "source": [
        "input_cols = list(dataframe.columns[:-1])\r\n",
        "input_cols"
      ],
      "execution_count": null,
      "outputs": [
        {
          "output_type": "execute_result",
          "data": {
            "text/plain": [
              "['age', 'sex', 'bmi', 'children', 'smoker']"
            ]
          },
          "metadata": {
            "tags": []
          },
          "execution_count": 11
        }
      ]
    },
    {
      "cell_type": "markdown",
      "metadata": {
        "id": "DXYcCqJ97gwp"
      },
      "source": [
        "**Q: Which of the input columns are non-numeric or categorial variables ?**\n",
        "\n",
        "Hint: `sex` is one of them. List the columns that are not numbers."
      ]
    },
    {
      "cell_type": "code",
      "metadata": {
        "colab": {
          "base_uri": "https://localhost:8080/"
        },
        "id": "ggCW4JfP7gwq",
        "outputId": "dd38f2db-c31f-4924-fb95-90879f063098"
      },
      "source": [
        "categorical_cols = list(dataframe.select_dtypes('O').columns)\r\n",
        "categorical_cols"
      ],
      "execution_count": null,
      "outputs": [
        {
          "output_type": "execute_result",
          "data": {
            "text/plain": [
              "['sex', 'smoker']"
            ]
          },
          "metadata": {
            "tags": []
          },
          "execution_count": 12
        }
      ]
    },
    {
      "cell_type": "markdown",
      "metadata": {
        "id": "YMcDdUvL7gwq"
      },
      "source": [
        "**Q: What are the column titles of output/target variable(s)?**"
      ]
    },
    {
      "cell_type": "code",
      "metadata": {
        "colab": {
          "base_uri": "https://localhost:8080/"
        },
        "id": "H7khA6so7gwr",
        "outputId": "6f71b43b-2787-409f-a239-ca5103aaa322"
      },
      "source": [
        "output_cols = [dataframe.columns[-1]]\r\n",
        "output_cols"
      ],
      "execution_count": null,
      "outputs": [
        {
          "output_type": "execute_result",
          "data": {
            "text/plain": [
              "['charges']"
            ]
          },
          "metadata": {
            "tags": []
          },
          "execution_count": 41
        }
      ]
    },
    {
      "cell_type": "markdown",
      "metadata": {
        "id": "DHm25Hk37gwr"
      },
      "source": [
        "**Q: (Optional) What is the minimum, maximum and average value of the `charges` column? Can you show the distribution of values in a graph?**\n",
        "Use this data visualization cheatsheet for referece: https://jovian.ml/aakashns/dataviz-cheatsheet"
      ]
    },
    {
      "cell_type": "code",
      "metadata": {
        "colab": {
          "base_uri": "https://localhost:8080/",
          "height": 462
        },
        "id": "uQmkPMiv7gws",
        "outputId": "2aca82f7-2aea-4e21-c957-6b4567939305"
      },
      "source": [
        "# Write your answer here\r\n",
        "print(dataframe.agg({'charges':['min','max','mean']}))\r\n",
        "import seaborn as sns\r\n",
        "sns.set_style('darkgrid')\r\n",
        "plt.figure(figsize=(10,6))\r\n",
        "plt.hist(dataframe['charges'], bins=50, ec='black')\r\n",
        "plt.xlabel('Charges')\r\n",
        "plt.show()"
      ],
      "execution_count": null,
      "outputs": [
        {
          "output_type": "stream",
          "text": [
            "           charges\n",
            "min    1357.467419\n",
            "max   77162.217892\n",
            "mean  15876.391392\n"
          ],
          "name": "stdout"
        },
        {
          "output_type": "display_data",
          "data": {
            "image/png": "[encoded data removed]",
            "text/plain": [
              "<Figure size 720x432 with 1 Axes>"
            ]
          },
          "metadata": {
            "tags": []
          }
        }
      ]
    },
    {
      "cell_type": "markdown",
      "metadata": {
        "id": "sQJmvUZf7gws"
      },
      "source": [
        "Remember to commit your notebook to Jovian after every step, so that you don't lose your work."
      ]
    },
    {
      "cell_type": "code",
      "metadata": {
        "id": "h2Fubb5N7gws"
      },
      "source": [
        "!pip install jovian --upgrade -q"
      ],
      "execution_count": null,
      "outputs": []
    },
    {
      "cell_type": "code",
      "metadata": {
        "id": "dfhAudp77gws"
      },
      "source": [
        "import jovian"
      ],
      "execution_count": null,
      "outputs": []
    },
    {
      "cell_type": "code",
      "metadata": {
        "colab": {
          "base_uri": "https://localhost:8080/",
          "height": 110
        },
        "id": "ykEJPHRx7gws",
        "outputId": "eea22bb7-25fe-41d3-f8ce-a2fb9b1b0f60"
      },
      "source": [
        "jovian.commit(project='my-project')"
      ],
      "execution_count": null,
      "outputs": [
        {
          "output_type": "stream",
          "text": [
            "[jovian] Detected Colab notebook...\u001b[0m\n",
            "[jovian] Uploading colab notebook to Jovian...\u001b[0m\n",
            "[jovian] Capturing environment..\u001b[0m\n",
            "[jovian] Committed successfully! https://jovian.ai/aayrm5/my-project\u001b[0m\n"
          ],
          "name": "stdout"
        },
        {
          "output_type": "execute_result",
          "data": {
            "application/vnd.google.colaboratory.intrinsic+json": {
              "type": "string"
            },
            "text/plain": [
              "'https://jovian.ai/aayrm5/my-project'"
            ]
          },
          "metadata": {
            "tags": []
          },
          "execution_count": 42
        }
      ]
    },
    {
      "cell_type": "markdown",
      "metadata": {
        "id": "5wMFa_vH7gwt"
      },
      "source": [
        "## Step 2: Prepare the dataset for training\n",
        "\n",
        "We need to convert the data from the Pandas dataframe into a PyTorch tensors for training. To do this, the first step is to convert it numpy arrays. If you've filled out `input_cols`, `categorial_cols` and `output_cols` correctly, this following function will perform the conversion to numpy arrays."
      ]
    },
    {
      "cell_type": "code",
      "metadata": {
        "id": "xzc-p4rQ7gwt"
      },
      "source": [
        "def dataframe_to_arrays(dataframe):\n",
        "    # Make a copy of the original dataframe\n",
        "    dataframe1 = dataframe.copy(deep=True)\n",
        "    # Convert non-numeric categorical columns to numbers\n",
        "    for col in categorical_cols:\n",
        "        dataframe1[col] = dataframe1[col].astype('category').cat.codes\n",
        "    # Extract input & outupts as numpy arrays\n",
        "    inputs_array = dataframe1[input_cols].to_numpy()\n",
        "    targets_array = dataframe1[output_cols].to_numpy()\n",
        "    return inputs_array, targets_array"
      ],
      "execution_count": null,
      "outputs": []
    },
    {
      "cell_type": "markdown",
      "metadata": {
        "id": "YzNknZLY7gwt"
      },
      "source": [
        "Read through the [Pandas documentation](https://pandas.pydata.org/pandas-docs/stable/user_guide/categorical.html) to understand how we're converting categorical variables into numbers."
      ]
    },
    {
      "cell_type": "code",
      "metadata": {
        "colab": {
          "base_uri": "https://localhost:8080/"
        },
        "id": "p9pwgJnZ7gwt",
        "outputId": "1f7b4702-b108-4994-a513-c0ee87dd15c2"
      },
      "source": [
        "inputs_array, targets_array = dataframe_to_arrays(dataframe)\n",
        "inputs_array, targets_array"
      ],
      "execution_count": null,
      "outputs": [
        {
          "output_type": "execute_result",
          "data": {
            "text/plain": [
              "(array([[57.     ,  0.     , 32.01975,  0.     ,  0.     ],\n",
              "        [44.     ,  0.     , 38.80275,  1.     ,  0.     ],\n",
              "        [58.     ,  0.     , 33.41625,  2.     ,  0.     ],\n",
              "        ...,\n",
              "        [59.     ,  0.     , 36.54   ,  2.     ,  0.     ],\n",
              "        [41.     ,  1.     , 30.24   ,  1.     ,  0.     ],\n",
              "        [36.     ,  0.     , 31.521  ,  0.     ,  0.     ]]),\n",
              " array([[14327.3378105],\n",
              "        [ 9707.9938945],\n",
              "        [16464.9161875],\n",
              "        ...,\n",
              "        [44661.8357163],\n",
              "        [ 7601.50435  ],\n",
              "        [ 6379.332718 ]]))"
            ]
          },
          "metadata": {
            "tags": []
          },
          "execution_count": 43
        }
      ]
    },
    {
      "cell_type": "markdown",
      "metadata": {
        "id": "sPz42ye07gwt"
      },
      "source": [
        "**Q: Convert the numpy arrays `inputs_array` and `targets_array` into PyTorch tensors. Make sure that the data type is `torch.float32`.**"
      ]
    },
    {
      "cell_type": "code",
      "metadata": {
        "colab": {
          "base_uri": "https://localhost:8080/"
        },
        "id": "HgzlRu947gwt",
        "outputId": "ef25508b-2b44-4661-ae53-8e7ca2db585a"
      },
      "source": [
        "inputs = torch.from_numpy(inputs_array).type(torch.float32)\n",
        "targets = torch.from_numpy(targets_array).type(torch.float32)\n",
        "inputs[:2], targets[:2]"
      ],
      "execution_count": null,
      "outputs": [
        {
          "output_type": "execute_result",
          "data": {
            "text/plain": [
              "(tensor([[57.0000,  0.0000, 32.0197,  0.0000,  0.0000],\n",
              "         [44.0000,  0.0000, 38.8027,  1.0000,  0.0000]]), tensor([[14327.3379],\n",
              "         [ 9707.9941]]))"
            ]
          },
          "metadata": {
            "tags": []
          },
          "execution_count": 44
        }
      ]
    },
    {
      "cell_type": "code",
      "metadata": {
        "colab": {
          "base_uri": "https://localhost:8080/"
        },
        "id": "G5uiId1W7gwu",
        "outputId": "c03b7786-496c-4ec7-b288-56c31dccaa08"
      },
      "source": [
        "inputs.dtype, targets.dtype"
      ],
      "execution_count": null,
      "outputs": [
        {
          "output_type": "execute_result",
          "data": {
            "text/plain": [
              "(torch.float32, torch.float32)"
            ]
          },
          "metadata": {
            "tags": []
          },
          "execution_count": 21
        }
      ]
    },
    {
      "cell_type": "markdown",
      "metadata": {
        "id": "G-eFoqbG7gwu"
      },
      "source": [
        "Next, we need to create PyTorch datasets & data loaders for training & validation. We'll start by creating a `TensorDataset`."
      ]
    },
    {
      "cell_type": "code",
      "metadata": {
        "colab": {
          "base_uri": "https://localhost:8080/"
        },
        "id": "CMMhuY2y7gwu",
        "outputId": "f68544b9-75e1-4a7e-c284-a4b855409d1a"
      },
      "source": [
        "dataset = TensorDataset(inputs, targets)\r\n",
        "dataset[:5]"
      ],
      "execution_count": null,
      "outputs": [
        {
          "output_type": "execute_result",
          "data": {
            "text/plain": [
              "(tensor([[57.0000,  0.0000, 32.0197,  0.0000,  0.0000],\n",
              "         [44.0000,  0.0000, 38.8027,  1.0000,  0.0000],\n",
              "         [58.0000,  0.0000, 33.4162,  2.0000,  0.0000],\n",
              "         [19.0000,  0.0000, 25.9350,  0.0000,  0.0000],\n",
              "         [20.0000,  1.0000, 41.3700,  2.0000,  1.0000]]), tensor([[14327.3379],\n",
              "         [ 9707.9941],\n",
              "         [16464.9160],\n",
              "         [ 2102.2249],\n",
              "         [46396.9258]]))"
            ]
          },
          "metadata": {
            "tags": []
          },
          "execution_count": 45
        }
      ]
    },
    {
      "cell_type": "markdown",
      "metadata": {
        "id": "JNPwLQ1O7gwu"
      },
      "source": [
        "**Q: Pick a number between `0.1` and `0.2` to determine the fraction of data that will be used for creating the validation set. Then use `random_split` to create training & validation datasets.**"
      ]
    },
    {
      "cell_type": "code",
      "metadata": {
        "id": "grasUJCt7gwu"
      },
      "source": [
        "val_percent = 0.125 # between 0.1 and 0.2\n",
        "val_size = int(num_rows * val_percent)\n",
        "train_size = num_rows - val_size\n",
        "\n",
        "\n",
        "train_ds, val_ds = random_split(dataset, [train_size, val_size]) # Use the random_split function to split dataset into 2 parts of the desired length"
      ],
      "execution_count": null,
      "outputs": []
    },
    {
      "cell_type": "markdown",
      "metadata": {
        "id": "2YmRUx3O7gwv"
      },
      "source": [
        "Finally, we can create data loaders for training & validation.\n",
        "\n",
        "**Q: Pick a batch size for the data loader.**"
      ]
    },
    {
      "cell_type": "code",
      "metadata": {
        "id": "at24m7pF7gwv"
      },
      "source": [
        "batch_size = 120"
      ],
      "execution_count": null,
      "outputs": []
    },
    {
      "cell_type": "code",
      "metadata": {
        "colab": {
          "base_uri": "https://localhost:8080/"
        },
        "id": "ii_V_k157gwv",
        "outputId": "9245cb3d-c114-4550-a457-e1ed12c02715"
      },
      "source": [
        "train_loader = DataLoader(train_ds, batch_size, shuffle=True)\n",
        "val_loader = DataLoader(val_ds, batch_size)\n",
        "len(train_loader), len(val_loader)"
      ],
      "execution_count": null,
      "outputs": [
        {
          "output_type": "execute_result",
          "data": {
            "text/plain": [
              "(10, 2)"
            ]
          },
          "metadata": {
            "tags": []
          },
          "execution_count": 75
        }
      ]
    },
    {
      "cell_type": "markdown",
      "metadata": {
        "id": "qXoiOiWO7gwv"
      },
      "source": [
        "Let's look at a batch of data to verify everything is working fine so far."
      ]
    },
    {
      "cell_type": "code",
      "metadata": {
        "colab": {
          "base_uri": "https://localhost:8080/"
        },
        "id": "9wIVbe607gww",
        "outputId": "9c36baf4-6000-4922-dd4b-5b6cd13cda4d"
      },
      "source": [
        "for xb, yb in train_loader:\n",
        "    print(\"inputs:\", xb)\n",
        "    print(\"targets:\", yb)\n",
        "    break"
      ],
      "execution_count": null,
      "outputs": [
        {
          "output_type": "stream",
          "text": [
            "inputs: tensor([[23.0000,  1.0000, 38.9550,  3.0000,  0.0000],\n",
            "        [27.0000,  0.0000, 32.1195,  1.0000,  0.0000],\n",
            "        [42.0000,  0.0000, 34.8128,  1.0000,  0.0000],\n",
            "        [46.0000,  1.0000, 23.4150,  0.0000,  0.0000],\n",
            "        [33.0000,  1.0000, 37.0073,  0.0000,  0.0000],\n",
            "        [52.0000,  0.0000, 26.5650,  2.0000,  1.0000],\n",
            "        [51.0000,  0.0000, 39.6165,  1.0000,  0.0000],\n",
            "        [19.0000,  1.0000, 21.7350,  0.0000,  0.0000],\n",
            "        [20.0000,  1.0000, 37.0755,  1.0000,  0.0000],\n",
            "        [19.0000,  1.0000, 28.6283,  2.0000,  0.0000],\n",
            "        [57.0000,  1.0000, 35.7105,  0.0000,  0.0000],\n",
            "        [27.0000,  0.0000, 21.0473,  3.0000,  1.0000],\n",
            "        [55.0000,  1.0000, 35.5740,  3.0000,  0.0000],\n",
            "        [47.0000,  1.0000, 33.9150,  1.0000,  0.0000],\n",
            "        [26.0000,  0.0000, 31.4160,  1.0000,  0.0000],\n",
            "        [18.0000,  1.0000, 45.1605,  0.0000,  0.0000],\n",
            "        [34.0000,  0.0000, 39.9000,  3.0000,  0.0000],\n",
            "        [32.0000,  0.0000, 25.8300,  0.0000,  1.0000],\n",
            "        [49.0000,  0.0000, 36.5085,  1.0000,  0.0000],\n",
            "        [40.0000,  0.0000, 34.6500,  3.0000,  0.0000],\n",
            "        [49.0000,  0.0000, 33.4950,  5.0000,  0.0000],\n",
            "        [52.0000,  0.0000, 25.3365,  1.0000,  1.0000],\n",
            "        [41.0000,  0.0000, 38.9550,  2.0000,  0.0000],\n",
            "        [59.0000,  1.0000, 38.9550,  1.0000,  0.0000],\n",
            "        [30.0000,  1.0000, 32.9700,  1.0000,  0.0000],\n",
            "        [42.0000,  1.0000, 39.0390,  2.0000,  0.0000],\n",
            "        [42.0000,  0.0000, 38.0047,  1.0000,  0.0000],\n",
            "        [61.0000,  1.0000, 33.1485,  0.0000,  0.0000],\n",
            "        [50.0000,  0.0000, 33.1800,  2.0000,  0.0000],\n",
            "        [60.0000,  1.0000, 32.9175,  3.0000,  1.0000],\n",
            "        [25.0000,  1.0000, 32.1195,  0.0000,  0.0000],\n",
            "        [59.0000,  1.0000, 26.7330,  0.0000,  0.0000],\n",
            "        [38.0000,  0.0000, 29.2267,  2.0000,  0.0000],\n",
            "        [46.0000,  1.0000, 41.3963,  1.0000,  0.0000],\n",
            "        [47.0000,  1.0000, 31.3215,  3.0000,  0.0000],\n",
            "        [20.0000,  0.0000, 33.5160,  0.0000,  0.0000],\n",
            "        [41.0000,  1.0000, 22.8690,  1.0000,  0.0000],\n",
            "        [63.0000,  0.0000, 38.1150,  0.0000,  0.0000],\n",
            "        [50.0000,  0.0000, 28.4287,  1.0000,  0.0000],\n",
            "        [18.0000,  1.0000, 24.3705,  0.0000,  0.0000],\n",
            "        [57.0000,  1.0000, 42.9922,  0.0000,  0.0000],\n",
            "        [32.0000,  1.0000, 30.3240,  0.0000,  0.0000],\n",
            "        [19.0000,  1.0000, 26.4338,  0.0000,  0.0000],\n",
            "        [30.0000,  0.0000, 41.0025,  3.0000,  1.0000],\n",
            "        [49.0000,  0.0000, 24.3390,  2.0000,  0.0000],\n",
            "        [36.0000,  1.0000, 30.3240,  3.0000,  0.0000],\n",
            "        [19.0000,  1.0000, 28.9800,  0.0000,  0.0000],\n",
            "        [23.0000,  0.0000, 36.7080,  3.0000,  0.0000],\n",
            "        [48.0000,  0.0000, 30.3450,  0.0000,  0.0000],\n",
            "        [60.0000,  0.0000, 19.2518,  0.0000,  0.0000],\n",
            "        [45.0000,  0.0000, 41.9948,  3.0000,  0.0000],\n",
            "        [33.0000,  0.0000, 37.3065,  0.0000,  1.0000],\n",
            "        [46.0000,  0.0000, 29.4525,  1.0000,  0.0000],\n",
            "        [25.0000,  1.0000, 28.0298,  4.0000,  0.0000],\n",
            "        [58.0000,  1.0000, 31.8202,  0.0000,  0.0000],\n",
            "        [47.0000,  1.0000, 20.5485,  1.0000,  0.0000],\n",
            "        [42.0000,  1.0000, 25.8353,  2.0000,  1.0000],\n",
            "        [26.0000,  0.0000, 44.5200,  1.0000,  0.0000],\n",
            "        [43.0000,  1.0000, 36.7080,  1.0000,  1.0000],\n",
            "        [21.0000,  0.0000, 41.4645,  0.0000,  0.0000],\n",
            "        [19.0000,  0.0000, 36.4350,  2.0000,  1.0000],\n",
            "        [46.0000,  0.0000, 29.1270,  0.0000,  0.0000],\n",
            "        [50.0000,  0.0000, 28.7280,  0.0000,  0.0000],\n",
            "        [36.0000,  0.0000, 23.2418,  3.0000,  0.0000],\n",
            "        [23.0000,  0.0000, 29.4000,  0.0000,  0.0000],\n",
            "        [39.0000,  0.0000, 24.4387,  3.0000,  0.0000],\n",
            "        [59.0000,  1.0000, 31.1850,  2.0000,  0.0000],\n",
            "        [25.0000,  1.0000, 25.0950,  5.0000,  0.0000],\n",
            "        [39.0000,  0.0000, 27.6308,  2.0000,  0.0000],\n",
            "        [26.0000,  1.0000, 30.6075,  1.0000,  0.0000],\n",
            "        [43.0000,  0.0000, 28.2292,  0.0000,  1.0000],\n",
            "        [61.0000,  0.0000, 37.7055,  0.0000,  0.0000],\n",
            "        [50.0000,  0.0000, 29.2215,  3.0000,  0.0000],\n",
            "        [59.0000,  0.0000, 34.0148,  3.0000,  0.0000],\n",
            "        [64.0000,  1.0000, 42.5040,  0.0000,  0.0000],\n",
            "        [42.0000,  1.0000, 28.2450,  0.0000,  0.0000],\n",
            "        [43.0000,  1.0000, 39.9630,  2.0000,  1.0000],\n",
            "        [21.0000,  0.0000, 22.9425,  1.0000,  1.0000],\n",
            "        [51.0000,  1.0000, 23.5410,  0.0000,  0.0000],\n",
            "        [18.0000,  1.0000, 30.8385,  1.0000,  0.0000],\n",
            "        [23.0000,  0.0000, 34.4190,  2.0000,  1.0000],\n",
            "        [42.0000,  0.0000, 24.5385,  0.0000,  1.0000],\n",
            "        [28.0000,  1.0000, 28.3290,  2.0000,  0.0000],\n",
            "        [19.0000,  1.0000, 29.8200,  1.0000,  0.0000],\n",
            "        [53.0000,  1.0000, 37.9050,  1.0000,  0.0000],\n",
            "        [59.0000,  0.0000, 24.8377,  0.0000,  1.0000],\n",
            "        [61.0000,  1.0000, 35.6107,  0.0000,  0.0000],\n",
            "        [19.0000,  1.0000, 37.3065,  0.0000,  0.0000],\n",
            "        [45.0000,  1.0000, 32.0197,  2.0000,  0.0000],\n",
            "        [46.0000,  0.0000, 35.4113,  1.0000,  0.0000],\n",
            "        [60.0000,  0.0000, 25.7565,  0.0000,  0.0000],\n",
            "        [62.0000,  0.0000, 38.7030,  1.0000,  0.0000],\n",
            "        [60.0000,  1.0000, 30.0247,  0.0000,  0.0000],\n",
            "        [38.0000,  1.0000, 29.2267,  2.0000,  0.0000],\n",
            "        [48.0000,  0.0000, 43.2915,  4.0000,  0.0000],\n",
            "        [47.0000,  1.0000, 49.8960,  1.0000,  0.0000],\n",
            "        [18.0000,  0.0000, 38.6925,  0.0000,  1.0000],\n",
            "        [36.0000,  0.0000, 20.8477,  0.0000,  0.0000],\n",
            "        [22.0000,  0.0000, 29.4525,  0.0000,  0.0000],\n",
            "        [63.0000,  0.0000, 22.7430,  0.0000,  0.0000],\n",
            "        [42.0000,  0.0000, 39.7950,  0.0000,  0.0000],\n",
            "        [56.0000,  0.0000, 30.2243,  0.0000,  0.0000],\n",
            "        [18.0000,  1.0000, 40.0785,  0.0000,  1.0000],\n",
            "        [22.0000,  1.0000, 55.2090,  1.0000,  1.0000],\n",
            "        [31.0000,  1.0000, 38.1150,  2.0000,  1.0000],\n",
            "        [21.0000,  1.0000, 27.3315,  0.0000,  0.0000],\n",
            "        [56.0000,  1.0000, 41.5800,  0.0000,  0.0000],\n",
            "        [55.0000,  0.0000, 28.1400,  1.0000,  0.0000],\n",
            "        [48.0000,  1.0000, 31.0800,  0.0000,  0.0000],\n",
            "        [20.0000,  0.0000, 32.1195,  0.0000,  0.0000],\n",
            "        [58.0000,  1.0000, 30.0247,  0.0000,  0.0000],\n",
            "        [35.0000,  1.0000, 36.5085,  2.0000,  0.0000],\n",
            "        [27.0000,  0.0000, 22.5435,  0.0000,  0.0000],\n",
            "        [43.0000,  0.0000, 26.5335,  1.0000,  1.0000],\n",
            "        [28.0000,  0.0000, 27.2318,  1.0000,  0.0000],\n",
            "        [52.0000,  0.0000, 32.4188,  0.0000,  0.0000],\n",
            "        [20.0000,  1.0000, 34.0148,  1.0000,  0.0000],\n",
            "        [51.0000,  1.0000, 33.9150,  1.0000,  0.0000],\n",
            "        [42.0000,  0.0000, 26.5650,  1.0000,  0.0000],\n",
            "        [18.0000,  1.0000, 43.1970,  0.0000,  0.0000]])\n",
            "targets: tensor([[ 4353.0913],\n",
            "        [20323.6582],\n",
            "        [ 9243.6953],\n",
            "        [ 8647.9971],\n",
            "        [15009.9033],\n",
            "        [29847.5762],\n",
            "        [11951.9053],\n",
            "        [ 1503.8074],\n",
            "        [33546.3906],\n",
            "        [27217.3281],\n",
            "        [13741.5596],\n",
            "        [19868.7988],\n",
            "        [14504.4736],\n",
            "        [ 9755.9443],\n",
            "        [ 4105.5020],\n",
            "        [ 1390.7690],\n",
            "        [ 7497.7021],\n",
            "        [21170.5293],\n",
            "        [11596.5107],\n",
            "        [ 9296.0303],\n",
            "        [13979.0137],\n",
            "        [28904.0723],\n",
            "        [ 8919.8438],\n",
            "        [14940.0781],\n",
            "        [ 4427.8086],\n",
            "        [ 8666.0352],\n",
            "        [ 9006.8076],\n",
            "        [15194.7021],\n",
            "        [12243.2930],\n",
            "        [55817.9375],\n",
            "        [ 3300.1479],\n",
            "        [14671.2412],\n",
            "        [ 8645.2842],\n",
            "        [10094.9199],\n",
            "        [11640.6006],\n",
            "        [ 2736.4983],\n",
            "        [ 7589.6973],\n",
            "        [16803.5176],\n",
            "        [12228.4229],\n",
            "        [ 1357.4674],\n",
            "        [13995.2236],\n",
            "        [ 4678.8950],\n",
            "        [ 1974.7639],\n",
            "        [49528.2383],\n",
            "        [12289.7080],\n",
            "        [ 8165.7954],\n",
            "        [ 1515.4125],\n",
            "        [ 5404.6118],\n",
            "        [10015.8027],\n",
            "        [15977.1855],\n",
            "        [11742.6484],\n",
            "        [66713.8359],\n",
            "        [ 9962.0479],\n",
            "        [ 5902.3569],\n",
            "        [14445.2900],\n",
            "        [10197.9639],\n",
            "        [25723.8477],\n",
            "        [ 4126.4922],\n",
            "        [49651.4062],\n",
            "        [ 2452.6387],\n",
            "        [44041.0664],\n",
            "        [ 9712.2666],\n",
            "        [31044.4570],\n",
            "        [ 8746.1406],\n",
            "        [15883.2793],\n",
            "        [ 9663.6348],\n",
            "        [15640.3223],\n",
            "        [ 6146.9160],\n",
            "        [ 8714.0576],\n",
            "        [ 3512.5168],\n",
            "        [26346.9297],\n",
            "        [16499.1211],\n",
            "        [23896.7539],\n",
            "        [17654.6641],\n",
            "        [16735.6484],\n",
            "        [ 7223.3647],\n",
            "        [51498.1211],\n",
            "        [18584.5156],\n",
            "        [11327.2051],\n",
            "        [ 2080.5178],\n",
            "        [43585.4219],\n",
            "        [24157.3438],\n",
            "        [ 5366.4639],\n",
            "        [ 2229.4480],\n",
            "        [12203.8740],\n",
            "        [31071.3223],\n",
            "        [15904.0762],\n",
            "        [ 1992.1799],\n",
            "        [10180.2900],\n",
            "        [10677.0225],\n",
            "        [15282.1748],\n",
            "        [38260.2031],\n",
            "        [36614.5938],\n",
            "        [ 7811.5938],\n",
            "        [13350.7305],\n",
            "        [ 9781.5430],\n",
            "        [43740.8750],\n",
            "        [ 6604.2363],\n",
            "        [ 2608.3745],\n",
            "        [17484.3242],\n",
            "        [ 7833.5557],\n",
            "        [14106.6387],\n",
            "        [43932.4375],\n",
            "        [53846.6914],\n",
            "        [46840.3086],\n",
            "        [ 2543.7402],\n",
            "        [12827.7090],\n",
            "        [42543.7617],\n",
            "        [25690.9414],\n",
            "        [ 2976.2612],\n",
            "        [14200.4141],\n",
            "        [ 6932.0962],\n",
            "        [ 4057.6990],\n",
            "        [26343.3242],\n",
            "        [ 5001.7065],\n",
            "        [27885.1348],\n",
            "        [ 2858.2971],\n",
            "        [12056.5127],\n",
            "        [ 8525.0537],\n",
            "        [ 1387.6239]])\n"
          ],
          "name": "stdout"
        }
      ]
    },
    {
      "cell_type": "markdown",
      "metadata": {
        "id": "WLmky_4M7gww"
      },
      "source": [
        "Let's save our work by committing to Jovian."
      ]
    },
    {
      "cell_type": "code",
      "metadata": {
        "colab": {
          "base_uri": "https://localhost:8080/",
          "height": 110
        },
        "id": "TmIU60EC7gww",
        "outputId": "594b6a9d-5521-470c-b76c-b9a64ffd9ce1"
      },
      "source": [
        "jovian.commit(project=project_name, environment=None)"
      ],
      "execution_count": null,
      "outputs": [
        {
          "output_type": "stream",
          "text": [
            "[jovian] Detected Colab notebook...\u001b[0m\n",
            "[jovian] Uploading colab notebook to Jovian...\u001b[0m\n",
            "[jovian] Attaching records (metrics, hyperparameters, dataset etc.)\u001b[0m\n",
            "[jovian] Committed successfully! https://jovian.ai/aayrm5/02-insurance-linear-regression\u001b[0m\n"
          ],
          "name": "stdout"
        },
        {
          "output_type": "execute_result",
          "data": {
            "application/vnd.google.colaboratory.intrinsic+json": {
              "type": "string"
            },
            "text/plain": [
              "'https://jovian.ai/aayrm5/02-insurance-linear-regression'"
            ]
          },
          "metadata": {
            "tags": []
          },
          "execution_count": 77
        }
      ]
    },
    {
      "cell_type": "markdown",
      "metadata": {
        "id": "TnVitODr7gww"
      },
      "source": [
        "## Step 3: Create a Linear Regression Model\n",
        "\n",
        "Our model itself is a fairly straightforward linear regression (we'll build more complex models in the next assignment). \n"
      ]
    },
    {
      "cell_type": "code",
      "metadata": {
        "colab": {
          "base_uri": "https://localhost:8080/"
        },
        "id": "SwsSiw5kcyU-",
        "outputId": "c59b690e-0c3e-4a67-cae5-f360664f67ac"
      },
      "source": [
        "inputs.size(), targets.size()"
      ],
      "execution_count": null,
      "outputs": [
        {
          "output_type": "execute_result",
          "data": {
            "text/plain": [
              "(torch.Size([1271, 5]), torch.Size([1271, 1]))"
            ]
          },
          "metadata": {
            "tags": []
          },
          "execution_count": 78
        }
      ]
    },
    {
      "cell_type": "code",
      "metadata": {
        "colab": {
          "base_uri": "https://localhost:8080/"
        },
        "id": "M7CHKER0dQaS",
        "outputId": "c918cdb4-441c-42e0-d371-21e7c6c143ed"
      },
      "source": [
        "input_cols"
      ],
      "execution_count": null,
      "outputs": [
        {
          "output_type": "execute_result",
          "data": {
            "text/plain": [
              "['age', 'sex', 'bmi', 'children', 'smoker']"
            ]
          },
          "metadata": {
            "tags": []
          },
          "execution_count": 79
        }
      ]
    },
    {
      "cell_type": "code",
      "metadata": {
        "colab": {
          "base_uri": "https://localhost:8080/"
        },
        "id": "JnwvG6R27gww",
        "outputId": "57fdd693-1ba4-46ea-eca8-5d5b7a0087e9"
      },
      "source": [
        "input_size = len(input_cols)\n",
        "output_size = len(output_cols)\n",
        "input_size, output_size"
      ],
      "execution_count": null,
      "outputs": [
        {
          "output_type": "execute_result",
          "data": {
            "text/plain": [
              "(5, 1)"
            ]
          },
          "metadata": {
            "tags": []
          },
          "execution_count": 80
        }
      ]
    },
    {
      "cell_type": "markdown",
      "metadata": {
        "id": "lII-HmvO7gwy"
      },
      "source": [
        "**Q: Complete the class definition below by filling out the constructor (`__init__`), `forward`, `training_step` and `validation_step` methods.**\n",
        "\n",
        "Hint: Think carefully about picking a good loss fuction (it's not cross entropy). Maybe try 2-3 of them and see which one works best. See https://pytorch.org/docs/stable/nn.functional.html#loss-functions"
      ]
    },
    {
      "cell_type": "code",
      "metadata": {
        "id": "aWCueOFX7gwy"
      },
      "source": [
        "class InsuranceModel(nn.Module):\n",
        "    def __init__(self):\n",
        "        super().__init__()\n",
        "        self.linear = nn.Linear(input_size, output_size)                  # fill this (hint: use input_size & output_size defined above)\n",
        "        \n",
        "    def forward(self, xb):\n",
        "        out = self.linear(xb)                          # fill this\n",
        "        return out\n",
        "    \n",
        "    def training_step(self, batch):\n",
        "        inputs, targets = batch \n",
        "        # Generate predictions\n",
        "        out = self(inputs)        \n",
        "        # Calcuate loss\n",
        "        loss = F.mse_loss(out, targets)                          # fill this\n",
        "        return loss\n",
        "    \n",
        "    def validation_step(self, batch):\n",
        "        inputs, targets = batch\n",
        "        # Generate predictions\n",
        "        out = self(inputs)\n",
        "        # Calculate loss\n",
        "        loss = F.mse_loss(out, targets)                           # fill this    \n",
        "        return {'val_loss': loss.detach()}\n",
        "        \n",
        "    def validation_epoch_end(self, outputs):\n",
        "        batch_losses = [x['val_loss'] for x in outputs]\n",
        "        epoch_loss = torch.stack(batch_losses).mean()   # Combine losses\n",
        "        return {'val_loss': epoch_loss.item()}\n",
        "    \n",
        "    def epoch_end(self, epoch, result, num_epochs):\n",
        "        # Print result every 20th epoch\n",
        "        if (epoch+1) % 20 == 0 or epoch == num_epochs-1:\n",
        "            print(\"Epoch [{}], val_loss: {:.4f}\".format(epoch+1, result['val_loss']))"
      ],
      "execution_count": null,
      "outputs": []
    },
    {
      "cell_type": "markdown",
      "metadata": {
        "id": "h_zIPt3c7gwy"
      },
      "source": [
        "Let us create a model using the `InsuranceModel` class. You may need to come back later and re-run the next cell to reinitialize the model, in case the loss becomes `nan` or `infinity`."
      ]
    },
    {
      "cell_type": "code",
      "metadata": {
        "id": "rfVZjwtv7gwz"
      },
      "source": [
        "model = InsuranceModel()"
      ],
      "execution_count": null,
      "outputs": []
    },
    {
      "cell_type": "markdown",
      "metadata": {
        "id": "3VeDY6uC7gwz"
      },
      "source": [
        "Let's check out the weights and biases of the model using `model.parameters`."
      ]
    },
    {
      "cell_type": "code",
      "metadata": {
        "colab": {
          "base_uri": "https://localhost:8080/"
        },
        "id": "EH1Ld3nF7gwz",
        "outputId": "6f496a88-ef38-4180-dcfc-d951d7e27ca1"
      },
      "source": [
        "list(model.parameters())"
      ],
      "execution_count": null,
      "outputs": [
        {
          "output_type": "execute_result",
          "data": {
            "text/plain": [
              "[Parameter containing:\n",
              " tensor([[-0.0146, -0.0440, -0.3863, -0.3139,  0.4009]], requires_grad=True),\n",
              " Parameter containing:\n",
              " tensor([0.0372], requires_grad=True)]"
            ]
          },
          "metadata": {
            "tags": []
          },
          "execution_count": 83
        }
      ]
    },
    {
      "cell_type": "markdown",
      "metadata": {
        "id": "0jOy_O2J7gw0"
      },
      "source": [
        "One final commit before we train the model."
      ]
    },
    {
      "cell_type": "code",
      "metadata": {
        "colab": {
          "base_uri": "https://localhost:8080/",
          "height": 110
        },
        "id": "QQMHI2on7gw0",
        "outputId": "e26532b2-5732-4c2c-eb5b-bd3da2d52f02"
      },
      "source": [
        "jovian.commit(project=project_name, environment=None)"
      ],
      "execution_count": null,
      "outputs": [
        {
          "output_type": "stream",
          "text": [
            "[jovian] Detected Colab notebook...\u001b[0m\n",
            "[jovian] Uploading colab notebook to Jovian...\u001b[0m\n",
            "[jovian] Attaching records (metrics, hyperparameters, dataset etc.)\u001b[0m\n",
            "[jovian] Committed successfully! https://jovian.ai/aayrm5/02-insurance-linear-regression\u001b[0m\n"
          ],
          "name": "stdout"
        },
        {
          "output_type": "execute_result",
          "data": {
            "application/vnd.google.colaboratory.intrinsic+json": {
              "type": "string"
            },
            "text/plain": [
              "'https://jovian.ai/aayrm5/02-insurance-linear-regression'"
            ]
          },
          "metadata": {
            "tags": []
          },
          "execution_count": 84
        }
      ]
    },
    {
      "cell_type": "markdown",
      "metadata": {
        "id": "m3BVckeR7gw0"
      },
      "source": [
        "## Step 4: Train the model to fit the data\n",
        "\n",
        "To train our model, we'll use the same `fit` function explained in the lecture. That's the benefit of defining a generic training loop - you can use it for any problem."
      ]
    },
    {
      "cell_type": "code",
      "metadata": {
        "id": "a7wnuNSB7gw0"
      },
      "source": [
        "def evaluate(model, val_loader):\n",
        "    outputs = [model.validation_step(batch) for batch in val_loader]\n",
        "    return model.validation_epoch_end(outputs)\n",
        "\n",
        "def fit(epochs, lr, model, train_loader, val_loader, opt_func=torch.optim.SGD):\n",
        "    history = []\n",
        "    optimizer = opt_func(model.parameters(), lr)\n",
        "    for epoch in range(epochs):\n",
        "        # Training Phase \n",
        "        for batch in train_loader:\n",
        "            loss = model.training_step(batch)\n",
        "            loss.backward()\n",
        "            optimizer.step()\n",
        "            optimizer.zero_grad()\n",
        "        # Validation phase\n",
        "        result = evaluate(model, val_loader)\n",
        "        model.epoch_end(epoch, result, epochs)\n",
        "        history.append(result)\n",
        "    return history"
      ],
      "execution_count": null,
      "outputs": []
    },
    {
      "cell_type": "markdown",
      "metadata": {
        "id": "85SwApoy7gw0"
      },
      "source": [
        "**Q: Use the `evaluate` function to calculate the loss on the validation set before training.**"
      ]
    },
    {
      "cell_type": "code",
      "metadata": {
        "colab": {
          "base_uri": "https://localhost:8080/"
        },
        "id": "jm3nKR667gw0",
        "outputId": "6bd98daa-4c77-4f7b-8e5b-2ad034e0c09f"
      },
      "source": [
        "result = evaluate(model, val_loader) # Use the the evaluate function\n",
        "print(result)"
      ],
      "execution_count": null,
      "outputs": [
        {
          "output_type": "stream",
          "text": [
            "{'val_loss': 491464512.0}\n"
          ],
          "name": "stdout"
        }
      ]
    },
    {
      "cell_type": "markdown",
      "metadata": {
        "id": "HeOZGW147gw1"
      },
      "source": [
        "\n",
        "We are now ready to train the model. You may need to run the training loop many times, for different number of epochs and with different learning rates, to get a good result. Also, if your loss becomes too large (or `nan`), you may have to re-initialize the model by running the cell `model = InsuranceModel()`. Experiment with this for a while, and try to get to as low a loss as possible."
      ]
    },
    {
      "cell_type": "markdown",
      "metadata": {
        "id": "dIBXgF9w7gw1"
      },
      "source": [
        "**Q: Train the model 4-5 times with different learning rates & for different number of epochs.**\n",
        "\n",
        "Hint: Vary learning rates by orders of 10 (e.g. `1e-2`, `1e-3`, `1e-4`, `1e-5`, `1e-6`) to figure out what works."
      ]
    },
    {
      "cell_type": "code",
      "metadata": {
        "colab": {
          "base_uri": "https://localhost:8080/"
        },
        "id": "hycHucg37gw1",
        "outputId": "45a72330-c5f4-4c7e-8412-3ca1640b8cc2"
      },
      "source": [
        "epochs = 2000\n",
        "lr = 1e-7\n",
        "history1 = fit(epochs, lr, model, train_loader, val_loader)"
      ],
      "execution_count": null,
      "outputs": [
        {
          "output_type": "stream",
          "text": [
            "Epoch [20], val_loss: 434115648.0000\n",
            "Epoch [40], val_loss: 387827712.0000\n",
            "Epoch [60], val_loss: 350394624.0000\n",
            "Epoch [80], val_loss: 320276544.0000\n",
            "Epoch [100], val_loss: 295905664.0000\n",
            "Epoch [120], val_loss: 276212288.0000\n",
            "Epoch [140], val_loss: 260445664.0000\n",
            "Epoch [160], val_loss: 247692896.0000\n",
            "Epoch [180], val_loss: 237459488.0000\n",
            "Epoch [200], val_loss: 229085504.0000\n",
            "Epoch [220], val_loss: 222382304.0000\n",
            "Epoch [240], val_loss: 216965200.0000\n",
            "Epoch [260], val_loss: 212559584.0000\n",
            "Epoch [280], val_loss: 208990624.0000\n",
            "Epoch [300], val_loss: 206136976.0000\n",
            "Epoch [320], val_loss: 203872336.0000\n",
            "Epoch [340], val_loss: 201994816.0000\n",
            "Epoch [360], val_loss: 200497904.0000\n",
            "Epoch [380], val_loss: 199293664.0000\n",
            "Epoch [400], val_loss: 198275680.0000\n",
            "Epoch [420], val_loss: 197454944.0000\n",
            "Epoch [440], val_loss: 196797152.0000\n",
            "Epoch [460], val_loss: 196266624.0000\n",
            "Epoch [480], val_loss: 195830080.0000\n",
            "Epoch [500], val_loss: 195460880.0000\n",
            "Epoch [520], val_loss: 195161504.0000\n",
            "Epoch [540], val_loss: 194934384.0000\n",
            "Epoch [560], val_loss: 194748736.0000\n",
            "Epoch [580], val_loss: 194588560.0000\n",
            "Epoch [600], val_loss: 194472224.0000\n",
            "Epoch [620], val_loss: 194360384.0000\n",
            "Epoch [640], val_loss: 194277696.0000\n",
            "Epoch [660], val_loss: 194209280.0000\n",
            "Epoch [680], val_loss: 194156608.0000\n",
            "Epoch [700], val_loss: 194103600.0000\n",
            "Epoch [720], val_loss: 194064672.0000\n",
            "Epoch [740], val_loss: 194031424.0000\n",
            "Epoch [760], val_loss: 194008224.0000\n",
            "Epoch [780], val_loss: 193987968.0000\n",
            "Epoch [800], val_loss: 193965856.0000\n",
            "Epoch [820], val_loss: 193953168.0000\n",
            "Epoch [840], val_loss: 193934688.0000\n",
            "Epoch [860], val_loss: 193921568.0000\n",
            "Epoch [880], val_loss: 193914528.0000\n",
            "Epoch [900], val_loss: 193907104.0000\n",
            "Epoch [920], val_loss: 193898960.0000\n",
            "Epoch [940], val_loss: 193889264.0000\n",
            "Epoch [960], val_loss: 193882752.0000\n",
            "Epoch [980], val_loss: 193878016.0000\n",
            "Epoch [1000], val_loss: 193874944.0000\n",
            "Epoch [1020], val_loss: 193870240.0000\n",
            "Epoch [1040], val_loss: 193864160.0000\n",
            "Epoch [1060], val_loss: 193862128.0000\n",
            "Epoch [1080], val_loss: 193860048.0000\n",
            "Epoch [1100], val_loss: 193856160.0000\n",
            "Epoch [1120], val_loss: 193855904.0000\n",
            "Epoch [1140], val_loss: 193854784.0000\n",
            "Epoch [1160], val_loss: 193850432.0000\n",
            "Epoch [1180], val_loss: 193850720.0000\n",
            "Epoch [1200], val_loss: 193848928.0000\n",
            "Epoch [1220], val_loss: 193846576.0000\n",
            "Epoch [1240], val_loss: 193845408.0000\n",
            "Epoch [1260], val_loss: 193847072.0000\n",
            "Epoch [1280], val_loss: 193842640.0000\n",
            "Epoch [1300], val_loss: 193841488.0000\n",
            "Epoch [1320], val_loss: 193838880.0000\n",
            "Epoch [1340], val_loss: 193838464.0000\n",
            "Epoch [1360], val_loss: 193837504.0000\n",
            "Epoch [1380], val_loss: 193836160.0000\n",
            "Epoch [1400], val_loss: 193833488.0000\n",
            "Epoch [1420], val_loss: 193833728.0000\n",
            "Epoch [1440], val_loss: 193832928.0000\n",
            "Epoch [1460], val_loss: 193832032.0000\n",
            "Epoch [1480], val_loss: 193831376.0000\n",
            "Epoch [1500], val_loss: 193829792.0000\n",
            "Epoch [1520], val_loss: 193828128.0000\n",
            "Epoch [1540], val_loss: 193828176.0000\n",
            "Epoch [1560], val_loss: 193826112.0000\n",
            "Epoch [1580], val_loss: 193824128.0000\n",
            "Epoch [1600], val_loss: 193823040.0000\n",
            "Epoch [1620], val_loss: 193821008.0000\n",
            "Epoch [1640], val_loss: 193820048.0000\n",
            "Epoch [1660], val_loss: 193818944.0000\n",
            "Epoch [1680], val_loss: 193815760.0000\n",
            "Epoch [1700], val_loss: 193815808.0000\n",
            "Epoch [1720], val_loss: 193816000.0000\n",
            "Epoch [1740], val_loss: 193816224.0000\n",
            "Epoch [1760], val_loss: 193814800.0000\n",
            "Epoch [1780], val_loss: 193813088.0000\n",
            "Epoch [1800], val_loss: 193812480.0000\n",
            "Epoch [1820], val_loss: 193810688.0000\n",
            "Epoch [1840], val_loss: 193810336.0000\n",
            "Epoch [1860], val_loss: 193808992.0000\n",
            "Epoch [1880], val_loss: 193808688.0000\n",
            "Epoch [1900], val_loss: 193806528.0000\n",
            "Epoch [1920], val_loss: 193804752.0000\n",
            "Epoch [1940], val_loss: 193804064.0000\n",
            "Epoch [1960], val_loss: 193801248.0000\n",
            "Epoch [1980], val_loss: 193801408.0000\n",
            "Epoch [2000], val_loss: 193799648.0000\n"
          ],
          "name": "stdout"
        }
      ]
    },
    {
      "cell_type": "code",
      "metadata": {
        "colab": {
          "base_uri": "https://localhost:8080/"
        },
        "id": "_IP5t4HG7gw2",
        "outputId": "a8011198-afb4-4c90-e789-85d7edc20d85"
      },
      "source": [
        "epochs = 3000\n",
        "lr = 3e-7\n",
        "history2 = fit(epochs, lr, model, train_loader, val_loader)"
      ],
      "execution_count": null,
      "outputs": [
        {
          "output_type": "stream",
          "text": [
            "Epoch [20], val_loss: 193795552.0000\n",
            "Epoch [40], val_loss: 193794896.0000\n",
            "Epoch [60], val_loss: 193792512.0000\n",
            "Epoch [80], val_loss: 193787520.0000\n",
            "Epoch [100], val_loss: 193786416.0000\n",
            "Epoch [120], val_loss: 193779712.0000\n",
            "Epoch [140], val_loss: 193777312.0000\n",
            "Epoch [160], val_loss: 193771392.0000\n",
            "Epoch [180], val_loss: 193767616.0000\n",
            "Epoch [200], val_loss: 193761568.0000\n",
            "Epoch [220], val_loss: 193760544.0000\n",
            "Epoch [240], val_loss: 193758592.0000\n",
            "Epoch [260], val_loss: 193755936.0000\n",
            "Epoch [280], val_loss: 193753632.0000\n",
            "Epoch [300], val_loss: 193748608.0000\n",
            "Epoch [320], val_loss: 193746288.0000\n",
            "Epoch [340], val_loss: 193741600.0000\n",
            "Epoch [360], val_loss: 193739696.0000\n",
            "Epoch [380], val_loss: 193738336.0000\n",
            "Epoch [400], val_loss: 193732608.0000\n",
            "Epoch [420], val_loss: 193728752.0000\n",
            "Epoch [440], val_loss: 193730752.0000\n",
            "Epoch [460], val_loss: 193722576.0000\n",
            "Epoch [480], val_loss: 193719456.0000\n",
            "Epoch [500], val_loss: 193718560.0000\n",
            "Epoch [520], val_loss: 193716928.0000\n",
            "Epoch [540], val_loss: 193709120.0000\n",
            "Epoch [560], val_loss: 193704544.0000\n",
            "Epoch [580], val_loss: 193699296.0000\n",
            "Epoch [600], val_loss: 193691168.0000\n",
            "Epoch [620], val_loss: 193690064.0000\n",
            "Epoch [640], val_loss: 193685152.0000\n",
            "Epoch [660], val_loss: 193679840.0000\n",
            "Epoch [680], val_loss: 193679040.0000\n",
            "Epoch [700], val_loss: 193675104.0000\n",
            "Epoch [720], val_loss: 193679888.0000\n",
            "Epoch [740], val_loss: 193679264.0000\n",
            "Epoch [760], val_loss: 193676000.0000\n",
            "Epoch [780], val_loss: 193668416.0000\n",
            "Epoch [800], val_loss: 193662848.0000\n",
            "Epoch [820], val_loss: 193656416.0000\n",
            "Epoch [840], val_loss: 193656448.0000\n",
            "Epoch [860], val_loss: 193651696.0000\n",
            "Epoch [880], val_loss: 193647392.0000\n",
            "Epoch [900], val_loss: 193644000.0000\n",
            "Epoch [920], val_loss: 193643552.0000\n",
            "Epoch [940], val_loss: 193646240.0000\n",
            "Epoch [960], val_loss: 193640784.0000\n",
            "Epoch [980], val_loss: 193634144.0000\n",
            "Epoch [1000], val_loss: 193630544.0000\n",
            "Epoch [1020], val_loss: 193623312.0000\n",
            "Epoch [1040], val_loss: 193617616.0000\n",
            "Epoch [1060], val_loss: 193613360.0000\n",
            "Epoch [1080], val_loss: 193613728.0000\n",
            "Epoch [1100], val_loss: 193610624.0000\n",
            "Epoch [1120], val_loss: 193607952.0000\n",
            "Epoch [1140], val_loss: 193606304.0000\n",
            "Epoch [1160], val_loss: 193595728.0000\n",
            "Epoch [1180], val_loss: 193592000.0000\n",
            "Epoch [1200], val_loss: 193585824.0000\n",
            "Epoch [1220], val_loss: 193588384.0000\n",
            "Epoch [1240], val_loss: 193577696.0000\n",
            "Epoch [1260], val_loss: 193573504.0000\n",
            "Epoch [1280], val_loss: 193571728.0000\n",
            "Epoch [1300], val_loss: 193567504.0000\n",
            "Epoch [1320], val_loss: 193561968.0000\n",
            "Epoch [1340], val_loss: 193558784.0000\n",
            "Epoch [1360], val_loss: 193558880.0000\n",
            "Epoch [1380], val_loss: 193555456.0000\n",
            "Epoch [1400], val_loss: 193546528.0000\n",
            "Epoch [1420], val_loss: 193538592.0000\n",
            "Epoch [1440], val_loss: 193535088.0000\n",
            "Epoch [1460], val_loss: 193526608.0000\n",
            "Epoch [1480], val_loss: 193521120.0000\n",
            "Epoch [1500], val_loss: 193515936.0000\n",
            "Epoch [1520], val_loss: 193511776.0000\n",
            "Epoch [1540], val_loss: 193509120.0000\n",
            "Epoch [1560], val_loss: 193509696.0000\n",
            "Epoch [1580], val_loss: 193505184.0000\n",
            "Epoch [1600], val_loss: 193501024.0000\n",
            "Epoch [1620], val_loss: 193495104.0000\n",
            "Epoch [1640], val_loss: 193494016.0000\n",
            "Epoch [1660], val_loss: 193492032.0000\n",
            "Epoch [1680], val_loss: 193491008.0000\n",
            "Epoch [1700], val_loss: 193490336.0000\n",
            "Epoch [1720], val_loss: 193481824.0000\n",
            "Epoch [1740], val_loss: 193473216.0000\n",
            "Epoch [1760], val_loss: 193469696.0000\n",
            "Epoch [1780], val_loss: 193464704.0000\n",
            "Epoch [1800], val_loss: 193459104.0000\n",
            "Epoch [1820], val_loss: 193454032.0000\n",
            "Epoch [1840], val_loss: 193446800.0000\n",
            "Epoch [1860], val_loss: 193447456.0000\n",
            "Epoch [1880], val_loss: 193443296.0000\n",
            "Epoch [1900], val_loss: 193442656.0000\n",
            "Epoch [1920], val_loss: 193437664.0000\n",
            "Epoch [1940], val_loss: 193429840.0000\n",
            "Epoch [1960], val_loss: 193427520.0000\n",
            "Epoch [1980], val_loss: 193423856.0000\n",
            "Epoch [2000], val_loss: 193418400.0000\n",
            "Epoch [2020], val_loss: 193415728.0000\n",
            "Epoch [2040], val_loss: 193417040.0000\n",
            "Epoch [2060], val_loss: 193415184.0000\n",
            "Epoch [2080], val_loss: 193413696.0000\n",
            "Epoch [2100], val_loss: 193413472.0000\n",
            "Epoch [2120], val_loss: 193410912.0000\n",
            "Epoch [2140], val_loss: 193398544.0000\n",
            "Epoch [2160], val_loss: 193398592.0000\n",
            "Epoch [2180], val_loss: 193395648.0000\n",
            "Epoch [2200], val_loss: 193394432.0000\n",
            "Epoch [2220], val_loss: 193387776.0000\n",
            "Epoch [2240], val_loss: 193381248.0000\n",
            "Epoch [2260], val_loss: 193377088.0000\n",
            "Epoch [2280], val_loss: 193376720.0000\n",
            "Epoch [2300], val_loss: 193367584.0000\n",
            "Epoch [2320], val_loss: 193363520.0000\n",
            "Epoch [2340], val_loss: 193359360.0000\n",
            "Epoch [2360], val_loss: 193354416.0000\n",
            "Epoch [2380], val_loss: 193353520.0000\n",
            "Epoch [2400], val_loss: 193354976.0000\n",
            "Epoch [2420], val_loss: 193351104.0000\n",
            "Epoch [2440], val_loss: 193347424.0000\n",
            "Epoch [2460], val_loss: 193337808.0000\n",
            "Epoch [2480], val_loss: 193332032.0000\n",
            "Epoch [2500], val_loss: 193330336.0000\n",
            "Epoch [2520], val_loss: 193331232.0000\n",
            "Epoch [2540], val_loss: 193329312.0000\n",
            "Epoch [2560], val_loss: 193320704.0000\n",
            "Epoch [2580], val_loss: 193317872.0000\n",
            "Epoch [2600], val_loss: 193314864.0000\n",
            "Epoch [2620], val_loss: 193313680.0000\n",
            "Epoch [2640], val_loss: 193304288.0000\n",
            "Epoch [2660], val_loss: 193302336.0000\n",
            "Epoch [2680], val_loss: 193294976.0000\n",
            "Epoch [2700], val_loss: 193293984.0000\n",
            "Epoch [2720], val_loss: 193288448.0000\n",
            "Epoch [2740], val_loss: 193281040.0000\n",
            "Epoch [2760], val_loss: 193278624.0000\n",
            "Epoch [2780], val_loss: 193268224.0000\n",
            "Epoch [2800], val_loss: 193267104.0000\n",
            "Epoch [2820], val_loss: 193265184.0000\n",
            "Epoch [2840], val_loss: 193259552.0000\n",
            "Epoch [2860], val_loss: 193253728.0000\n",
            "Epoch [2880], val_loss: 193253440.0000\n",
            "Epoch [2900], val_loss: 193253968.0000\n",
            "Epoch [2920], val_loss: 193254112.0000\n",
            "Epoch [2940], val_loss: 193247936.0000\n",
            "Epoch [2960], val_loss: 193240528.0000\n",
            "Epoch [2980], val_loss: 193232544.0000\n",
            "Epoch [3000], val_loss: 193222688.0000\n"
          ],
          "name": "stdout"
        }
      ]
    },
    {
      "cell_type": "code",
      "metadata": {
        "colab": {
          "base_uri": "https://localhost:8080/"
        },
        "id": "4FppVLUK7gw2",
        "outputId": "2668387a-ccc0-49f1-988b-cca712bba078"
      },
      "source": [
        "epochs = 2000\n",
        "lr = 1e-5\n",
        "history3 = fit(epochs, lr, model, train_loader, val_loader)"
      ],
      "execution_count": null,
      "outputs": [
        {
          "output_type": "stream",
          "text": [
            "Epoch [20], val_loss: 193078016.0000\n",
            "Epoch [40], val_loss: 192983008.0000\n",
            "Epoch [60], val_loss: 192785952.0000\n",
            "Epoch [80], val_loss: 192696128.0000\n",
            "Epoch [100], val_loss: 192520448.0000\n",
            "Epoch [120], val_loss: 192352112.0000\n",
            "Epoch [140], val_loss: 192207264.0000\n",
            "Epoch [160], val_loss: 192051936.0000\n",
            "Epoch [180], val_loss: 191940000.0000\n",
            "Epoch [200], val_loss: 191827648.0000\n",
            "Epoch [220], val_loss: 191668384.0000\n",
            "Epoch [240], val_loss: 191593696.0000\n",
            "Epoch [260], val_loss: 191405536.0000\n",
            "Epoch [280], val_loss: 191299488.0000\n",
            "Epoch [300], val_loss: 191140416.0000\n",
            "Epoch [320], val_loss: 190967664.0000\n",
            "Epoch [340], val_loss: 190874368.0000\n",
            "Epoch [360], val_loss: 190693568.0000\n",
            "Epoch [380], val_loss: 190706560.0000\n",
            "Epoch [400], val_loss: 190499552.0000\n",
            "Epoch [420], val_loss: 190291584.0000\n",
            "Epoch [440], val_loss: 190228320.0000\n",
            "Epoch [460], val_loss: 190031328.0000\n",
            "Epoch [480], val_loss: 189904960.0000\n",
            "Epoch [500], val_loss: 189725088.0000\n",
            "Epoch [520], val_loss: 189638368.0000\n",
            "Epoch [540], val_loss: 189569184.0000\n",
            "Epoch [560], val_loss: 189326416.0000\n",
            "Epoch [580], val_loss: 189183712.0000\n",
            "Epoch [600], val_loss: 189053936.0000\n",
            "Epoch [620], val_loss: 188932480.0000\n",
            "Epoch [640], val_loss: 188951408.0000\n",
            "Epoch [660], val_loss: 188783936.0000\n",
            "Epoch [680], val_loss: 188637536.0000\n",
            "Epoch [700], val_loss: 188547072.0000\n",
            "Epoch [720], val_loss: 188423840.0000\n",
            "Epoch [740], val_loss: 188293632.0000\n",
            "Epoch [760], val_loss: 188021216.0000\n",
            "Epoch [780], val_loss: 187902544.0000\n",
            "Epoch [800], val_loss: 187705088.0000\n",
            "Epoch [820], val_loss: 187576592.0000\n",
            "Epoch [840], val_loss: 187448752.0000\n",
            "Epoch [860], val_loss: 187316880.0000\n",
            "Epoch [880], val_loss: 187209920.0000\n",
            "Epoch [900], val_loss: 187107104.0000\n",
            "Epoch [920], val_loss: 186937616.0000\n",
            "Epoch [940], val_loss: 186842208.0000\n",
            "Epoch [960], val_loss: 186617392.0000\n",
            "Epoch [980], val_loss: 186466832.0000\n",
            "Epoch [1000], val_loss: 186376960.0000\n",
            "Epoch [1020], val_loss: 186467280.0000\n",
            "Epoch [1040], val_loss: 186097760.0000\n",
            "Epoch [1060], val_loss: 185994512.0000\n",
            "Epoch [1080], val_loss: 185843872.0000\n",
            "Epoch [1100], val_loss: 185659616.0000\n",
            "Epoch [1120], val_loss: 185609600.0000\n",
            "Epoch [1140], val_loss: 185486848.0000\n",
            "Epoch [1160], val_loss: 185314832.0000\n",
            "Epoch [1180], val_loss: 185074544.0000\n",
            "Epoch [1200], val_loss: 184951904.0000\n",
            "Epoch [1220], val_loss: 184803776.0000\n",
            "Epoch [1240], val_loss: 184797824.0000\n",
            "Epoch [1260], val_loss: 184605440.0000\n",
            "Epoch [1280], val_loss: 184485024.0000\n",
            "Epoch [1300], val_loss: 184318352.0000\n",
            "Epoch [1320], val_loss: 184208288.0000\n",
            "Epoch [1340], val_loss: 184069088.0000\n",
            "Epoch [1360], val_loss: 183985024.0000\n",
            "Epoch [1380], val_loss: 183874240.0000\n",
            "Epoch [1400], val_loss: 183749280.0000\n",
            "Epoch [1420], val_loss: 183697760.0000\n",
            "Epoch [1440], val_loss: 183545680.0000\n",
            "Epoch [1460], val_loss: 183325664.0000\n",
            "Epoch [1480], val_loss: 183203424.0000\n",
            "Epoch [1500], val_loss: 183049280.0000\n",
            "Epoch [1520], val_loss: 182900352.0000\n",
            "Epoch [1540], val_loss: 182781152.0000\n",
            "Epoch [1560], val_loss: 182740496.0000\n",
            "Epoch [1580], val_loss: 182538480.0000\n",
            "Epoch [1600], val_loss: 182412224.0000\n",
            "Epoch [1620], val_loss: 182265056.0000\n",
            "Epoch [1640], val_loss: 182187136.0000\n",
            "Epoch [1660], val_loss: 181989328.0000\n",
            "Epoch [1680], val_loss: 181853408.0000\n",
            "Epoch [1700], val_loss: 181798112.0000\n",
            "Epoch [1720], val_loss: 181606912.0000\n",
            "Epoch [1740], val_loss: 181565600.0000\n",
            "Epoch [1760], val_loss: 181400944.0000\n",
            "Epoch [1780], val_loss: 181246688.0000\n",
            "Epoch [1800], val_loss: 181131760.0000\n",
            "Epoch [1820], val_loss: 180942272.0000\n",
            "Epoch [1840], val_loss: 180857920.0000\n",
            "Epoch [1860], val_loss: 180784496.0000\n",
            "Epoch [1880], val_loss: 180593744.0000\n",
            "Epoch [1900], val_loss: 180464256.0000\n",
            "Epoch [1920], val_loss: 180301104.0000\n",
            "Epoch [1940], val_loss: 180342512.0000\n",
            "Epoch [1960], val_loss: 180125344.0000\n",
            "Epoch [1980], val_loss: 179925424.0000\n",
            "Epoch [2000], val_loss: 179797280.0000\n"
          ],
          "name": "stdout"
        }
      ]
    },
    {
      "cell_type": "code",
      "metadata": {
        "colab": {
          "base_uri": "https://localhost:8080/"
        },
        "id": "CHlilxp97gw2",
        "outputId": "729049c6-f804-42d7-e26a-e5d91d3694fe"
      },
      "source": [
        "epochs = 3000\n",
        "lr = 1e-6\n",
        "history4 = fit(epochs, lr, model, train_loader, val_loader)"
      ],
      "execution_count": null,
      "outputs": [
        {
          "output_type": "stream",
          "text": [
            "Epoch [20], val_loss: 179762000.0000\n",
            "Epoch [40], val_loss: 179769248.0000\n",
            "Epoch [60], val_loss: 179761536.0000\n",
            "Epoch [80], val_loss: 179752960.0000\n",
            "Epoch [100], val_loss: 179743568.0000\n",
            "Epoch [120], val_loss: 179713904.0000\n",
            "Epoch [140], val_loss: 179708976.0000\n",
            "Epoch [160], val_loss: 179698624.0000\n",
            "Epoch [180], val_loss: 179685408.0000\n",
            "Epoch [200], val_loss: 179689312.0000\n",
            "Epoch [220], val_loss: 179690656.0000\n",
            "Epoch [240], val_loss: 179661248.0000\n",
            "Epoch [260], val_loss: 179628544.0000\n",
            "Epoch [280], val_loss: 179614624.0000\n",
            "Epoch [300], val_loss: 179622480.0000\n",
            "Epoch [320], val_loss: 179598176.0000\n",
            "Epoch [340], val_loss: 179571376.0000\n",
            "Epoch [360], val_loss: 179574432.0000\n",
            "Epoch [380], val_loss: 179552608.0000\n",
            "Epoch [400], val_loss: 179534448.0000\n",
            "Epoch [420], val_loss: 179519936.0000\n",
            "Epoch [440], val_loss: 179512944.0000\n",
            "Epoch [460], val_loss: 179514128.0000\n",
            "Epoch [480], val_loss: 179491856.0000\n",
            "Epoch [500], val_loss: 179487168.0000\n",
            "Epoch [520], val_loss: 179485568.0000\n",
            "Epoch [540], val_loss: 179459216.0000\n",
            "Epoch [560], val_loss: 179449952.0000\n",
            "Epoch [580], val_loss: 179449856.0000\n",
            "Epoch [600], val_loss: 179434592.0000\n",
            "Epoch [620], val_loss: 179410896.0000\n",
            "Epoch [640], val_loss: 179398464.0000\n",
            "Epoch [660], val_loss: 179397312.0000\n",
            "Epoch [680], val_loss: 179379584.0000\n",
            "Epoch [700], val_loss: 179370704.0000\n",
            "Epoch [720], val_loss: 179353840.0000\n",
            "Epoch [740], val_loss: 179349536.0000\n",
            "Epoch [760], val_loss: 179318400.0000\n",
            "Epoch [780], val_loss: 179314304.0000\n",
            "Epoch [800], val_loss: 179316544.0000\n",
            "Epoch [820], val_loss: 179276144.0000\n",
            "Epoch [840], val_loss: 179272784.0000\n",
            "Epoch [860], val_loss: 179262656.0000\n",
            "Epoch [880], val_loss: 179265856.0000\n",
            "Epoch [900], val_loss: 179254560.0000\n",
            "Epoch [920], val_loss: 179228720.0000\n",
            "Epoch [940], val_loss: 179211840.0000\n",
            "Epoch [960], val_loss: 179222000.0000\n",
            "Epoch [980], val_loss: 179194624.0000\n",
            "Epoch [1000], val_loss: 179195328.0000\n",
            "Epoch [1020], val_loss: 179180576.0000\n",
            "Epoch [1040], val_loss: 179179712.0000\n",
            "Epoch [1060], val_loss: 179168640.0000\n",
            "Epoch [1080], val_loss: 179138096.0000\n",
            "Epoch [1100], val_loss: 179137792.0000\n",
            "Epoch [1120], val_loss: 179118592.0000\n",
            "Epoch [1140], val_loss: 179085760.0000\n",
            "Epoch [1160], val_loss: 179072384.0000\n",
            "Epoch [1180], val_loss: 179075552.0000\n",
            "Epoch [1200], val_loss: 179069280.0000\n",
            "Epoch [1220], val_loss: 179061952.0000\n",
            "Epoch [1240], val_loss: 179028384.0000\n",
            "Epoch [1260], val_loss: 179021840.0000\n",
            "Epoch [1280], val_loss: 179001792.0000\n",
            "Epoch [1300], val_loss: 178998000.0000\n",
            "Epoch [1320], val_loss: 178987264.0000\n",
            "Epoch [1340], val_loss: 178977152.0000\n",
            "Epoch [1360], val_loss: 178964416.0000\n",
            "Epoch [1380], val_loss: 178963744.0000\n",
            "Epoch [1400], val_loss: 178931840.0000\n",
            "Epoch [1420], val_loss: 178922176.0000\n",
            "Epoch [1440], val_loss: 178905440.0000\n",
            "Epoch [1460], val_loss: 178888480.0000\n",
            "Epoch [1480], val_loss: 178892192.0000\n",
            "Epoch [1500], val_loss: 178863776.0000\n",
            "Epoch [1520], val_loss: 178848736.0000\n",
            "Epoch [1540], val_loss: 178831232.0000\n",
            "Epoch [1560], val_loss: 178821456.0000\n",
            "Epoch [1580], val_loss: 178817376.0000\n",
            "Epoch [1600], val_loss: 178826304.0000\n",
            "Epoch [1620], val_loss: 178802880.0000\n",
            "Epoch [1640], val_loss: 178814464.0000\n",
            "Epoch [1660], val_loss: 178788032.0000\n",
            "Epoch [1680], val_loss: 178773696.0000\n",
            "Epoch [1700], val_loss: 178733408.0000\n",
            "Epoch [1720], val_loss: 178739328.0000\n",
            "Epoch [1740], val_loss: 178709424.0000\n",
            "Epoch [1760], val_loss: 178701664.0000\n",
            "Epoch [1780], val_loss: 178704352.0000\n",
            "Epoch [1800], val_loss: 178678720.0000\n",
            "Epoch [1820], val_loss: 178667664.0000\n",
            "Epoch [1840], val_loss: 178661488.0000\n",
            "Epoch [1860], val_loss: 178644352.0000\n",
            "Epoch [1880], val_loss: 178622608.0000\n",
            "Epoch [1900], val_loss: 178616160.0000\n",
            "Epoch [1920], val_loss: 178631328.0000\n",
            "Epoch [1940], val_loss: 178619200.0000\n",
            "Epoch [1960], val_loss: 178581616.0000\n",
            "Epoch [1980], val_loss: 178577216.0000\n",
            "Epoch [2000], val_loss: 178557440.0000\n",
            "Epoch [2020], val_loss: 178563296.0000\n",
            "Epoch [2040], val_loss: 178557408.0000\n",
            "Epoch [2060], val_loss: 178536224.0000\n",
            "Epoch [2080], val_loss: 178518560.0000\n",
            "Epoch [2100], val_loss: 178489440.0000\n",
            "Epoch [2120], val_loss: 178483840.0000\n",
            "Epoch [2140], val_loss: 178450016.0000\n",
            "Epoch [2160], val_loss: 178448832.0000\n",
            "Epoch [2180], val_loss: 178440064.0000\n",
            "Epoch [2200], val_loss: 178428096.0000\n",
            "Epoch [2220], val_loss: 178415136.0000\n",
            "Epoch [2240], val_loss: 178390624.0000\n",
            "Epoch [2260], val_loss: 178402528.0000\n",
            "Epoch [2280], val_loss: 178385984.0000\n",
            "Epoch [2300], val_loss: 178344096.0000\n",
            "Epoch [2320], val_loss: 178337648.0000\n",
            "Epoch [2340], val_loss: 178330368.0000\n",
            "Epoch [2360], val_loss: 178319344.0000\n",
            "Epoch [2380], val_loss: 178320208.0000\n",
            "Epoch [2400], val_loss: 178314048.0000\n",
            "Epoch [2420], val_loss: 178283136.0000\n",
            "Epoch [2440], val_loss: 178262688.0000\n",
            "Epoch [2460], val_loss: 178275440.0000\n",
            "Epoch [2480], val_loss: 178248880.0000\n",
            "Epoch [2500], val_loss: 178252736.0000\n",
            "Epoch [2520], val_loss: 178232912.0000\n",
            "Epoch [2540], val_loss: 178190368.0000\n",
            "Epoch [2560], val_loss: 178176192.0000\n",
            "Epoch [2580], val_loss: 178184096.0000\n",
            "Epoch [2600], val_loss: 178177952.0000\n",
            "Epoch [2620], val_loss: 178170080.0000\n",
            "Epoch [2640], val_loss: 178142752.0000\n",
            "Epoch [2660], val_loss: 178136656.0000\n",
            "Epoch [2680], val_loss: 178112576.0000\n",
            "Epoch [2700], val_loss: 178105280.0000\n",
            "Epoch [2720], val_loss: 178084416.0000\n",
            "Epoch [2740], val_loss: 178073168.0000\n",
            "Epoch [2760], val_loss: 178064448.0000\n",
            "Epoch [2780], val_loss: 178062656.0000\n",
            "Epoch [2800], val_loss: 178043904.0000\n",
            "Epoch [2820], val_loss: 178023280.0000\n",
            "Epoch [2840], val_loss: 178018304.0000\n",
            "Epoch [2860], val_loss: 178024192.0000\n",
            "Epoch [2880], val_loss: 178003264.0000\n",
            "Epoch [2900], val_loss: 177987376.0000\n",
            "Epoch [2920], val_loss: 177974208.0000\n",
            "Epoch [2940], val_loss: 177958064.0000\n",
            "Epoch [2960], val_loss: 177955888.0000\n",
            "Epoch [2980], val_loss: 177954400.0000\n",
            "Epoch [3000], val_loss: 177912160.0000\n"
          ],
          "name": "stdout"
        }
      ]
    },
    {
      "cell_type": "code",
      "metadata": {
        "colab": {
          "base_uri": "https://localhost:8080/"
        },
        "id": "alStP6xe7gw2",
        "outputId": "e2b1bd6e-9351-479c-d5fc-3b1baffb0330"
      },
      "source": [
        "epochs = 2000\n",
        "lr = 5e-7\n",
        "history5 = fit(epochs, lr, model, train_loader, val_loader)"
      ],
      "execution_count": null,
      "outputs": [
        {
          "output_type": "stream",
          "text": [
            "Epoch [20], val_loss: 177914928.0000\n",
            "Epoch [40], val_loss: 177913792.0000\n",
            "Epoch [60], val_loss: 177907904.0000\n",
            "Epoch [80], val_loss: 177898464.0000\n",
            "Epoch [100], val_loss: 177883200.0000\n",
            "Epoch [120], val_loss: 177876864.0000\n",
            "Epoch [140], val_loss: 177871136.0000\n",
            "Epoch [160], val_loss: 177882336.0000\n",
            "Epoch [180], val_loss: 177864048.0000\n",
            "Epoch [200], val_loss: 177865584.0000\n",
            "Epoch [220], val_loss: 177861936.0000\n",
            "Epoch [240], val_loss: 177843968.0000\n",
            "Epoch [260], val_loss: 177833344.0000\n",
            "Epoch [280], val_loss: 177834080.0000\n",
            "Epoch [300], val_loss: 177832576.0000\n",
            "Epoch [320], val_loss: 177819872.0000\n",
            "Epoch [340], val_loss: 177812176.0000\n",
            "Epoch [360], val_loss: 177797408.0000\n",
            "Epoch [380], val_loss: 177800432.0000\n",
            "Epoch [400], val_loss: 177794496.0000\n",
            "Epoch [420], val_loss: 177805232.0000\n",
            "Epoch [440], val_loss: 177786192.0000\n",
            "Epoch [460], val_loss: 177774688.0000\n",
            "Epoch [480], val_loss: 177778048.0000\n",
            "Epoch [500], val_loss: 177768496.0000\n",
            "Epoch [520], val_loss: 177759760.0000\n",
            "Epoch [540], val_loss: 177743488.0000\n",
            "Epoch [560], val_loss: 177750464.0000\n",
            "Epoch [580], val_loss: 177746976.0000\n",
            "Epoch [600], val_loss: 177729728.0000\n",
            "Epoch [620], val_loss: 177722000.0000\n",
            "Epoch [640], val_loss: 177722336.0000\n",
            "Epoch [660], val_loss: 177731936.0000\n",
            "Epoch [680], val_loss: 177724608.0000\n",
            "Epoch [700], val_loss: 177717536.0000\n",
            "Epoch [720], val_loss: 177699328.0000\n",
            "Epoch [740], val_loss: 177694752.0000\n",
            "Epoch [760], val_loss: 177690816.0000\n",
            "Epoch [780], val_loss: 177691552.0000\n",
            "Epoch [800], val_loss: 177690432.0000\n",
            "Epoch [820], val_loss: 177665024.0000\n",
            "Epoch [840], val_loss: 177673008.0000\n",
            "Epoch [860], val_loss: 177662592.0000\n",
            "Epoch [880], val_loss: 177653024.0000\n",
            "Epoch [900], val_loss: 177641632.0000\n",
            "Epoch [920], val_loss: 177645168.0000\n",
            "Epoch [940], val_loss: 177641792.0000\n",
            "Epoch [960], val_loss: 177629488.0000\n",
            "Epoch [980], val_loss: 177626400.0000\n",
            "Epoch [1000], val_loss: 177624624.0000\n",
            "Epoch [1020], val_loss: 177616928.0000\n",
            "Epoch [1040], val_loss: 177611040.0000\n",
            "Epoch [1060], val_loss: 177584736.0000\n",
            "Epoch [1080], val_loss: 177574064.0000\n",
            "Epoch [1100], val_loss: 177577024.0000\n",
            "Epoch [1120], val_loss: 177568992.0000\n",
            "Epoch [1140], val_loss: 177563952.0000\n",
            "Epoch [1160], val_loss: 177566752.0000\n",
            "Epoch [1180], val_loss: 177558816.0000\n",
            "Epoch [1200], val_loss: 177552992.0000\n",
            "Epoch [1220], val_loss: 177545504.0000\n",
            "Epoch [1240], val_loss: 177535968.0000\n",
            "Epoch [1260], val_loss: 177532272.0000\n",
            "Epoch [1280], val_loss: 177517824.0000\n",
            "Epoch [1300], val_loss: 177513888.0000\n",
            "Epoch [1320], val_loss: 177511264.0000\n",
            "Epoch [1340], val_loss: 177509728.0000\n",
            "Epoch [1360], val_loss: 177499360.0000\n",
            "Epoch [1380], val_loss: 177488032.0000\n",
            "Epoch [1400], val_loss: 177481088.0000\n",
            "Epoch [1420], val_loss: 177478944.0000\n",
            "Epoch [1440], val_loss: 177481696.0000\n",
            "Epoch [1460], val_loss: 177486864.0000\n",
            "Epoch [1480], val_loss: 177463296.0000\n",
            "Epoch [1500], val_loss: 177450352.0000\n",
            "Epoch [1520], val_loss: 177444992.0000\n",
            "Epoch [1540], val_loss: 177439328.0000\n",
            "Epoch [1560], val_loss: 177436928.0000\n",
            "Epoch [1580], val_loss: 177429456.0000\n",
            "Epoch [1600], val_loss: 177418240.0000\n",
            "Epoch [1620], val_loss: 177408992.0000\n",
            "Epoch [1640], val_loss: 177415232.0000\n",
            "Epoch [1660], val_loss: 177411840.0000\n",
            "Epoch [1680], val_loss: 177404896.0000\n",
            "Epoch [1700], val_loss: 177410528.0000\n",
            "Epoch [1720], val_loss: 177406496.0000\n",
            "Epoch [1740], val_loss: 177383456.0000\n",
            "Epoch [1760], val_loss: 177379360.0000\n",
            "Epoch [1780], val_loss: 177358848.0000\n",
            "Epoch [1800], val_loss: 177348544.0000\n",
            "Epoch [1820], val_loss: 177347056.0000\n",
            "Epoch [1840], val_loss: 177340032.0000\n",
            "Epoch [1860], val_loss: 177336816.0000\n",
            "Epoch [1880], val_loss: 177323888.0000\n",
            "Epoch [1900], val_loss: 177317152.0000\n",
            "Epoch [1920], val_loss: 177315264.0000\n",
            "Epoch [1940], val_loss: 177302656.0000\n",
            "Epoch [1960], val_loss: 177301520.0000\n",
            "Epoch [1980], val_loss: 177304576.0000\n",
            "Epoch [2000], val_loss: 177291776.0000\n"
          ],
          "name": "stdout"
        }
      ]
    },
    {
      "cell_type": "markdown",
      "metadata": {
        "id": "5r--XFgH7gw2"
      },
      "source": [
        "**Q: What is the final validation loss of your model?**"
      ]
    },
    {
      "cell_type": "code",
      "metadata": {
        "colab": {
          "base_uri": "https://localhost:8080/"
        },
        "id": "8PzwNvWb7gw2",
        "outputId": "4cd1fe57-ba9b-4551-ef4f-6b6719b1af7b"
      },
      "source": [
        "val_loss = history5[-1]['val_loss']\r\n",
        "val_loss"
      ],
      "execution_count": null,
      "outputs": [
        {
          "output_type": "execute_result",
          "data": {
            "text/plain": [
              "177291776.0"
            ]
          },
          "metadata": {
            "tags": []
          },
          "execution_count": 95
        }
      ]
    },
    {
      "cell_type": "markdown",
      "metadata": {
        "id": "olVv31Jh7gw2"
      },
      "source": [
        "Let's log the final validation loss to Jovian and commit the notebook"
      ]
    },
    {
      "cell_type": "code",
      "metadata": {
        "colab": {
          "base_uri": "https://localhost:8080/"
        },
        "id": "7xjY6dEf7gw3",
        "outputId": "46fe360a-5688-4db3-be99-23dab23bfad5"
      },
      "source": [
        "jovian.log_metrics(val_loss=val_loss)"
      ],
      "execution_count": null,
      "outputs": [
        {
          "output_type": "stream",
          "text": [
            "[jovian] Metrics logged.\u001b[0m\n"
          ],
          "name": "stdout"
        }
      ]
    },
    {
      "cell_type": "code",
      "metadata": {
        "colab": {
          "base_uri": "https://localhost:8080/",
          "height": 110
        },
        "id": "Uge2kppN7gw3",
        "outputId": "e7ec154e-46e1-43a8-d1cc-e177689827be"
      },
      "source": [
        "jovian.commit(project=project_name, environment=None)"
      ],
      "execution_count": null,
      "outputs": [
        {
          "output_type": "stream",
          "text": [
            "[jovian] Detected Colab notebook...\u001b[0m\n",
            "[jovian] Uploading colab notebook to Jovian...\u001b[0m\n",
            "[jovian] Attaching records (metrics, hyperparameters, dataset etc.)\u001b[0m\n",
            "[jovian] Committed successfully! https://jovian.ai/aayrm5/02-insurance-linear-regression\u001b[0m\n"
          ],
          "name": "stdout"
        },
        {
          "output_type": "execute_result",
          "data": {
            "application/vnd.google.colaboratory.intrinsic+json": {
              "type": "string"
            },
            "text/plain": [
              "'https://jovian.ai/aayrm5/02-insurance-linear-regression'"
            ]
          },
          "metadata": {
            "tags": []
          },
          "execution_count": 97
        }
      ]
    },
    {
      "cell_type": "markdown",
      "metadata": {
        "id": "wyPfTjxW7gw3"
      },
      "source": [
        "Now scroll back up, re-initialize the model, and try different set of values for batch size, number of epochs, learning rate etc. Commit each experiment and use the \"Compare\" and \"View Diff\" options on Jovian to compare the different results."
      ]
    },
    {
      "cell_type": "markdown",
      "metadata": {
        "id": "Bwgdqq147gw3"
      },
      "source": [
        "## Step 5: Make predictions using the trained model\n",
        "\n",
        "**Q: Complete the following function definition to make predictions on a single input**"
      ]
    },
    {
      "cell_type": "code",
      "metadata": {
        "id": "3vsGBTX17gw4"
      },
      "source": [
        "def predict_single(input, target, model):\n",
        "    inputs = input.unsqueeze(0)\n",
        "    predictions = model(input)                # fill this\n",
        "    prediction = predictions[0].detach()\n",
        "    print(\"Input:\", input)\n",
        "    print(\"Target:\", target)\n",
        "    print(\"Prediction:\", prediction)"
      ],
      "execution_count": null,
      "outputs": []
    },
    {
      "cell_type": "code",
      "metadata": {
        "colab": {
          "base_uri": "https://localhost:8080/"
        },
        "id": "7OxYOoGu7gw4",
        "outputId": "f3eb2527-222b-46e5-ae42-442da1e5619f"
      },
      "source": [
        "input, target = val_ds[0]\n",
        "predict_single(input, target, model)"
      ],
      "execution_count": null,
      "outputs": [
        {
          "output_type": "stream",
          "text": [
            "Input: tensor([32.0000,  1.0000, 29.5260,  4.0000,  1.0000])\n",
            "Target: tensor([25981.6992])\n",
            "Prediction: tensor(16484.6035)\n"
          ],
          "name": "stdout"
        }
      ]
    },
    {
      "cell_type": "code",
      "metadata": {
        "colab": {
          "base_uri": "https://localhost:8080/"
        },
        "id": "DTIOaKnK7gw4",
        "outputId": "1209c491-ab05-4a31-9fe2-1866e270dd4a"
      },
      "source": [
        "input, target = val_ds[10]\n",
        "predict_single(input, target, model)"
      ],
      "execution_count": null,
      "outputs": [
        {
          "output_type": "stream",
          "text": [
            "Input: tensor([62.0000,  1.0000, 41.9265,  0.0000,  0.0000])\n",
            "Target: tensor([15709.2783])\n",
            "Prediction: tensor(22926.6680)\n"
          ],
          "name": "stdout"
        }
      ]
    },
    {
      "cell_type": "code",
      "metadata": {
        "colab": {
          "base_uri": "https://localhost:8080/"
        },
        "id": "MLlw7lNl7gw4",
        "outputId": "d25eb719-2d9c-4489-9557-77b59e48b866"
      },
      "source": [
        "input, target = val_ds[23]\n",
        "predict_single(input, target, model)"
      ],
      "execution_count": null,
      "outputs": [
        {
          "output_type": "stream",
          "text": [
            "Input: tensor([35.0000,  0.0000, 29.4263,  0.0000,  1.0000])\n",
            "Target: tensor([24484.1738])\n",
            "Prediction: tensor(15937.5391)\n"
          ],
          "name": "stdout"
        }
      ]
    },
    {
      "cell_type": "markdown",
      "metadata": {
        "id": "ncttT-qS7gw4"
      },
      "source": [
        "Are you happy with your model's predictions? Try to improve them further."
      ]
    },
    {
      "cell_type": "markdown",
      "metadata": {
        "id": "tkUHYItK7gw4"
      },
      "source": [
        "## (Optional) Step 6: Try another dataset & blog about it\n",
        "\n",
        "While this last step is optional for the submission of your assignment, we highly recommend that you do it. Try to replicate this notebook for a different linear regression or logistic regression problem. This will help solidify your understanding, and give you a chance to differentiate the generic patterns in machine learning from problem-specific details.You can use one of these starer notebooks (just change the dataset):\n",
        "\n",
        "- Linear regression (minimal): https://jovian.ai/aakashns/housing-linear-minimal\n",
        "- Logistic regression (minimal): https://jovian.ai/aakashns/mnist-logistic-minimal\n",
        "\n",
        "Here are some sources to find good datasets:\n",
        "\n",
        "- https://lionbridge.ai/datasets/10-open-datasets-for-linear-regression/\n",
        "- https://www.kaggle.com/rtatman/datasets-for-regression-analysis\n",
        "- https://archive.ics.uci.edu/ml/datasets.php?format=&task=reg&att=&area=&numAtt=&numIns=&type=&sort=nameUp&view=table\n",
        "- https://people.sc.fsu.edu/~jburkardt/datasets/regression/regression.html\n",
        "- https://archive.ics.uci.edu/ml/datasets/wine+quality\n",
        "- https://pytorch.org/docs/stable/torchvision/datasets.html\n",
        "\n",
        "We also recommend that you write a blog about your approach to the problem. Here is a suggested structure for your post (feel free to experiment with it):\n",
        "\n",
        "- Interesting title & subtitle\n",
        "- Overview of what the blog covers (which dataset, linear regression or logistic regression, intro to PyTorch)\n",
        "- Downloading & exploring the data\n",
        "- Preparing the data for training\n",
        "- Creating a model using PyTorch\n",
        "- Training the model to fit the data\n",
        "- Your thoughts on how to experiment with different hyperparmeters to reduce loss\n",
        "- Making predictions using the model\n",
        "\n",
        "As with the previous assignment, you can [embed Juptyer notebook cells & outputs from Jovian](https://medium.com/jovianml/share-and-embed-jupyter-notebooks-online-with-jovian-ml-df709a03064e) into your blog. \n",
        "\n",
        "Don't forget to share your work on the forum: https://jovian.ai/forum/t/linear-regression-and-logistic-regression-notebooks-and-blog-posts/14039"
      ]
    },
    {
      "cell_type": "code",
      "metadata": {
        "colab": {
          "base_uri": "https://localhost:8080/",
          "height": 184
        },
        "id": "fQuZzZg17gw4",
        "outputId": "05a5559a-9976-4a72-8cd2-33221dc6f09c"
      },
      "source": [
        "jovian.commit(project=project_name, environment=None)\n",
        "jovian.commit(project=project_name, environment=None) # try again, kaggle fails sometimes"
      ],
      "execution_count": null,
      "outputs": [
        {
          "output_type": "stream",
          "text": [
            "[jovian] Detected Colab notebook...\u001b[0m\n",
            "[jovian] Uploading colab notebook to Jovian...\u001b[0m\n",
            "[jovian] Attaching records (metrics, hyperparameters, dataset etc.)\u001b[0m\n",
            "[jovian] Committed successfully! https://jovian.ai/aayrm5/02-insurance-linear-regression\u001b[0m\n",
            "[jovian] Detected Colab notebook...\u001b[0m\n",
            "[jovian] Uploading colab notebook to Jovian...\u001b[0m\n",
            "[jovian] Attaching records (metrics, hyperparameters, dataset etc.)\u001b[0m\n",
            "[jovian] Committed successfully! https://jovian.ai/aayrm5/02-insurance-linear-regression\u001b[0m\n"
          ],
          "name": "stdout"
        },
        {
          "output_type": "execute_result",
          "data": {
            "application/vnd.google.colaboratory.intrinsic+json": {
              "type": "string"
            },
            "text/plain": [
              "'https://jovian.ai/aayrm5/02-insurance-linear-regression'"
            ]
          },
          "metadata": {
            "tags": []
          },
          "execution_count": 102
        }
      ]
    },
    {
      "cell_type": "code",
      "metadata": {
        "colab": {
          "base_uri": "https://localhost:8080/"
        },
        "id": "u3H7jF-S7gw5",
        "outputId": "30d1bbbf-15af-4712-adcc-7c49277b1603"
      },
      "source": [
        "jovian.submit(assignment=\"zerotogans-a2\", project='my-project')"
      ],
      "execution_count": null,
      "outputs": [
        {
          "output_type": "stream",
          "text": [
            "[jovian] Detected Colab notebook...\u001b[0m\n",
            "[jovian] Uploading colab notebook to Jovian...\u001b[0m\n",
            "[jovian] Capturing environment..\u001b[0m\n",
            "[jovian] Attaching records (metrics, hyperparameters, dataset etc.)\u001b[0m\n",
            "[jovian] Committed successfully! https://jovian.ai/aayrm5/my-project\u001b[0m\n",
            "[jovian] Submitting assignment..\u001b[0m\n",
            "[jovian] Verify your submission at https://jovian.ai/learn/deep-learning-with-pytorch-zero-to-gans/assignment/assignment-2-train-your-first-model\u001b[0m\n"
          ],
          "name": "stdout"
        }
      ]
    },
    {
      "cell_type": "code",
      "metadata": {
        "id": "sZfnWOxGiNSt"
      },
      "source": [
        ""
      ],
      "execution_count": null,
      "outputs": []
    }
  ]
}