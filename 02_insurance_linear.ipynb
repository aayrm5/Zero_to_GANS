{
  "nbformat": 4,
  "nbformat_minor": 0,
  "metadata": {
    "colab": {
      "name": "02-insurance-linear.ipynb",
      "provenance": [],
      "collapsed_sections": [],
      "include_colab_link": true
    },
    "kernelspec": {
      "display_name": "Python 3",
      "language": "python",
      "name": "python3"
    },
    "language_info": {
      "codemirror_mode": {
        "name": "ipython",
        "version": 3
      },
      "file_extension": ".py",
      "mimetype": "text/x-python",
      "name": "python",
      "nbconvert_exporter": "python",
      "pygments_lexer": "ipython3",
      "version": "3.8.5"
    }
  },
  "cells": [
    {
      "cell_type": "markdown",
      "metadata": {
        "id": "view-in-github",
        "colab_type": "text"
      },
      "source": [
        "<a href=\"https://colab.research.google.com/github/aayrm5/Zero_to_GANS/blob/main/02_insurance_linear.ipynb\" target=\"_parent\"><img src=\"https://colab.research.google.com/assets/colab-badge.svg\" alt=\"Open In Colab\"/></a>"
      ]
    },
    {
      "cell_type": "code",
      "metadata": {
        "id": "VGldKUV1LiBg"
      },
      "source": [
        "# Jovian Commit Essentials\n",
        "# Please retain and execute this cell without modifying the contents for `jovian.commit` to work\n",
        "!pip install jovian --upgrade -q\n",
        "import jovian\n",
        "jovian.utils.colab.set_colab_file_id('13bF95-g0YnK_f7Po-OLuam_9cjqst7lG')"
      ],
      "execution_count": 1,
      "outputs": []
    },
    {
      "cell_type": "markdown",
      "metadata": {
        "_cell_guid": "b1076dfc-b9ad-4769-8c92-a6c4dae69d19",
        "_uuid": "8f2839f25d086af736a60e9eeb907d3b93b6e0e5",
        "id": "lHQtNWPM7gwe"
      },
      "source": [
        "# Insurance cost prediction using linear regression\n",
        "\n",
        "Make a submisson here: https://jovian.ai/learn/deep-learning-with-pytorch-zero-to-gans/assignment/assignment-2-train-your-first-model\n",
        "\n",
        "In this assignment we're going to use information like a person's age, sex, BMI, no. of children and smoking habit to predict the price of yearly medical bills. This kind of model is useful for insurance companies to determine the yearly insurance premium for a person. The dataset for this problem is taken from [Kaggle](https://www.kaggle.com/mirichoi0218/insurance).\n",
        "\n",
        "\n",
        "We will create a model with the following steps:\n",
        "1. Download and explore the dataset\n",
        "2. Prepare the dataset for training\n",
        "3. Create a linear regression model\n",
        "4. Train the model to fit the data\n",
        "5. Make predictions using the trained model\n",
        "\n",
        "\n",
        "This assignment builds upon the concepts from the first 2 lessons. It will help to review these Jupyter notebooks:\n",
        "- PyTorch basics: https://jovian.ai/aakashns/01-pytorch-basics\n",
        "- Linear Regression: https://jovian.ai/aakashns/02-linear-regression\n",
        "- Logistic Regression: https://jovian.ai/aakashns/03-logistic-regression\n",
        "- Linear regression (minimal): https://jovian.ai/aakashns/housing-linear-minimal\n",
        "- Logistic regression (minimal): https://jovian.ai/aakashns/mnist-logistic-minimal\n",
        "\n",
        "As you go through this notebook, you will find a **???** in certain places. Your job is to replace the **???** with appropriate code or values, to ensure that the notebook runs properly end-to-end . In some cases, you'll be required to choose some hyperparameters (learning rate, batch size etc.). Try to experiment with the hypeparameters to get the lowest loss.\n"
      ]
    },
    {
      "cell_type": "code",
      "metadata": {
        "id": "9y0yZdav7gwe"
      },
      "source": [
        "# Uncomment and run the appropriate command for your operating system, if required\n",
        "\n",
        "# Linux / Binder\n",
        "# !pip install numpy matplotlib pandas torch==1.7.0+cpu torchvision==0.8.1+cpu torchaudio==0.7.0 -f https://download.pytorch.org/whl/torch_stable.html\n",
        "\n",
        "# Windows\n",
        "# !pip install numpy matplotlib pandas torch==1.7.0+cpu torchvision==0.8.1+cpu torchaudio==0.7.0 -f https://download.pytorch.org/whl/torch_stable.html\n",
        "\n",
        "# MacOS\n",
        "# !pip install numpy matplotlib pandas torch torchvision torchaudio"
      ],
      "execution_count": null,
      "outputs": []
    },
    {
      "cell_type": "code",
      "metadata": {
        "id": "kwx9IQgc7gwg"
      },
      "source": [
        "import torch\n",
        "import jovian\n",
        "import torchvision\n",
        "import torch.nn as nn\n",
        "import pandas as pd\n",
        "import matplotlib.pyplot as plt\n",
        "import torch.nn.functional as F\n",
        "from torchvision.datasets.utils import download_url\n",
        "from torch.utils.data import DataLoader, TensorDataset, random_split"
      ],
      "execution_count": 2,
      "outputs": []
    },
    {
      "cell_type": "code",
      "metadata": {
        "id": "sSbeieqS7gwg"
      },
      "source": [
        "project_name='02-insurance-linear-regression' # will be used by jovian.commit"
      ],
      "execution_count": 3,
      "outputs": []
    },
    {
      "cell_type": "markdown",
      "metadata": {
        "id": "gO-cdzkt7gwh"
      },
      "source": [
        "## Step 1: Download and explore the data\n",
        "\n",
        "Let us begin by downloading the data. We'll use the `download_url` function from PyTorch to get the data as a CSV (comma-separated values) file. "
      ]
    },
    {
      "cell_type": "code",
      "metadata": {
        "_cell_guid": "79c7e3d0-c299-4dcb-8224-4455121ee9b0",
        "_uuid": "d629ff2d2480ee46fbb7e2d37f6b5fab8052498a",
        "colab": {
          "base_uri": "https://localhost:8080/"
        },
        "id": "eDDLFDK-7gwh",
        "outputId": "4056e8ac-3111-4ffb-94a5-93af78c225a7"
      },
      "source": [
        "DATASET_URL = \"https://hub.jovian.ml/wp-content/uploads/2020/05/insurance.csv\"\n",
        "DATA_FILENAME = \"insurance.csv\"\n",
        "download_url(DATASET_URL, '.')"
      ],
      "execution_count": 4,
      "outputs": [
        {
          "output_type": "stream",
          "text": [
            "Using downloaded and verified file: ./insurance.csv\n"
          ],
          "name": "stdout"
        }
      ]
    },
    {
      "cell_type": "markdown",
      "metadata": {
        "id": "gLPSTli47gwj"
      },
      "source": [
        "To load the dataset into memory, we'll use the `read_csv` function from the `pandas` library. The data will be loaded as a Pandas dataframe. See this short tutorial to learn more: https://data36.com/pandas-tutorial-1-basics-reading-data-files-dataframes-data-selection/"
      ]
    },
    {
      "cell_type": "code",
      "metadata": {
        "colab": {
          "base_uri": "https://localhost:8080/",
          "height": 206
        },
        "id": "3drC8Dg_7gwl",
        "outputId": "e0103d3e-0981-4e02-9e78-6a9b57e92908"
      },
      "source": [
        "dataframe_raw = pd.read_csv(DATA_FILENAME)\n",
        "dataframe_raw.head()"
      ],
      "execution_count": 5,
      "outputs": [
        {
          "output_type": "execute_result",
          "data": {
            "text/html": [
              "<div>\n",
              "<style scoped>\n",
              "    .dataframe tbody tr th:only-of-type {\n",
              "        vertical-align: middle;\n",
              "    }\n",
              "\n",
              "    .dataframe tbody tr th {\n",
              "        vertical-align: top;\n",
              "    }\n",
              "\n",
              "    .dataframe thead th {\n",
              "        text-align: right;\n",
              "    }\n",
              "</style>\n",
              "<table border=\"1\" class=\"dataframe\">\n",
              "  <thead>\n",
              "    <tr style=\"text-align: right;\">\n",
              "      <th></th>\n",
              "      <th>age</th>\n",
              "      <th>sex</th>\n",
              "      <th>bmi</th>\n",
              "      <th>children</th>\n",
              "      <th>smoker</th>\n",
              "      <th>region</th>\n",
              "      <th>charges</th>\n",
              "    </tr>\n",
              "  </thead>\n",
              "  <tbody>\n",
              "    <tr>\n",
              "      <th>0</th>\n",
              "      <td>19</td>\n",
              "      <td>female</td>\n",
              "      <td>27.900</td>\n",
              "      <td>0</td>\n",
              "      <td>yes</td>\n",
              "      <td>southwest</td>\n",
              "      <td>16884.92400</td>\n",
              "    </tr>\n",
              "    <tr>\n",
              "      <th>1</th>\n",
              "      <td>18</td>\n",
              "      <td>male</td>\n",
              "      <td>33.770</td>\n",
              "      <td>1</td>\n",
              "      <td>no</td>\n",
              "      <td>southeast</td>\n",
              "      <td>1725.55230</td>\n",
              "    </tr>\n",
              "    <tr>\n",
              "      <th>2</th>\n",
              "      <td>28</td>\n",
              "      <td>male</td>\n",
              "      <td>33.000</td>\n",
              "      <td>3</td>\n",
              "      <td>no</td>\n",
              "      <td>southeast</td>\n",
              "      <td>4449.46200</td>\n",
              "    </tr>\n",
              "    <tr>\n",
              "      <th>3</th>\n",
              "      <td>33</td>\n",
              "      <td>male</td>\n",
              "      <td>22.705</td>\n",
              "      <td>0</td>\n",
              "      <td>no</td>\n",
              "      <td>northwest</td>\n",
              "      <td>21984.47061</td>\n",
              "    </tr>\n",
              "    <tr>\n",
              "      <th>4</th>\n",
              "      <td>32</td>\n",
              "      <td>male</td>\n",
              "      <td>28.880</td>\n",
              "      <td>0</td>\n",
              "      <td>no</td>\n",
              "      <td>northwest</td>\n",
              "      <td>3866.85520</td>\n",
              "    </tr>\n",
              "  </tbody>\n",
              "</table>\n",
              "</div>"
            ],
            "text/plain": [
              "   age     sex     bmi  children smoker     region      charges\n",
              "0   19  female  27.900         0    yes  southwest  16884.92400\n",
              "1   18    male  33.770         1     no  southeast   1725.55230\n",
              "2   28    male  33.000         3     no  southeast   4449.46200\n",
              "3   33    male  22.705         0     no  northwest  21984.47061\n",
              "4   32    male  28.880         0     no  northwest   3866.85520"
            ]
          },
          "metadata": {
            "tags": []
          },
          "execution_count": 5
        }
      ]
    },
    {
      "cell_type": "markdown",
      "metadata": {
        "id": "19Z37KN77gwm"
      },
      "source": [
        "We're going to do a slight customization of the data, so that you every participant receives a slightly different version of the dataset. Fill in your name below as a string (enter at least 5 characters)"
      ]
    },
    {
      "cell_type": "code",
      "metadata": {
        "id": "4sMoEba67gwm"
      },
      "source": [
        "your_name = 'Riyaz' # at least 5 characters"
      ],
      "execution_count": 6,
      "outputs": []
    },
    {
      "cell_type": "markdown",
      "metadata": {
        "id": "20__7aju7gwn"
      },
      "source": [
        "The `customize_dataset` function will customize the dataset slightly using your name as a source of random numbers."
      ]
    },
    {
      "cell_type": "code",
      "metadata": {
        "id": "782gIh0J7gwn"
      },
      "source": [
        "def customize_dataset(dataframe_raw, rand_str):\n",
        "    dataframe = dataframe_raw.copy(deep=True)\n",
        "    # drop some rows\n",
        "    dataframe = dataframe.sample(int(0.95*len(dataframe)), random_state=int(ord(rand_str[0])))\n",
        "    # scale input\n",
        "    dataframe.bmi = dataframe.bmi * ord(rand_str[1])/100.\n",
        "    # scale target\n",
        "    dataframe.charges = dataframe.charges * ord(rand_str[2])/100.\n",
        "    # drop column\n",
        "    if ord(rand_str[3]) % 2 == 1:\n",
        "        dataframe = dataframe.drop(['region'], axis=1)\n",
        "    return dataframe"
      ],
      "execution_count": 7,
      "outputs": []
    },
    {
      "cell_type": "code",
      "metadata": {
        "colab": {
          "base_uri": "https://localhost:8080/",
          "height": 206
        },
        "id": "BOPp2LBx7gwo",
        "outputId": "27e81ab3-6785-4004-f4b3-acbd68d8dbbc"
      },
      "source": [
        "dataframe = customize_dataset(dataframe_raw, your_name)\n",
        "dataframe.head()"
      ],
      "execution_count": 8,
      "outputs": [
        {
          "output_type": "execute_result",
          "data": {
            "text/html": [
              "<div>\n",
              "<style scoped>\n",
              "    .dataframe tbody tr th:only-of-type {\n",
              "        vertical-align: middle;\n",
              "    }\n",
              "\n",
              "    .dataframe tbody tr th {\n",
              "        vertical-align: top;\n",
              "    }\n",
              "\n",
              "    .dataframe thead th {\n",
              "        text-align: right;\n",
              "    }\n",
              "</style>\n",
              "<table border=\"1\" class=\"dataframe\">\n",
              "  <thead>\n",
              "    <tr style=\"text-align: right;\">\n",
              "      <th></th>\n",
              "      <th>age</th>\n",
              "      <th>sex</th>\n",
              "      <th>bmi</th>\n",
              "      <th>children</th>\n",
              "      <th>smoker</th>\n",
              "      <th>charges</th>\n",
              "    </tr>\n",
              "  </thead>\n",
              "  <tbody>\n",
              "    <tr>\n",
              "      <th>457</th>\n",
              "      <td>57</td>\n",
              "      <td>female</td>\n",
              "      <td>32.01975</td>\n",
              "      <td>0</td>\n",
              "      <td>no</td>\n",
              "      <td>14327.337811</td>\n",
              "    </tr>\n",
              "    <tr>\n",
              "      <th>1050</th>\n",
              "      <td>44</td>\n",
              "      <td>female</td>\n",
              "      <td>38.80275</td>\n",
              "      <td>1</td>\n",
              "      <td>no</td>\n",
              "      <td>9707.993894</td>\n",
              "    </tr>\n",
              "    <tr>\n",
              "      <th>56</th>\n",
              "      <td>58</td>\n",
              "      <td>female</td>\n",
              "      <td>33.41625</td>\n",
              "      <td>2</td>\n",
              "      <td>no</td>\n",
              "      <td>16464.916187</td>\n",
              "    </tr>\n",
              "    <tr>\n",
              "      <th>311</th>\n",
              "      <td>19</td>\n",
              "      <td>female</td>\n",
              "      <td>25.93500</td>\n",
              "      <td>0</td>\n",
              "      <td>no</td>\n",
              "      <td>2102.224960</td>\n",
              "    </tr>\n",
              "    <tr>\n",
              "      <th>1288</th>\n",
              "      <td>20</td>\n",
              "      <td>male</td>\n",
              "      <td>41.37000</td>\n",
              "      <td>2</td>\n",
              "      <td>yes</td>\n",
              "      <td>46396.924860</td>\n",
              "    </tr>\n",
              "  </tbody>\n",
              "</table>\n",
              "</div>"
            ],
            "text/plain": [
              "      age     sex       bmi  children smoker       charges\n",
              "457    57  female  32.01975         0     no  14327.337811\n",
              "1050   44  female  38.80275         1     no   9707.993894\n",
              "56     58  female  33.41625         2     no  16464.916187\n",
              "311    19  female  25.93500         0     no   2102.224960\n",
              "1288   20    male  41.37000         2    yes  46396.924860"
            ]
          },
          "metadata": {
            "tags": []
          },
          "execution_count": 8
        }
      ]
    },
    {
      "cell_type": "markdown",
      "metadata": {
        "id": "McZNi5j17gwo"
      },
      "source": [
        "Let us answer some basic questions about the dataset. \n",
        "\n",
        "\n",
        "**Q: How many rows does the dataset have?**"
      ]
    },
    {
      "cell_type": "code",
      "metadata": {
        "colab": {
          "base_uri": "https://localhost:8080/"
        },
        "id": "l-adcTrz7gwo",
        "outputId": "8c61be41-034d-4842-afdc-f4418a97d804"
      },
      "source": [
        "num_rows = dataframe.shape[0]\n",
        "print(num_rows)"
      ],
      "execution_count": 9,
      "outputs": [
        {
          "output_type": "stream",
          "text": [
            "1271\n"
          ],
          "name": "stdout"
        }
      ]
    },
    {
      "cell_type": "markdown",
      "metadata": {
        "id": "qy-_T5Mh7gwo"
      },
      "source": [
        "**Q: How many columns doe the dataset have**"
      ]
    },
    {
      "cell_type": "code",
      "metadata": {
        "colab": {
          "base_uri": "https://localhost:8080/"
        },
        "id": "Kf4dG3U47gwo",
        "outputId": "616d55bd-861b-4111-8e86-c876085a0aae"
      },
      "source": [
        "num_cols = dataframe.shape[1]\n",
        "print(num_cols)"
      ],
      "execution_count": 10,
      "outputs": [
        {
          "output_type": "stream",
          "text": [
            "6\n"
          ],
          "name": "stdout"
        }
      ]
    },
    {
      "cell_type": "markdown",
      "metadata": {
        "id": "hDlICYXn7gwp"
      },
      "source": [
        "**Q: What are the column titles of the input variables?**"
      ]
    },
    {
      "cell_type": "code",
      "metadata": {
        "colab": {
          "base_uri": "https://localhost:8080/"
        },
        "id": "WxehLpH27gwp",
        "outputId": "41474362-dac2-4fd6-821e-d635de8d0668"
      },
      "source": [
        "input_cols = list(dataframe.columns[:-1])\r\n",
        "input_cols"
      ],
      "execution_count": 11,
      "outputs": [
        {
          "output_type": "execute_result",
          "data": {
            "text/plain": [
              "['age', 'sex', 'bmi', 'children', 'smoker']"
            ]
          },
          "metadata": {
            "tags": []
          },
          "execution_count": 11
        }
      ]
    },
    {
      "cell_type": "markdown",
      "metadata": {
        "id": "DXYcCqJ97gwp"
      },
      "source": [
        "**Q: Which of the input columns are non-numeric or categorial variables ?**\n",
        "\n",
        "Hint: `sex` is one of them. List the columns that are not numbers."
      ]
    },
    {
      "cell_type": "code",
      "metadata": {
        "colab": {
          "base_uri": "https://localhost:8080/"
        },
        "id": "ggCW4JfP7gwq",
        "outputId": "0830c10c-75b6-4a21-bdb8-ae0b7c050315"
      },
      "source": [
        "categorical_cols = list(dataframe.select_dtypes('O').columns)\r\n",
        "categorical_cols"
      ],
      "execution_count": 12,
      "outputs": [
        {
          "output_type": "execute_result",
          "data": {
            "text/plain": [
              "['sex', 'smoker']"
            ]
          },
          "metadata": {
            "tags": []
          },
          "execution_count": 12
        }
      ]
    },
    {
      "cell_type": "markdown",
      "metadata": {
        "id": "YMcDdUvL7gwq"
      },
      "source": [
        "**Q: What are the column titles of output/target variable(s)?**"
      ]
    },
    {
      "cell_type": "code",
      "metadata": {
        "colab": {
          "base_uri": "https://localhost:8080/"
        },
        "id": "H7khA6so7gwr",
        "outputId": "38ed8a5a-d892-49b2-f190-5d7fadeb4a44"
      },
      "source": [
        "output_cols = [dataframe.columns[-1]]\r\n",
        "output_cols"
      ],
      "execution_count": 13,
      "outputs": [
        {
          "output_type": "execute_result",
          "data": {
            "text/plain": [
              "['charges']"
            ]
          },
          "metadata": {
            "tags": []
          },
          "execution_count": 13
        }
      ]
    },
    {
      "cell_type": "markdown",
      "metadata": {
        "id": "DHm25Hk37gwr"
      },
      "source": [
        "**Q: (Optional) What is the minimum, maximum and average value of the `charges` column? Can you show the distribution of values in a graph?**\n",
        "Use this data visualization cheatsheet for referece: https://jovian.ml/aakashns/dataviz-cheatsheet"
      ]
    },
    {
      "cell_type": "code",
      "metadata": {
        "colab": {
          "base_uri": "https://localhost:8080/",
          "height": 462
        },
        "id": "uQmkPMiv7gws",
        "outputId": "d88f87af-39ae-40e2-a627-b5075424a86e"
      },
      "source": [
        "# Write your answer here\r\n",
        "print(dataframe.agg({'charges':['min','max','mean']}))\r\n",
        "import seaborn as sns\r\n",
        "sns.set_style('darkgrid')\r\n",
        "plt.figure(figsize=(10,6))\r\n",
        "plt.hist(dataframe['charges'], bins=50, ec='black')\r\n",
        "plt.xlabel('Charges')\r\n",
        "plt.show()"
      ],
      "execution_count": 14,
      "outputs": [
        {
          "output_type": "stream",
          "text": [
            "           charges\n",
            "min    1357.467419\n",
            "max   77162.217892\n",
            "mean  15876.391392\n"
          ],
          "name": "stdout"
        },
        {
          "output_type": "display_data",
          "data": {
            "image/png": "[encoded data removed]",
            "text/plain": [
              "<Figure size 720x432 with 1 Axes>"
            ]
          },
          "metadata": {
            "tags": []
          }
        }
      ]
    },
    {
      "cell_type": "markdown",
      "metadata": {
        "id": "sQJmvUZf7gws"
      },
      "source": [
        "Remember to commit your notebook to Jovian after every step, so that you don't lose your work."
      ]
    },
    {
      "cell_type": "code",
      "metadata": {
        "id": "h2Fubb5N7gws"
      },
      "source": [
        "!pip install jovian --upgrade -q"
      ],
      "execution_count": 15,
      "outputs": []
    },
    {
      "cell_type": "code",
      "metadata": {
        "id": "dfhAudp77gws"
      },
      "source": [
        "import jovian"
      ],
      "execution_count": 16,
      "outputs": []
    },
    {
      "cell_type": "code",
      "metadata": {
        "colab": {
          "base_uri": "https://localhost:8080/",
          "height": 110
        },
        "id": "ykEJPHRx7gws",
        "outputId": "75ebfda1-eca0-4d66-f43d-224c6703cbb6"
      },
      "source": [
        "jovian.commit(project='my-project')"
      ],
      "execution_count": 17,
      "outputs": [
        {
          "output_type": "stream",
          "text": [
            "[jovian] Detected Colab notebook...\u001b[0m\n",
            "[jovian] Uploading colab notebook to Jovian...\u001b[0m\n",
            "[jovian] Capturing environment..\u001b[0m\n",
            "[jovian] Committed successfully! https://jovian.ai/aayrm5/my-project\u001b[0m\n"
          ],
          "name": "stdout"
        },
        {
          "output_type": "execute_result",
          "data": {
            "application/vnd.google.colaboratory.intrinsic+json": {
              "type": "string"
            },
            "text/plain": [
              "'https://jovian.ai/aayrm5/my-project'"
            ]
          },
          "metadata": {
            "tags": []
          },
          "execution_count": 17
        }
      ]
    },
    {
      "cell_type": "markdown",
      "metadata": {
        "id": "5wMFa_vH7gwt"
      },
      "source": [
        "## Step 2: Prepare the dataset for training\n",
        "\n",
        "We need to convert the data from the Pandas dataframe into a PyTorch tensors for training. To do this, the first step is to convert it numpy arrays. If you've filled out `input_cols`, `categorial_cols` and `output_cols` correctly, this following function will perform the conversion to numpy arrays."
      ]
    },
    {
      "cell_type": "code",
      "metadata": {
        "id": "xzc-p4rQ7gwt"
      },
      "source": [
        "def dataframe_to_arrays(dataframe):\n",
        "    # Make a copy of the original dataframe\n",
        "    dataframe1 = dataframe.copy(deep=True)\n",
        "    # Convert non-numeric categorical columns to numbers\n",
        "    for col in categorical_cols:\n",
        "        dataframe1[col] = dataframe1[col].astype('category').cat.codes\n",
        "    # Extract input & outupts as numpy arrays\n",
        "    inputs_array = dataframe1[input_cols].to_numpy()\n",
        "    targets_array = dataframe1[output_cols].to_numpy()\n",
        "    return inputs_array, targets_array"
      ],
      "execution_count": 18,
      "outputs": []
    },
    {
      "cell_type": "markdown",
      "metadata": {
        "id": "YzNknZLY7gwt"
      },
      "source": [
        "Read through the [Pandas documentation](https://pandas.pydata.org/pandas-docs/stable/user_guide/categorical.html) to understand how we're converting categorical variables into numbers."
      ]
    },
    {
      "cell_type": "code",
      "metadata": {
        "colab": {
          "base_uri": "https://localhost:8080/"
        },
        "id": "p9pwgJnZ7gwt",
        "outputId": "b9c3006e-7cf7-419f-b992-193245a0a425"
      },
      "source": [
        "inputs_array, targets_array = dataframe_to_arrays(dataframe)\n",
        "inputs_array, targets_array"
      ],
      "execution_count": 19,
      "outputs": [
        {
          "output_type": "execute_result",
          "data": {
            "text/plain": [
              "(array([[57.     ,  0.     , 32.01975,  0.     ,  0.     ],\n",
              "        [44.     ,  0.     , 38.80275,  1.     ,  0.     ],\n",
              "        [58.     ,  0.     , 33.41625,  2.     ,  0.     ],\n",
              "        ...,\n",
              "        [59.     ,  0.     , 36.54   ,  2.     ,  0.     ],\n",
              "        [41.     ,  1.     , 30.24   ,  1.     ,  0.     ],\n",
              "        [36.     ,  0.     , 31.521  ,  0.     ,  0.     ]]),\n",
              " array([[14327.3378105],\n",
              "        [ 9707.9938945],\n",
              "        [16464.9161875],\n",
              "        ...,\n",
              "        [44661.8357163],\n",
              "        [ 7601.50435  ],\n",
              "        [ 6379.332718 ]]))"
            ]
          },
          "metadata": {
            "tags": []
          },
          "execution_count": 19
        }
      ]
    },
    {
      "cell_type": "markdown",
      "metadata": {
        "id": "sPz42ye07gwt"
      },
      "source": [
        "**Q: Convert the numpy arrays `inputs_array` and `targets_array` into PyTorch tensors. Make sure that the data type is `torch.float32`.**"
      ]
    },
    {
      "cell_type": "code",
      "metadata": {
        "colab": {
          "base_uri": "https://localhost:8080/"
        },
        "id": "HgzlRu947gwt",
        "outputId": "ba2d4b4b-6e4e-44ea-e71a-d76c7ac13649"
      },
      "source": [
        "inputs = torch.from_numpy(inputs_array).type(torch.float32)\n",
        "targets = torch.from_numpy(targets_array).type(torch.float32)\n",
        "inputs[:2], targets[:2]"
      ],
      "execution_count": 20,
      "outputs": [
        {
          "output_type": "execute_result",
          "data": {
            "text/plain": [
              "(tensor([[57.0000,  0.0000, 32.0197,  0.0000,  0.0000],\n",
              "         [44.0000,  0.0000, 38.8027,  1.0000,  0.0000]]), tensor([[14327.3379],\n",
              "         [ 9707.9941]]))"
            ]
          },
          "metadata": {
            "tags": []
          },
          "execution_count": 20
        }
      ]
    },
    {
      "cell_type": "code",
      "metadata": {
        "colab": {
          "base_uri": "https://localhost:8080/"
        },
        "id": "G5uiId1W7gwu",
        "outputId": "371381c4-ba5b-4f61-e7f2-2bcb76d1f6c3"
      },
      "source": [
        "inputs.dtype, targets.dtype"
      ],
      "execution_count": 21,
      "outputs": [
        {
          "output_type": "execute_result",
          "data": {
            "text/plain": [
              "(torch.float32, torch.float32)"
            ]
          },
          "metadata": {
            "tags": []
          },
          "execution_count": 21
        }
      ]
    },
    {
      "cell_type": "markdown",
      "metadata": {
        "id": "G-eFoqbG7gwu"
      },
      "source": [
        "Next, we need to create PyTorch datasets & data loaders for training & validation. We'll start by creating a `TensorDataset`."
      ]
    },
    {
      "cell_type": "code",
      "metadata": {
        "colab": {
          "base_uri": "https://localhost:8080/"
        },
        "id": "CMMhuY2y7gwu",
        "outputId": "391cb161-5181-410b-8404-6deacd92f83f"
      },
      "source": [
        "dataset = TensorDataset(inputs, targets)\r\n",
        "dataset[:5]"
      ],
      "execution_count": 22,
      "outputs": [
        {
          "output_type": "execute_result",
          "data": {
            "text/plain": [
              "(tensor([[57.0000,  0.0000, 32.0197,  0.0000,  0.0000],\n",
              "         [44.0000,  0.0000, 38.8027,  1.0000,  0.0000],\n",
              "         [58.0000,  0.0000, 33.4162,  2.0000,  0.0000],\n",
              "         [19.0000,  0.0000, 25.9350,  0.0000,  0.0000],\n",
              "         [20.0000,  1.0000, 41.3700,  2.0000,  1.0000]]), tensor([[14327.3379],\n",
              "         [ 9707.9941],\n",
              "         [16464.9160],\n",
              "         [ 2102.2249],\n",
              "         [46396.9258]]))"
            ]
          },
          "metadata": {
            "tags": []
          },
          "execution_count": 22
        }
      ]
    },
    {
      "cell_type": "markdown",
      "metadata": {
        "id": "JNPwLQ1O7gwu"
      },
      "source": [
        "**Q: Pick a number between `0.1` and `0.2` to determine the fraction of data that will be used for creating the validation set. Then use `random_split` to create training & validation datasets.**"
      ]
    },
    {
      "cell_type": "code",
      "metadata": {
        "id": "grasUJCt7gwu"
      },
      "source": [
        "val_percent = 0.125 # between 0.1 and 0.2\n",
        "val_size = int(num_rows * val_percent)\n",
        "train_size = num_rows - val_size\n",
        "\n",
        "\n",
        "train_ds, val_ds = random_split(dataset, [train_size, val_size]) # Use the random_split function to split dataset into 2 parts of the desired length"
      ],
      "execution_count": 23,
      "outputs": []
    },
    {
      "cell_type": "markdown",
      "metadata": {
        "id": "2YmRUx3O7gwv"
      },
      "source": [
        "Finally, we can create data loaders for training & validation.\n",
        "\n",
        "**Q: Pick a batch size for the data loader.**"
      ]
    },
    {
      "cell_type": "code",
      "metadata": {
        "id": "at24m7pF7gwv"
      },
      "source": [
        "batch_size = 120"
      ],
      "execution_count": 24,
      "outputs": []
    },
    {
      "cell_type": "code",
      "metadata": {
        "colab": {
          "base_uri": "https://localhost:8080/"
        },
        "id": "ii_V_k157gwv",
        "outputId": "1d7d2d4a-4b81-4652-cde8-2c9120c4c0b4"
      },
      "source": [
        "train_loader = DataLoader(train_ds, batch_size, shuffle=True)\n",
        "val_loader = DataLoader(val_ds, batch_size)\n",
        "len(train_loader), len(val_loader)"
      ],
      "execution_count": 25,
      "outputs": [
        {
          "output_type": "execute_result",
          "data": {
            "text/plain": [
              "(10, 2)"
            ]
          },
          "metadata": {
            "tags": []
          },
          "execution_count": 25
        }
      ]
    },
    {
      "cell_type": "markdown",
      "metadata": {
        "id": "qXoiOiWO7gwv"
      },
      "source": [
        "Let's look at a batch of data to verify everything is working fine so far."
      ]
    },
    {
      "cell_type": "code",
      "metadata": {
        "colab": {
          "base_uri": "https://localhost:8080/"
        },
        "id": "9wIVbe607gww",
        "outputId": "7668e380-3f05-4cf6-a81a-a5d2d0ded82d"
      },
      "source": [
        "for xb, yb in train_loader:\n",
        "    print(\"inputs:\", xb)\n",
        "    print(\"targets:\", yb)\n",
        "    break"
      ],
      "execution_count": 26,
      "outputs": [
        {
          "output_type": "stream",
          "text": [
            "inputs: tensor([[48.0000,  0.0000, 37.7055,  1.0000,  0.0000],\n",
            "        [58.0000,  0.0000, 34.0148,  1.0000,  0.0000],\n",
            "        [23.0000,  0.0000, 34.4190,  2.0000,  1.0000],\n",
            "        [59.0000,  0.0000, 36.9600,  0.0000,  0.0000],\n",
            "        [44.0000,  0.0000, 38.3040,  0.0000,  0.0000],\n",
            "        [37.0000,  0.0000, 26.8328,  1.0000,  1.0000],\n",
            "        [45.0000,  1.0000, 35.3850,  1.0000,  0.0000],\n",
            "        [48.0000,  1.0000, 31.7100,  2.0000,  0.0000],\n",
            "        [62.0000,  0.0000, 31.4160,  0.0000,  0.0000],\n",
            "        [40.0000,  0.0000, 29.5260,  1.0000,  1.0000],\n",
            "        [47.0000,  0.0000, 29.0273,  2.0000,  1.0000],\n",
            "        [62.0000,  0.0000, 41.1180,  0.0000,  0.0000],\n",
            "        [63.0000,  0.0000, 22.7430,  0.0000,  0.0000],\n",
            "        [25.0000,  1.0000, 28.1400,  3.0000,  0.0000],\n",
            "        [26.0000,  1.0000, 32.6183,  0.0000,  0.0000],\n",
            "        [34.0000,  1.0000, 37.6058,  0.0000,  0.0000],\n",
            "        [61.0000,  1.0000, 35.6107,  0.0000,  0.0000],\n",
            "        [52.0000,  1.0000, 34.9125,  0.0000,  0.0000],\n",
            "        [29.0000,  0.0000, 32.7180,  0.0000,  0.0000],\n",
            "        [39.0000,  0.0000, 24.4387,  3.0000,  0.0000],\n",
            "        [38.0000,  1.0000, 29.2267,  2.0000,  0.0000],\n",
            "        [34.0000,  0.0000, 35.3850,  1.0000,  0.0000],\n",
            "        [36.0000,  1.0000, 36.9600,  1.0000,  1.0000],\n",
            "        [46.0000,  1.0000, 35.1120,  1.0000,  0.0000],\n",
            "        [48.0000,  0.0000, 23.9400,  0.0000,  0.0000],\n",
            "        [44.0000,  1.0000, 38.9550,  2.0000,  0.0000],\n",
            "        [45.0000,  0.0000, 32.0197,  1.0000,  1.0000],\n",
            "        [45.0000,  0.0000, 26.4338,  2.0000,  0.0000],\n",
            "        [42.0000,  0.0000, 30.9540,  2.0000,  0.0000],\n",
            "        [53.0000,  0.0000, 37.6950,  2.0000,  0.0000],\n",
            "        [44.0000,  0.0000, 29.0273,  0.0000,  0.0000],\n",
            "        [61.0000,  0.0000, 46.2000,  0.0000,  0.0000],\n",
            "        [43.0000,  1.0000, 31.6050,  1.0000,  0.0000],\n",
            "        [51.0000,  0.0000, 35.9100,  1.0000,  0.0000],\n",
            "        [44.0000,  0.0000, 31.3005,  2.0000,  0.0000],\n",
            "        [62.0000,  0.0000, 34.3140,  0.0000,  0.0000],\n",
            "        [39.0000,  0.0000, 36.0360,  5.0000,  0.0000],\n",
            "        [22.0000,  1.0000, 37.3800,  0.0000,  1.0000],\n",
            "        [56.0000,  0.0000, 26.9325,  0.0000,  0.0000],\n",
            "        [20.0000,  0.0000, 30.4237,  0.0000,  0.0000],\n",
            "        [53.0000,  1.0000, 35.8102,  0.0000,  1.0000],\n",
            "        [63.0000,  1.0000, 35.3430,  3.0000,  0.0000],\n",
            "        [57.0000,  0.0000, 25.1790,  1.0000,  0.0000],\n",
            "        [22.0000,  0.0000, 24.3390,  0.0000,  0.0000],\n",
            "        [45.0000,  1.0000, 30.1350,  2.0000,  0.0000],\n",
            "        [29.0000,  0.0000, 27.3315,  0.0000,  0.0000],\n",
            "        [30.0000,  0.0000, 45.2760,  2.0000,  0.0000],\n",
            "        [24.0000,  0.0000, 35.0122,  0.0000,  0.0000],\n",
            "        [18.0000,  0.0000, 41.8110,  0.0000,  0.0000],\n",
            "        [26.0000,  0.0000, 30.2243,  0.0000,  0.0000],\n",
            "        [63.0000,  1.0000, 36.8445,  0.0000,  1.0000],\n",
            "        [40.0000,  1.0000, 30.8228,  1.0000,  0.0000],\n",
            "        [32.0000,  1.0000, 35.5110,  1.0000,  0.0000],\n",
            "        [57.0000,  1.0000, 24.8850,  0.0000,  0.0000],\n",
            "        [57.0000,  0.0000, 32.7180,  0.0000,  1.0000],\n",
            "        [28.0000,  1.0000, 39.9630,  0.0000,  0.0000],\n",
            "        [63.0000,  1.0000, 32.3400,  0.0000,  0.0000],\n",
            "        [59.0000,  0.0000, 29.2215,  3.0000,  0.0000],\n",
            "        [48.0000,  0.0000, 27.1425,  3.0000,  1.0000],\n",
            "        [18.0000,  1.0000, 26.4338,  0.0000,  1.0000],\n",
            "        [48.0000,  1.0000, 31.0800,  0.0000,  0.0000],\n",
            "        [24.0000,  0.0000, 35.6895,  0.0000,  0.0000],\n",
            "        [49.0000,  1.0000, 33.9150,  3.0000,  0.0000],\n",
            "        [24.0000,  1.0000, 27.0900,  0.0000,  0.0000],\n",
            "        [48.0000,  1.0000, 33.9150,  1.0000,  0.0000],\n",
            "        [34.0000,  1.0000, 26.5650,  2.0000,  1.0000],\n",
            "        [41.0000,  1.0000, 22.8690,  1.0000,  0.0000],\n",
            "        [29.0000,  0.0000, 21.2467,  2.0000,  0.0000],\n",
            "        [36.0000,  1.0000, 35.5110,  1.0000,  0.0000],\n",
            "        [50.0000,  0.0000, 46.9823,  0.0000,  0.0000],\n",
            "        [55.0000,  1.0000, 39.6007,  3.0000,  0.0000],\n",
            "        [47.0000,  0.0000, 27.4312,  1.0000,  1.0000],\n",
            "        [43.0000,  0.0000, 37.4220,  1.0000,  0.0000],\n",
            "        [45.0000,  0.0000, 40.1992,  0.0000,  0.0000],\n",
            "        [63.0000,  1.0000, 38.6032,  0.0000,  0.0000],\n",
            "        [48.0000,  0.0000, 34.9965,  0.0000,  0.0000],\n",
            "        [53.0000,  1.0000, 32.9175,  0.0000,  0.0000],\n",
            "        [40.0000,  1.0000, 26.2185,  2.0000,  0.0000],\n",
            "        [35.0000,  0.0000, 35.9205,  1.0000,  0.0000],\n",
            "        [60.0000,  1.0000, 34.7655,  3.0000,  0.0000],\n",
            "        [48.0000,  0.0000, 29.3265,  4.0000,  0.0000],\n",
            "        [28.0000,  0.0000, 27.2318,  1.0000,  0.0000],\n",
            "        [51.0000,  1.0000, 38.8500,  0.0000,  0.0000],\n",
            "        [37.0000,  0.0000, 30.9750,  2.0000,  0.0000],\n",
            "        [47.0000,  0.0000, 31.0222,  1.0000,  0.0000],\n",
            "        [35.0000,  0.0000, 27.4312,  0.0000,  0.0000],\n",
            "        [43.0000,  1.0000, 37.0755,  2.0000,  0.0000],\n",
            "        [22.0000,  1.0000, 39.5010,  1.0000,  1.0000],\n",
            "        [21.0000,  0.0000, 18.2700,  1.0000,  0.0000],\n",
            "        [22.0000,  0.0000, 28.4550,  0.0000,  0.0000],\n",
            "        [59.0000,  0.0000, 36.5400,  2.0000,  0.0000],\n",
            "        [20.0000,  1.0000, 31.6208,  5.0000,  0.0000],\n",
            "        [40.0000,  0.0000, 34.4137,  2.0000,  1.0000],\n",
            "        [43.0000,  1.0000, 29.1900,  0.0000,  1.0000],\n",
            "        [33.0000,  1.0000, 28.4550,  1.0000,  1.0000],\n",
            "        [32.0000,  1.0000, 30.3765,  1.0000,  1.0000],\n",
            "        [29.0000,  1.0000, 36.1200,  0.0000,  1.0000],\n",
            "        [49.0000,  0.0000, 31.4212,  0.0000,  0.0000],\n",
            "        [63.0000,  0.0000, 24.2393,  0.0000,  0.0000],\n",
            "        [27.0000,  0.0000, 32.1195,  1.0000,  0.0000],\n",
            "        [32.0000,  0.0000, 18.6532,  2.0000,  1.0000],\n",
            "        [27.0000,  1.0000, 29.9250,  0.0000,  1.0000],\n",
            "        [21.0000,  0.0000, 41.4645,  0.0000,  0.0000],\n",
            "        [58.0000,  1.0000, 33.6105,  1.0000,  0.0000],\n",
            "        [28.0000,  1.0000, 23.6408,  2.0000,  0.0000],\n",
            "        [18.0000,  0.0000, 29.6257,  0.0000,  0.0000],\n",
            "        [58.0000,  1.0000, 26.4338,  0.0000,  0.0000],\n",
            "        [30.0000,  1.0000, 37.0650,  0.0000,  1.0000],\n",
            "        [20.0000,  0.0000, 28.1820,  1.0000,  1.0000],\n",
            "        [38.0000,  1.0000, 36.4350,  2.0000,  0.0000],\n",
            "        [21.0000,  1.0000, 37.3065,  0.0000,  0.0000],\n",
            "        [47.0000,  1.0000, 29.6257,  3.0000,  1.0000],\n",
            "        [49.0000,  1.0000, 31.8150,  0.0000,  0.0000],\n",
            "        [51.0000,  0.0000, 27.0900,  1.0000,  0.0000],\n",
            "        [52.0000,  0.0000, 32.4188,  0.0000,  0.0000],\n",
            "        [23.0000,  0.0000, 32.9700,  0.0000,  1.0000],\n",
            "        [41.0000,  1.0000, 38.9025,  2.0000,  0.0000],\n",
            "        [23.0000,  0.0000, 35.0700,  0.0000,  0.0000],\n",
            "        [45.0000,  0.0000, 29.0273,  1.0000,  0.0000],\n",
            "        [48.0000,  1.0000, 32.3190,  3.0000,  0.0000]])\n",
            "targets: tensor([[31934.6348],\n",
            "        [15753.1846],\n",
            "        [43585.4219],\n",
            "        [14815.8828],\n",
            "        [15484.6240],\n",
            "        [24559.2051],\n",
            "        [ 9009.5605],\n",
            "        [10851.6797],\n",
            "        [16284.1328],\n",
            "        [27021.1953],\n",
            "        [29688.1953],\n",
            "        [16299.6729],\n",
            "        [17484.3242],\n",
            "        [ 4726.4136],\n",
            "        [ 3266.4778],\n",
            "        [ 5227.6973],\n",
            "        [15904.0762],\n",
            "        [11764.5508],\n",
            "        [ 4771.7505],\n",
            "        [ 9663.6348],\n",
            "        [ 7811.5938],\n",
            "        [ 6065.0898],\n",
            "        [46838.1016],\n",
            "        [10084.8535],\n",
            "        [10005.5430],\n",
            "        [ 9365.8076],\n",
            "        [48067.8750],\n",
            "        [11005.0322],\n",
            "        [ 9244.7744],\n",
            "        [13507.9170],\n",
            "        [ 8979.6455],\n",
            "        [15807.2988],\n",
            "        [ 8287.3213],\n",
            "        [11945.9678],\n",
            "        [ 9945.2363],\n",
            "        [16752.2051],\n",
            "        [10402.1621],\n",
            "        [43058.5469],\n",
            "        [13859.3662],\n",
            "        [ 2731.5452],\n",
            "        [52337.8477],\n",
            "        [18345.4570],\n",
            "        [26852.8496],\n",
            "        [ 3305.6138],\n",
            "        [ 9713.8408],\n",
            "        [ 4521.1221],\n",
            "        [ 5751.9004],\n",
            "        [ 3455.0793],\n",
            "        [ 1977.0938],\n",
            "        [ 4096.3330],\n",
            "        [56937.1953],\n",
            "        [ 7736.2603],\n",
            "        [ 5399.8936],\n",
            "        [13260.7891],\n",
            "        [52730.5156],\n",
            "        [ 3254.2896],\n",
            "        [16202.5762],\n",
            "        [16941.5566],\n",
            "        [29258.9297],\n",
            "        [18776.9980],\n",
            "        [25690.9414],\n",
            "        [ 2992.7344],\n",
            "        [12426.0469],\n",
            "        [ 2387.2695],\n",
            "        [10605.9512],\n",
            "        [22956.7188],\n",
            "        [ 7589.6973],\n",
            "        [ 5936.7559],\n",
            "        [ 6506.7241],\n",
            "        [11545.4512],\n",
            "        [36376.9336],\n",
            "        [28315.5801],\n",
            "        [ 8888.3291],\n",
            "        [ 9601.7021],\n",
            "        [16918.0391],\n",
            "        [10023.2539],\n",
            "        [33088.7109],\n",
            "        [ 7978.1450],\n",
            "        [ 6346.7246],\n",
            "        [16842.9863],\n",
            "        [13328.3613],\n",
            "        [ 5001.7065],\n",
            "        [10646.2979],\n",
            "        [ 7637.4619],\n",
            "        [10806.4307],\n",
            "        [ 6325.8662],\n",
            "        [22755.4355],\n",
            "        [44969.8477],\n",
            "        [ 3128.1755],\n",
            "        [ 2606.7769],\n",
            "        [44661.8359],\n",
            "        [ 5947.2227],\n",
            "        [48404.0312],\n",
            "        [45773.9648],\n",
            "        [23039.4590],\n",
            "        [23860.8301],\n",
            "        [43799.2148],\n",
            "        [10875.6719],\n",
            "        [17486.7207],\n",
            "        [20323.6582],\n",
            "        [39608.3672],\n",
            "        [22155.9980],\n",
            "        [ 2452.6387],\n",
            "        [14455.4170],\n",
            "        [ 5358.9541],\n",
            "        [ 2663.0054],\n",
            "        [14436.6611],\n",
            "        [44573.3359],\n",
            "        [20673.1738],\n",
            "        [ 7359.7100],\n",
            "        [ 1854.2883],\n",
            "        [30147.4180],\n",
            "        [ 9821.1826],\n",
            "        [11931.8398],\n",
            "        [27885.1348],\n",
            "        [41341.1914],\n",
            "        [ 8791.5000],\n",
            "        [13063.0840],\n",
            "        [34291.6289],\n",
            "        [12270.7744]])\n"
          ],
          "name": "stdout"
        }
      ]
    },
    {
      "cell_type": "markdown",
      "metadata": {
        "id": "WLmky_4M7gww"
      },
      "source": [
        "Let's save our work by committing to Jovian."
      ]
    },
    {
      "cell_type": "code",
      "metadata": {
        "colab": {
          "base_uri": "https://localhost:8080/",
          "height": 91
        },
        "id": "TmIU60EC7gww",
        "outputId": "145bb5f2-1da6-4b46-f2d1-ec0c58ae0a80"
      },
      "source": [
        "jovian.commit(project=project_name, environment=None)"
      ],
      "execution_count": 27,
      "outputs": [
        {
          "output_type": "stream",
          "text": [
            "[jovian] Detected Colab notebook...\u001b[0m\n",
            "[jovian] Uploading colab notebook to Jovian...\u001b[0m\n",
            "[jovian] Committed successfully! https://jovian.ai/aayrm5/02-insurance-linear-regression\u001b[0m\n"
          ],
          "name": "stdout"
        },
        {
          "output_type": "execute_result",
          "data": {
            "application/vnd.google.colaboratory.intrinsic+json": {
              "type": "string"
            },
            "text/plain": [
              "'https://jovian.ai/aayrm5/02-insurance-linear-regression'"
            ]
          },
          "metadata": {
            "tags": []
          },
          "execution_count": 27
        }
      ]
    },
    {
      "cell_type": "markdown",
      "metadata": {
        "id": "TnVitODr7gww"
      },
      "source": [
        "## Step 3: Create a Linear Regression Model\n",
        "\n",
        "Our model itself is a fairly straightforward linear regression (we'll build more complex models in the next assignment). \n"
      ]
    },
    {
      "cell_type": "code",
      "metadata": {
        "colab": {
          "base_uri": "https://localhost:8080/"
        },
        "id": "SwsSiw5kcyU-",
        "outputId": "6d67df8d-61b5-493d-91de-2c3cf209d4fe"
      },
      "source": [
        "inputs.size(), targets.size()"
      ],
      "execution_count": 28,
      "outputs": [
        {
          "output_type": "execute_result",
          "data": {
            "text/plain": [
              "(torch.Size([1271, 5]), torch.Size([1271, 1]))"
            ]
          },
          "metadata": {
            "tags": []
          },
          "execution_count": 28
        }
      ]
    },
    {
      "cell_type": "code",
      "metadata": {
        "colab": {
          "base_uri": "https://localhost:8080/"
        },
        "id": "M7CHKER0dQaS",
        "outputId": "0fcb32c0-296e-4dc6-e696-a5d3ba20e47c"
      },
      "source": [
        "input_cols"
      ],
      "execution_count": 29,
      "outputs": [
        {
          "output_type": "execute_result",
          "data": {
            "text/plain": [
              "['age', 'sex', 'bmi', 'children', 'smoker']"
            ]
          },
          "metadata": {
            "tags": []
          },
          "execution_count": 29
        }
      ]
    },
    {
      "cell_type": "code",
      "metadata": {
        "colab": {
          "base_uri": "https://localhost:8080/"
        },
        "id": "JnwvG6R27gww",
        "outputId": "11f2423c-f878-41c7-e05a-1ac7260894f1"
      },
      "source": [
        "input_size = len(input_cols)\n",
        "output_size = len(output_cols)\n",
        "input_size, output_size"
      ],
      "execution_count": 30,
      "outputs": [
        {
          "output_type": "execute_result",
          "data": {
            "text/plain": [
              "(5, 1)"
            ]
          },
          "metadata": {
            "tags": []
          },
          "execution_count": 30
        }
      ]
    },
    {
      "cell_type": "markdown",
      "metadata": {
        "id": "lII-HmvO7gwy"
      },
      "source": [
        "**Q: Complete the class definition below by filling out the constructor (`__init__`), `forward`, `training_step` and `validation_step` methods.**\n",
        "\n",
        "Hint: Think carefully about picking a good loss fuction (it's not cross entropy). Maybe try 2-3 of them and see which one works best. See https://pytorch.org/docs/stable/nn.functional.html#loss-functions"
      ]
    },
    {
      "cell_type": "code",
      "metadata": {
        "id": "aWCueOFX7gwy"
      },
      "source": [
        "class InsuranceModel(nn.Module):\n",
        "    def __init__(self):\n",
        "        super().__init__()\n",
        "        self.linear = nn.Linear(input_size, output_size)                  # fill this (hint: use input_size & output_size defined above)\n",
        "        \n",
        "    def forward(self, xb):\n",
        "        out = self.linear(xb)                          # fill this\n",
        "        return out\n",
        "    \n",
        "    def training_step(self, batch):\n",
        "        inputs, targets = batch \n",
        "        # Generate predictions\n",
        "        out = self(inputs)        \n",
        "        # Calcuate loss\n",
        "        loss = F.l1_loss(out, targets)                          # fill this\n",
        "        return loss\n",
        "    \n",
        "    def validation_step(self, batch):\n",
        "        inputs, targets = batch\n",
        "        # Generate predictions\n",
        "        out = self(inputs)\n",
        "        # Calculate loss\n",
        "        loss = F.l1_loss(out, targets)                           # fill this    \n",
        "        return {'val_loss': loss.detach()}\n",
        "        \n",
        "    def validation_epoch_end(self, outputs):\n",
        "        batch_losses = [x['val_loss'] for x in outputs]\n",
        "        epoch_loss = torch.stack(batch_losses).mean()   # Combine losses\n",
        "        return {'val_loss': epoch_loss.item()}\n",
        "    \n",
        "    def epoch_end(self, epoch, result, num_epochs):\n",
        "        # Print result every 20th epoch\n",
        "        if (epoch+1) % 20 == 0 or epoch == num_epochs-1:\n",
        "            print(\"Epoch [{}], val_loss: {:.4f}\".format(epoch+1, result['val_loss']))"
      ],
      "execution_count": 31,
      "outputs": []
    },
    {
      "cell_type": "markdown",
      "metadata": {
        "id": "h_zIPt3c7gwy"
      },
      "source": [
        "Let us create a model using the `InsuranceModel` class. You may need to come back later and re-run the next cell to reinitialize the model, in case the loss becomes `nan` or `infinity`."
      ]
    },
    {
      "cell_type": "code",
      "metadata": {
        "id": "rfVZjwtv7gwz"
      },
      "source": [
        "model = InsuranceModel()"
      ],
      "execution_count": 32,
      "outputs": []
    },
    {
      "cell_type": "markdown",
      "metadata": {
        "id": "3VeDY6uC7gwz"
      },
      "source": [
        "Let's check out the weights and biases of the model using `model.parameters`."
      ]
    },
    {
      "cell_type": "code",
      "metadata": {
        "colab": {
          "base_uri": "https://localhost:8080/"
        },
        "id": "EH1Ld3nF7gwz",
        "outputId": "fc46322b-2e36-4ec4-9a26-78fe59291b06"
      },
      "source": [
        "list(model.parameters())"
      ],
      "execution_count": 33,
      "outputs": [
        {
          "output_type": "execute_result",
          "data": {
            "text/plain": [
              "[Parameter containing:\n",
              " tensor([[-0.0889,  0.3326,  0.0532, -0.4118,  0.3292]], requires_grad=True),\n",
              " Parameter containing:\n",
              " tensor([0.0627], requires_grad=True)]"
            ]
          },
          "metadata": {
            "tags": []
          },
          "execution_count": 33
        }
      ]
    },
    {
      "cell_type": "markdown",
      "metadata": {
        "id": "0jOy_O2J7gw0"
      },
      "source": [
        "One final commit before we train the model."
      ]
    },
    {
      "cell_type": "code",
      "metadata": {
        "colab": {
          "base_uri": "https://localhost:8080/",
          "height": 91
        },
        "id": "QQMHI2on7gw0",
        "outputId": "73077f51-00a2-4fe7-8928-827854553542"
      },
      "source": [
        "jovian.commit(project=project_name, environment=None)"
      ],
      "execution_count": 34,
      "outputs": [
        {
          "output_type": "stream",
          "text": [
            "[jovian] Detected Colab notebook...\u001b[0m\n",
            "[jovian] Uploading colab notebook to Jovian...\u001b[0m\n",
            "[jovian] Committed successfully! https://jovian.ai/aayrm5/02-insurance-linear-regression\u001b[0m\n"
          ],
          "name": "stdout"
        },
        {
          "output_type": "execute_result",
          "data": {
            "application/vnd.google.colaboratory.intrinsic+json": {
              "type": "string"
            },
            "text/plain": [
              "'https://jovian.ai/aayrm5/02-insurance-linear-regression'"
            ]
          },
          "metadata": {
            "tags": []
          },
          "execution_count": 34
        }
      ]
    },
    {
      "cell_type": "markdown",
      "metadata": {
        "id": "m3BVckeR7gw0"
      },
      "source": [
        "## Step 4: Train the model to fit the data\n",
        "\n",
        "To train our model, we'll use the same `fit` function explained in the lecture. That's the benefit of defining a generic training loop - you can use it for any problem."
      ]
    },
    {
      "cell_type": "code",
      "metadata": {
        "id": "a7wnuNSB7gw0"
      },
      "source": [
        "def evaluate(model, val_loader):\n",
        "    outputs = [model.validation_step(batch) for batch in val_loader]\n",
        "    return model.validation_epoch_end(outputs)\n",
        "\n",
        "def fit(epochs, lr, model, train_loader, val_loader, opt_func=torch.optim.Adam):\n",
        "    history = []\n",
        "    optimizer = opt_func(model.parameters(), lr)\n",
        "    for epoch in range(epochs):\n",
        "        # Training Phase \n",
        "        for batch in train_loader:\n",
        "            loss = model.training_step(batch)\n",
        "            loss.backward()\n",
        "            optimizer.step()\n",
        "            optimizer.zero_grad()\n",
        "        # Validation phase\n",
        "        result = evaluate(model, val_loader)\n",
        "        model.epoch_end(epoch, result, epochs)\n",
        "        history.append(result)\n",
        "    return history"
      ],
      "execution_count": 35,
      "outputs": []
    },
    {
      "cell_type": "markdown",
      "metadata": {
        "id": "85SwApoy7gw0"
      },
      "source": [
        "**Q: Use the `evaluate` function to calculate the loss on the validation set before training.**"
      ]
    },
    {
      "cell_type": "code",
      "metadata": {
        "colab": {
          "base_uri": "https://localhost:8080/"
        },
        "id": "jm3nKR667gw0",
        "outputId": "6e6f51bd-0dff-49c6-b6ea-ee98ea327534"
      },
      "source": [
        "result = evaluate(model, val_loader) # Use the the evaluate function\n",
        "print(result)"
      ],
      "execution_count": 36,
      "outputs": [
        {
          "output_type": "stream",
          "text": [
            "{'val_loss': 15262.619140625}\n"
          ],
          "name": "stdout"
        }
      ]
    },
    {
      "cell_type": "markdown",
      "metadata": {
        "id": "HeOZGW147gw1"
      },
      "source": [
        "\n",
        "We are now ready to train the model. You may need to run the training loop many times, for different number of epochs and with different learning rates, to get a good result. Also, if your loss becomes too large (or `nan`), you may have to re-initialize the model by running the cell `model = InsuranceModel()`. Experiment with this for a while, and try to get to as low a loss as possible."
      ]
    },
    {
      "cell_type": "markdown",
      "metadata": {
        "id": "dIBXgF9w7gw1"
      },
      "source": [
        "**Q: Train the model 4-5 times with different learning rates & for different number of epochs.**\n",
        "\n",
        "Hint: Vary learning rates by orders of 10 (e.g. `1e-2`, `1e-3`, `1e-4`, `1e-5`, `1e-6`) to figure out what works."
      ]
    },
    {
      "cell_type": "code",
      "metadata": {
        "colab": {
          "base_uri": "https://localhost:8080/"
        },
        "id": "hycHucg37gw1",
        "outputId": "27639658-9b14-4b36-92be-0a2fdb9eb91b"
      },
      "source": [
        "epochs = 1000\n",
        "lr = 1e-1\n",
        "history1 = fit(epochs, lr, model, train_loader, val_loader)"
      ],
      "execution_count": 37,
      "outputs": [
        {
          "output_type": "stream",
          "text": [
            "Epoch [20], val_loss: 13804.2158\n",
            "Epoch [40], val_loss: 12409.6934\n",
            "Epoch [60], val_loss: 11314.7949\n",
            "Epoch [80], val_loss: 10495.3633\n",
            "Epoch [100], val_loss: 9880.9395\n",
            "Epoch [120], val_loss: 9472.5879\n",
            "Epoch [140], val_loss: 9226.1836\n",
            "Epoch [160], val_loss: 9100.1221\n",
            "Epoch [180], val_loss: 9058.1338\n",
            "Epoch [200], val_loss: 9047.8145\n",
            "Epoch [220], val_loss: 9034.4570\n",
            "Epoch [240], val_loss: 9024.7637\n",
            "Epoch [260], val_loss: 9004.0879\n",
            "Epoch [280], val_loss: 8975.6699\n",
            "Epoch [300], val_loss: 8940.1279\n",
            "Epoch [320], val_loss: 8898.7021\n",
            "Epoch [340], val_loss: 8856.9883\n",
            "Epoch [360], val_loss: 8815.0127\n",
            "Epoch [380], val_loss: 8764.8525\n",
            "Epoch [400], val_loss: 8713.1992\n",
            "Epoch [420], val_loss: 8662.0264\n",
            "Epoch [440], val_loss: 8607.7207\n",
            "Epoch [460], val_loss: 8552.6377\n",
            "Epoch [480], val_loss: 8497.0781\n",
            "Epoch [500], val_loss: 8440.6973\n",
            "Epoch [520], val_loss: 8379.7686\n",
            "Epoch [540], val_loss: 8323.0410\n",
            "Epoch [560], val_loss: 8264.8242\n",
            "Epoch [580], val_loss: 8207.1631\n",
            "Epoch [600], val_loss: 8160.7100\n",
            "Epoch [620], val_loss: 8114.2568\n",
            "Epoch [640], val_loss: 8068.4707\n",
            "Epoch [660], val_loss: 8034.9424\n",
            "Epoch [680], val_loss: 8005.4746\n",
            "Epoch [700], val_loss: 7983.1992\n",
            "Epoch [720], val_loss: 7966.1006\n",
            "Epoch [740], val_loss: 7954.6372\n",
            "Epoch [760], val_loss: 7946.5288\n",
            "Epoch [780], val_loss: 7936.9170\n",
            "Epoch [800], val_loss: 7928.1221\n",
            "Epoch [820], val_loss: 7920.1377\n",
            "Epoch [840], val_loss: 7911.9043\n",
            "Epoch [860], val_loss: 7905.0664\n",
            "Epoch [880], val_loss: 7896.3369\n",
            "Epoch [900], val_loss: 7887.9277\n",
            "Epoch [920], val_loss: 7882.2676\n",
            "Epoch [940], val_loss: 7873.6636\n",
            "Epoch [960], val_loss: 7867.7461\n",
            "Epoch [980], val_loss: 7860.7930\n",
            "Epoch [1000], val_loss: 7852.7583\n"
          ],
          "name": "stdout"
        }
      ]
    },
    {
      "cell_type": "code",
      "metadata": {
        "colab": {
          "base_uri": "https://localhost:8080/"
        },
        "id": "_IP5t4HG7gw2",
        "outputId": "46761402-eb18-4a28-fc2f-20b2d8384db3"
      },
      "source": [
        "epochs = 1000\n",
        "lr = 1e-2\n",
        "history2 = fit(epochs, lr, model, train_loader, val_loader)"
      ],
      "execution_count": 38,
      "outputs": [
        {
          "output_type": "stream",
          "text": [
            "Epoch [20], val_loss: 7852.8760\n",
            "Epoch [40], val_loss: 7852.7822\n",
            "Epoch [60], val_loss: 7851.8594\n",
            "Epoch [80], val_loss: 7851.7100\n",
            "Epoch [100], val_loss: 7850.7788\n",
            "Epoch [120], val_loss: 7849.8096\n",
            "Epoch [140], val_loss: 7849.4141\n",
            "Epoch [160], val_loss: 7848.8262\n",
            "Epoch [180], val_loss: 7848.2812\n",
            "Epoch [200], val_loss: 7847.3916\n",
            "Epoch [220], val_loss: 7846.8530\n",
            "Epoch [240], val_loss: 7846.3354\n",
            "Epoch [260], val_loss: 7845.7632\n",
            "Epoch [280], val_loss: 7844.8408\n",
            "Epoch [300], val_loss: 7843.8003\n",
            "Epoch [320], val_loss: 7843.1904\n",
            "Epoch [340], val_loss: 7842.7891\n",
            "Epoch [360], val_loss: 7842.0234\n",
            "Epoch [380], val_loss: 7840.7549\n",
            "Epoch [400], val_loss: 7840.3906\n",
            "Epoch [420], val_loss: 7839.9424\n",
            "Epoch [440], val_loss: 7839.2905\n",
            "Epoch [460], val_loss: 7838.2095\n",
            "Epoch [480], val_loss: 7837.7305\n",
            "Epoch [500], val_loss: 7836.8628\n",
            "Epoch [520], val_loss: 7836.4033\n",
            "Epoch [540], val_loss: 7835.9463\n",
            "Epoch [560], val_loss: 7835.3857\n",
            "Epoch [580], val_loss: 7834.7202\n",
            "Epoch [600], val_loss: 7834.0576\n",
            "Epoch [620], val_loss: 7833.5107\n",
            "Epoch [640], val_loss: 7832.9990\n",
            "Epoch [660], val_loss: 7832.2979\n",
            "Epoch [680], val_loss: 7831.7822\n",
            "Epoch [700], val_loss: 7831.1895\n",
            "Epoch [720], val_loss: 7830.7559\n",
            "Epoch [740], val_loss: 7830.0566\n",
            "Epoch [760], val_loss: 7829.3140\n",
            "Epoch [780], val_loss: 7828.6899\n",
            "Epoch [800], val_loss: 7828.2432\n",
            "Epoch [820], val_loss: 7828.0088\n",
            "Epoch [840], val_loss: 7827.3955\n",
            "Epoch [860], val_loss: 7826.9067\n",
            "Epoch [880], val_loss: 7826.1045\n",
            "Epoch [900], val_loss: 7825.6572\n",
            "Epoch [920], val_loss: 7824.8145\n",
            "Epoch [940], val_loss: 7824.2207\n",
            "Epoch [960], val_loss: 7823.6821\n",
            "Epoch [980], val_loss: 7822.9585\n",
            "Epoch [1000], val_loss: 7822.4395\n"
          ],
          "name": "stdout"
        }
      ]
    },
    {
      "cell_type": "code",
      "metadata": {
        "colab": {
          "base_uri": "https://localhost:8080/"
        },
        "id": "4FppVLUK7gw2",
        "outputId": "465fa771-2e13-4582-fa39-1b826ea48209"
      },
      "source": [
        "epochs = 1000\n",
        "lr = 1e-2\n",
        "history3 = fit(epochs, lr, model, train_loader, val_loader)"
      ],
      "execution_count": 39,
      "outputs": [
        {
          "output_type": "stream",
          "text": [
            "Epoch [20], val_loss: 7821.9922\n",
            "Epoch [40], val_loss: 7821.5596\n",
            "Epoch [60], val_loss: 7820.9141\n",
            "Epoch [80], val_loss: 7819.9419\n",
            "Epoch [100], val_loss: 7819.5518\n",
            "Epoch [120], val_loss: 7819.2812\n",
            "Epoch [140], val_loss: 7818.5234\n",
            "Epoch [160], val_loss: 7817.6934\n",
            "Epoch [180], val_loss: 7817.3506\n",
            "Epoch [200], val_loss: 7816.8706\n",
            "Epoch [220], val_loss: 7815.9258\n",
            "Epoch [240], val_loss: 7815.5259\n",
            "Epoch [260], val_loss: 7814.6963\n",
            "Epoch [280], val_loss: 7813.7891\n",
            "Epoch [300], val_loss: 7813.6152\n",
            "Epoch [320], val_loss: 7813.2207\n",
            "Epoch [340], val_loss: 7812.7080\n",
            "Epoch [360], val_loss: 7811.9990\n",
            "Epoch [380], val_loss: 7811.1445\n",
            "Epoch [400], val_loss: 7810.8594\n",
            "Epoch [420], val_loss: 7810.3096\n",
            "Epoch [440], val_loss: 7809.9473\n",
            "Epoch [460], val_loss: 7809.6289\n",
            "Epoch [480], val_loss: 7809.0459\n",
            "Epoch [500], val_loss: 7808.5269\n",
            "Epoch [520], val_loss: 7807.4146\n",
            "Epoch [540], val_loss: 7806.6875\n",
            "Epoch [560], val_loss: 7806.3052\n",
            "Epoch [580], val_loss: 7806.2314\n",
            "Epoch [600], val_loss: 7805.6592\n",
            "Epoch [620], val_loss: 7805.0996\n",
            "Epoch [640], val_loss: 7804.4824\n",
            "Epoch [660], val_loss: 7804.0986\n",
            "Epoch [680], val_loss: 7803.2939\n",
            "Epoch [700], val_loss: 7802.8252\n",
            "Epoch [720], val_loss: 7802.1021\n",
            "Epoch [740], val_loss: 7801.3906\n",
            "Epoch [760], val_loss: 7801.2119\n",
            "Epoch [780], val_loss: 7800.7324\n",
            "Epoch [800], val_loss: 7800.1377\n",
            "Epoch [820], val_loss: 7799.5498\n",
            "Epoch [840], val_loss: 7799.2373\n",
            "Epoch [860], val_loss: 7798.5820\n",
            "Epoch [880], val_loss: 7797.9443\n",
            "Epoch [900], val_loss: 7797.1055\n",
            "Epoch [920], val_loss: 7796.5986\n",
            "Epoch [940], val_loss: 7796.0312\n",
            "Epoch [960], val_loss: 7795.1035\n",
            "Epoch [980], val_loss: 7795.0103\n",
            "Epoch [1000], val_loss: 7794.2666\n"
          ],
          "name": "stdout"
        }
      ]
    },
    {
      "cell_type": "code",
      "metadata": {
        "colab": {
          "base_uri": "https://localhost:8080/"
        },
        "id": "CHlilxp97gw2",
        "outputId": "6f7b1eaf-c213-4cb2-bd6b-61f68e6eab4c"
      },
      "source": [
        "epochs = 1000\n",
        "lr = 1e-1\n",
        "history4 = fit(epochs, lr, model, train_loader, val_loader)"
      ],
      "execution_count": 40,
      "outputs": [
        {
          "output_type": "stream",
          "text": [
            "Epoch [20], val_loss: 7788.0649\n",
            "Epoch [40], val_loss: 7782.5352\n",
            "Epoch [60], val_loss: 7777.1982\n",
            "Epoch [80], val_loss: 7772.4375\n",
            "Epoch [100], val_loss: 7766.2451\n",
            "Epoch [120], val_loss: 7760.9199\n",
            "Epoch [140], val_loss: 7755.4053\n",
            "Epoch [160], val_loss: 7752.1758\n",
            "Epoch [180], val_loss: 7745.2100\n",
            "Epoch [200], val_loss: 7740.7520\n",
            "Epoch [220], val_loss: 7735.4248\n",
            "Epoch [240], val_loss: 7729.4199\n",
            "Epoch [260], val_loss: 7725.2407\n",
            "Epoch [280], val_loss: 7719.7490\n",
            "Epoch [300], val_loss: 7716.3936\n",
            "Epoch [320], val_loss: 7708.6270\n",
            "Epoch [340], val_loss: 7704.2114\n",
            "Epoch [360], val_loss: 7700.5493\n",
            "Epoch [380], val_loss: 7694.2734\n",
            "Epoch [400], val_loss: 7691.1094\n",
            "Epoch [420], val_loss: 7687.6172\n",
            "Epoch [440], val_loss: 7683.4077\n",
            "Epoch [460], val_loss: 7678.2188\n",
            "Epoch [480], val_loss: 7675.5088\n",
            "Epoch [500], val_loss: 7665.7031\n",
            "Epoch [520], val_loss: 7661.7979\n",
            "Epoch [540], val_loss: 7657.9741\n",
            "Epoch [560], val_loss: 7653.3877\n",
            "Epoch [580], val_loss: 7648.8682\n",
            "Epoch [600], val_loss: 7643.5898\n",
            "Epoch [620], val_loss: 7641.0942\n",
            "Epoch [640], val_loss: 7635.0737\n",
            "Epoch [660], val_loss: 7631.7373\n",
            "Epoch [680], val_loss: 7626.6104\n",
            "Epoch [700], val_loss: 7622.2012\n",
            "Epoch [720], val_loss: 7617.9375\n",
            "Epoch [740], val_loss: 7614.0928\n",
            "Epoch [760], val_loss: 7609.0234\n",
            "Epoch [780], val_loss: 7606.3804\n",
            "Epoch [800], val_loss: 7601.4453\n",
            "Epoch [820], val_loss: 7597.8027\n",
            "Epoch [840], val_loss: 7593.1953\n",
            "Epoch [860], val_loss: 7587.6084\n",
            "Epoch [880], val_loss: 7583.4307\n",
            "Epoch [900], val_loss: 7580.4424\n",
            "Epoch [920], val_loss: 7575.2793\n",
            "Epoch [940], val_loss: 7571.2725\n",
            "Epoch [960], val_loss: 7565.2051\n",
            "Epoch [980], val_loss: 7562.2671\n",
            "Epoch [1000], val_loss: 7557.9434\n"
          ],
          "name": "stdout"
        }
      ]
    },
    {
      "cell_type": "code",
      "metadata": {
        "colab": {
          "base_uri": "https://localhost:8080/"
        },
        "id": "alStP6xe7gw2",
        "outputId": "72d85dbd-3747-4ad7-c182-2991e96b4027"
      },
      "source": [
        "epochs = 3000\n",
        "lr = 1e-1\n",
        "history5 = fit(epochs, lr, model, train_loader, val_loader)"
      ],
      "execution_count": 41,
      "outputs": [
        {
          "output_type": "stream",
          "text": [
            "Epoch [20], val_loss: 7551.9634\n",
            "Epoch [40], val_loss: 7548.8296\n",
            "Epoch [60], val_loss: 7545.4404\n",
            "Epoch [80], val_loss: 7539.5425\n",
            "Epoch [100], val_loss: 7534.3477\n",
            "Epoch [120], val_loss: 7530.1074\n",
            "Epoch [140], val_loss: 7527.3228\n",
            "Epoch [160], val_loss: 7523.5342\n",
            "Epoch [180], val_loss: 7518.6372\n",
            "Epoch [200], val_loss: 7514.2314\n",
            "Epoch [220], val_loss: 7511.1104\n",
            "Epoch [240], val_loss: 7505.9502\n",
            "Epoch [260], val_loss: 7501.9956\n",
            "Epoch [280], val_loss: 7496.5303\n",
            "Epoch [300], val_loss: 7491.6299\n",
            "Epoch [320], val_loss: 7488.9658\n",
            "Epoch [340], val_loss: 7485.7275\n",
            "Epoch [360], val_loss: 7480.8457\n",
            "Epoch [380], val_loss: 7476.8120\n",
            "Epoch [400], val_loss: 7469.1504\n",
            "Epoch [420], val_loss: 7465.5107\n",
            "Epoch [440], val_loss: 7464.3428\n",
            "Epoch [460], val_loss: 7458.9609\n",
            "Epoch [480], val_loss: 7453.3965\n",
            "Epoch [500], val_loss: 7448.2910\n",
            "Epoch [520], val_loss: 7445.3701\n",
            "Epoch [540], val_loss: 7440.8848\n",
            "Epoch [560], val_loss: 7437.0967\n",
            "Epoch [580], val_loss: 7433.7104\n",
            "Epoch [600], val_loss: 7427.7705\n",
            "Epoch [620], val_loss: 7425.0991\n",
            "Epoch [640], val_loss: 7420.6777\n",
            "Epoch [660], val_loss: 7418.6118\n",
            "Epoch [680], val_loss: 7412.8979\n",
            "Epoch [700], val_loss: 7407.5068\n",
            "Epoch [720], val_loss: 7404.4062\n",
            "Epoch [740], val_loss: 7398.1748\n",
            "Epoch [760], val_loss: 7394.6440\n",
            "Epoch [780], val_loss: 7390.5498\n",
            "Epoch [800], val_loss: 7387.5303\n",
            "Epoch [820], val_loss: 7383.8213\n",
            "Epoch [840], val_loss: 7377.7451\n",
            "Epoch [860], val_loss: 7372.9912\n",
            "Epoch [880], val_loss: 7370.7983\n",
            "Epoch [900], val_loss: 7366.4775\n",
            "Epoch [920], val_loss: 7362.9365\n",
            "Epoch [940], val_loss: 7358.5469\n",
            "Epoch [960], val_loss: 7353.3701\n",
            "Epoch [980], val_loss: 7348.7959\n",
            "Epoch [1000], val_loss: 7347.7236\n",
            "Epoch [1020], val_loss: 7342.0635\n",
            "Epoch [1040], val_loss: 7338.8076\n",
            "Epoch [1060], val_loss: 7332.5488\n",
            "Epoch [1080], val_loss: 7329.5562\n",
            "Epoch [1100], val_loss: 7323.9365\n",
            "Epoch [1120], val_loss: 7320.9912\n",
            "Epoch [1140], val_loss: 7316.4922\n",
            "Epoch [1160], val_loss: 7312.2051\n",
            "Epoch [1180], val_loss: 7308.3867\n",
            "Epoch [1200], val_loss: 7303.8838\n",
            "Epoch [1220], val_loss: 7301.8228\n",
            "Epoch [1240], val_loss: 7294.0991\n",
            "Epoch [1260], val_loss: 7291.9502\n",
            "Epoch [1280], val_loss: 7288.4346\n",
            "Epoch [1300], val_loss: 7283.7559\n",
            "Epoch [1320], val_loss: 7281.6743\n",
            "Epoch [1340], val_loss: 7275.4297\n",
            "Epoch [1360], val_loss: 7271.4385\n",
            "Epoch [1380], val_loss: 7267.4893\n",
            "Epoch [1400], val_loss: 7264.4893\n",
            "Epoch [1420], val_loss: 7258.7461\n",
            "Epoch [1440], val_loss: 7254.5107\n",
            "Epoch [1460], val_loss: 7252.5293\n",
            "Epoch [1480], val_loss: 7247.6035\n",
            "Epoch [1500], val_loss: 7242.5938\n",
            "Epoch [1520], val_loss: 7238.5566\n",
            "Epoch [1540], val_loss: 7236.4956\n",
            "Epoch [1560], val_loss: 7230.7881\n",
            "Epoch [1580], val_loss: 7226.1523\n",
            "Epoch [1600], val_loss: 7222.7109\n",
            "Epoch [1620], val_loss: 7218.6562\n",
            "Epoch [1640], val_loss: 7213.2266\n",
            "Epoch [1660], val_loss: 7210.9321\n",
            "Epoch [1680], val_loss: 7206.4580\n",
            "Epoch [1700], val_loss: 7203.1943\n",
            "Epoch [1720], val_loss: 7196.1846\n",
            "Epoch [1740], val_loss: 7195.0542\n",
            "Epoch [1760], val_loss: 7190.3330\n",
            "Epoch [1780], val_loss: 7184.2397\n",
            "Epoch [1800], val_loss: 7183.9951\n",
            "Epoch [1820], val_loss: 7179.8408\n",
            "Epoch [1840], val_loss: 7175.2852\n",
            "Epoch [1860], val_loss: 7168.4971\n",
            "Epoch [1880], val_loss: 7166.7373\n",
            "Epoch [1900], val_loss: 7161.9263\n",
            "Epoch [1920], val_loss: 7157.1289\n",
            "Epoch [1940], val_loss: 7152.9771\n",
            "Epoch [1960], val_loss: 7148.2168\n",
            "Epoch [1980], val_loss: 7146.7646\n",
            "Epoch [2000], val_loss: 7142.9434\n",
            "Epoch [2020], val_loss: 7137.5566\n",
            "Epoch [2040], val_loss: 7134.3242\n",
            "Epoch [2060], val_loss: 7128.1709\n",
            "Epoch [2080], val_loss: 7124.1851\n",
            "Epoch [2100], val_loss: 7123.2861\n",
            "Epoch [2120], val_loss: 7115.3818\n",
            "Epoch [2140], val_loss: 7112.0830\n",
            "Epoch [2160], val_loss: 7106.4858\n",
            "Epoch [2180], val_loss: 7106.1372\n",
            "Epoch [2200], val_loss: 7100.5293\n",
            "Epoch [2220], val_loss: 7095.5425\n",
            "Epoch [2240], val_loss: 7094.1621\n",
            "Epoch [2260], val_loss: 7088.1328\n",
            "Epoch [2280], val_loss: 7086.0215\n",
            "Epoch [2300], val_loss: 7079.5679\n",
            "Epoch [2320], val_loss: 7077.2114\n",
            "Epoch [2340], val_loss: 7072.0254\n",
            "Epoch [2360], val_loss: 7070.9082\n",
            "Epoch [2380], val_loss: 7066.2944\n",
            "Epoch [2400], val_loss: 7060.9980\n",
            "Epoch [2420], val_loss: 7056.8892\n",
            "Epoch [2440], val_loss: 7052.2061\n",
            "Epoch [2460], val_loss: 7047.8223\n",
            "Epoch [2480], val_loss: 7044.2871\n",
            "Epoch [2500], val_loss: 7041.2598\n",
            "Epoch [2520], val_loss: 7038.2793\n",
            "Epoch [2540], val_loss: 7031.8213\n",
            "Epoch [2560], val_loss: 7028.9868\n",
            "Epoch [2580], val_loss: 7023.9473\n",
            "Epoch [2600], val_loss: 7020.9297\n",
            "Epoch [2620], val_loss: 7018.3994\n",
            "Epoch [2640], val_loss: 7013.2812\n",
            "Epoch [2660], val_loss: 7007.6299\n",
            "Epoch [2680], val_loss: 7006.4795\n",
            "Epoch [2700], val_loss: 7001.8877\n",
            "Epoch [2720], val_loss: 6995.2002\n",
            "Epoch [2740], val_loss: 6992.0044\n",
            "Epoch [2760], val_loss: 6990.6992\n",
            "Epoch [2780], val_loss: 6985.5278\n",
            "Epoch [2800], val_loss: 6981.0430\n",
            "Epoch [2820], val_loss: 6978.3164\n",
            "Epoch [2840], val_loss: 6973.4697\n",
            "Epoch [2860], val_loss: 6969.9668\n",
            "Epoch [2880], val_loss: 6964.7354\n",
            "Epoch [2900], val_loss: 6961.0537\n",
            "Epoch [2920], val_loss: 6955.8110\n",
            "Epoch [2940], val_loss: 6955.2729\n",
            "Epoch [2960], val_loss: 6950.6602\n",
            "Epoch [2980], val_loss: 6945.8774\n",
            "Epoch [3000], val_loss: 6941.0703\n"
          ],
          "name": "stdout"
        }
      ]
    },
    {
      "cell_type": "markdown",
      "metadata": {
        "id": "5r--XFgH7gw2"
      },
      "source": [
        "**Q: What is the final validation loss of your model?**"
      ]
    },
    {
      "cell_type": "code",
      "metadata": {
        "colab": {
          "base_uri": "https://localhost:8080/"
        },
        "id": "8PzwNvWb7gw2",
        "outputId": "748d17bf-4951-461d-ee83-0e3f501cecda"
      },
      "source": [
        "val_loss = history5[-1]['val_loss']\r\n",
        "val_loss"
      ],
      "execution_count": 42,
      "outputs": [
        {
          "output_type": "execute_result",
          "data": {
            "text/plain": [
              "6941.0703125"
            ]
          },
          "metadata": {
            "tags": []
          },
          "execution_count": 42
        }
      ]
    },
    {
      "cell_type": "markdown",
      "metadata": {
        "id": "olVv31Jh7gw2"
      },
      "source": [
        "Let's log the final validation loss to Jovian and commit the notebook"
      ]
    },
    {
      "cell_type": "code",
      "metadata": {
        "colab": {
          "base_uri": "https://localhost:8080/"
        },
        "id": "7xjY6dEf7gw3",
        "outputId": "b3d949ac-1207-4d55-f018-3dc064de0da6"
      },
      "source": [
        "jovian.log_metrics(val_loss=val_loss)"
      ],
      "execution_count": 43,
      "outputs": [
        {
          "output_type": "stream",
          "text": [
            "[jovian] Metrics logged.\u001b[0m\n"
          ],
          "name": "stdout"
        }
      ]
    },
    {
      "cell_type": "code",
      "metadata": {
        "colab": {
          "base_uri": "https://localhost:8080/",
          "height": 110
        },
        "id": "Uge2kppN7gw3",
        "outputId": "3116e309-b417-4ec6-b18e-a76656e9bad8"
      },
      "source": [
        "jovian.commit(project=project_name, environment=None)"
      ],
      "execution_count": 44,
      "outputs": [
        {
          "output_type": "stream",
          "text": [
            "[jovian] Detected Colab notebook...\u001b[0m\n",
            "[jovian] Uploading colab notebook to Jovian...\u001b[0m\n",
            "[jovian] Attaching records (metrics, hyperparameters, dataset etc.)\u001b[0m\n",
            "[jovian] Committed successfully! https://jovian.ai/aayrm5/02-insurance-linear-regression\u001b[0m\n"
          ],
          "name": "stdout"
        },
        {
          "output_type": "execute_result",
          "data": {
            "application/vnd.google.colaboratory.intrinsic+json": {
              "type": "string"
            },
            "text/plain": [
              "'https://jovian.ai/aayrm5/02-insurance-linear-regression'"
            ]
          },
          "metadata": {
            "tags": []
          },
          "execution_count": 44
        }
      ]
    },
    {
      "cell_type": "markdown",
      "metadata": {
        "id": "wyPfTjxW7gw3"
      },
      "source": [
        "Now scroll back up, re-initialize the model, and try different set of values for batch size, number of epochs, learning rate etc. Commit each experiment and use the \"Compare\" and \"View Diff\" options on Jovian to compare the different results."
      ]
    },
    {
      "cell_type": "markdown",
      "metadata": {
        "id": "Bwgdqq147gw3"
      },
      "source": [
        "## Step 5: Make predictions using the trained model\n",
        "\n",
        "**Q: Complete the following function definition to make predictions on a single input**"
      ]
    },
    {
      "cell_type": "code",
      "metadata": {
        "id": "3vsGBTX17gw4"
      },
      "source": [
        "def predict_single(input, target, model):\n",
        "    inputs = input.unsqueeze(0)\n",
        "    predictions = model(input)                # fill this\n",
        "    prediction = predictions[0].detach()\n",
        "    print(\"Input:\", input)\n",
        "    print(\"Target:\", target)\n",
        "    print(\"Prediction:\", prediction)"
      ],
      "execution_count": 45,
      "outputs": []
    },
    {
      "cell_type": "code",
      "metadata": {
        "colab": {
          "base_uri": "https://localhost:8080/"
        },
        "id": "7OxYOoGu7gw4",
        "outputId": "1d9f63ea-46ca-4d07-cad5-7b4433df8132"
      },
      "source": [
        "input, target = val_ds[0]\n",
        "predict_single(input, target, model)"
      ],
      "execution_count": 46,
      "outputs": [
        {
          "output_type": "stream",
          "text": [
            "Input: tensor([25.0000,  1.0000, 34.9965,  2.0000,  1.0000])\n",
            "Target: tensor([43710.7344])\n",
            "Prediction: tensor(9453.7500)\n"
          ],
          "name": "stdout"
        }
      ]
    },
    {
      "cell_type": "code",
      "metadata": {
        "colab": {
          "base_uri": "https://localhost:8080/"
        },
        "id": "DTIOaKnK7gw4",
        "outputId": "966e47fe-77b2-431f-c5df-f198d2edd467"
      },
      "source": [
        "input, target = val_ds[10]\n",
        "predict_single(input, target, model)"
      ],
      "execution_count": 47,
      "outputs": [
        {
          "output_type": "stream",
          "text": [
            "Input: tensor([63.0000,  1.0000, 41.7900,  3.0000,  0.0000])\n",
            "Target: tensor([18355.7832])\n",
            "Prediction: tensor(16454.2031)\n"
          ],
          "name": "stdout"
        }
      ]
    },
    {
      "cell_type": "code",
      "metadata": {
        "colab": {
          "base_uri": "https://localhost:8080/"
        },
        "id": "MLlw7lNl7gw4",
        "outputId": "d016f80c-2cb3-4fef-98a4-c3628b170312"
      },
      "source": [
        "input, target = val_ds[23]\n",
        "predict_single(input, target, model)"
      ],
      "execution_count": 48,
      "outputs": [
        {
          "output_type": "stream",
          "text": [
            "Input: tensor([47.0000,  1.0000, 26.6805,  1.0000,  1.0000])\n",
            "Target: tensor([26594.1992])\n",
            "Prediction: tensor(16393.0078)\n"
          ],
          "name": "stdout"
        }
      ]
    },
    {
      "cell_type": "markdown",
      "metadata": {
        "id": "ncttT-qS7gw4"
      },
      "source": [
        "Are you happy with your model's predictions? Try to improve them further."
      ]
    },
    {
      "cell_type": "markdown",
      "metadata": {
        "id": "tkUHYItK7gw4"
      },
      "source": [
        "## (Optional) Step 6: Try another dataset & blog about it\n",
        "\n",
        "While this last step is optional for the submission of your assignment, we highly recommend that you do it. Try to replicate this notebook for a different linear regression or logistic regression problem. This will help solidify your understanding, and give you a chance to differentiate the generic patterns in machine learning from problem-specific details.You can use one of these starer notebooks (just change the dataset):\n",
        "\n",
        "- Linear regression (minimal): https://jovian.ai/aakashns/housing-linear-minimal\n",
        "- Logistic regression (minimal): https://jovian.ai/aakashns/mnist-logistic-minimal\n",
        "\n",
        "Here are some sources to find good datasets:\n",
        "\n",
        "- https://lionbridge.ai/datasets/10-open-datasets-for-linear-regression/\n",
        "- https://www.kaggle.com/rtatman/datasets-for-regression-analysis\n",
        "- https://archive.ics.uci.edu/ml/datasets.php?format=&task=reg&att=&area=&numAtt=&numIns=&type=&sort=nameUp&view=table\n",
        "- https://people.sc.fsu.edu/~jburkardt/datasets/regression/regression.html\n",
        "- https://archive.ics.uci.edu/ml/datasets/wine+quality\n",
        "- https://pytorch.org/docs/stable/torchvision/datasets.html\n",
        "\n",
        "We also recommend that you write a blog about your approach to the problem. Here is a suggested structure for your post (feel free to experiment with it):\n",
        "\n",
        "- Interesting title & subtitle\n",
        "- Overview of what the blog covers (which dataset, linear regression or logistic regression, intro to PyTorch)\n",
        "- Downloading & exploring the data\n",
        "- Preparing the data for training\n",
        "- Creating a model using PyTorch\n",
        "- Training the model to fit the data\n",
        "- Your thoughts on how to experiment with different hyperparmeters to reduce loss\n",
        "- Making predictions using the model\n",
        "\n",
        "As with the previous assignment, you can [embed Juptyer notebook cells & outputs from Jovian](https://medium.com/jovianml/share-and-embed-jupyter-notebooks-online-with-jovian-ml-df709a03064e) into your blog. \n",
        "\n",
        "Don't forget to share your work on the forum: https://jovian.ai/forum/t/linear-regression-and-logistic-regression-notebooks-and-blog-posts/14039"
      ]
    },
    {
      "cell_type": "code",
      "metadata": {
        "colab": {
          "base_uri": "https://localhost:8080/",
          "height": 184
        },
        "id": "fQuZzZg17gw4",
        "outputId": "89e18d1a-6a23-48e8-9556-d7f67684b77d"
      },
      "source": [
        "jovian.commit(project=project_name, environment=None)\n",
        "jovian.commit(project=project_name, environment=None) # try again, kaggle fails sometimes"
      ],
      "execution_count": 49,
      "outputs": [
        {
          "output_type": "stream",
          "text": [
            "[jovian] Detected Colab notebook...\u001b[0m\n",
            "[jovian] Uploading colab notebook to Jovian...\u001b[0m\n",
            "[jovian] Attaching records (metrics, hyperparameters, dataset etc.)\u001b[0m\n",
            "[jovian] Committed successfully! https://jovian.ai/aayrm5/02-insurance-linear-regression\u001b[0m\n",
            "[jovian] Detected Colab notebook...\u001b[0m\n",
            "[jovian] Uploading colab notebook to Jovian...\u001b[0m\n",
            "[jovian] Attaching records (metrics, hyperparameters, dataset etc.)\u001b[0m\n",
            "[jovian] Committed successfully! https://jovian.ai/aayrm5/02-insurance-linear-regression\u001b[0m\n"
          ],
          "name": "stdout"
        },
        {
          "output_type": "execute_result",
          "data": {
            "application/vnd.google.colaboratory.intrinsic+json": {
              "type": "string"
            },
            "text/plain": [
              "'https://jovian.ai/aayrm5/02-insurance-linear-regression'"
            ]
          },
          "metadata": {
            "tags": []
          },
          "execution_count": 49
        }
      ]
    },
    {
      "cell_type": "code",
      "metadata": {
        "id": "u3H7jF-S7gw5"
      },
      "source": [
        "jovian.submit(project='my-project',assignment=\"zerotogans-a2\")"
      ],
      "execution_count": null,
      "outputs": []
    },
    {
      "cell_type": "code",
      "metadata": {
        "id": "DwP7OLaxdtpT"
      },
      "source": [
        ""
      ],
      "execution_count": null,
      "outputs": []
    }
  ]
}