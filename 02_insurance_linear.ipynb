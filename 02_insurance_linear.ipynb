{
  "nbformat": 4,
  "nbformat_minor": 0,
  "metadata": {
    "colab": {
      "name": "02-insurance-linear.ipynb",
      "provenance": [],
      "collapsed_sections": [],
      "include_colab_link": true
    },
    "kernelspec": {
      "display_name": "Python 3",
      "language": "python",
      "name": "python3"
    },
    "language_info": {
      "codemirror_mode": {
        "name": "ipython",
        "version": 3
      },
      "file_extension": ".py",
      "mimetype": "text/x-python",
      "name": "python",
      "nbconvert_exporter": "python",
      "pygments_lexer": "ipython3",
      "version": "3.8.5"
    }
  },
  "cells": [
    {
      "cell_type": "markdown",
      "metadata": {
        "id": "view-in-github",
        "colab_type": "text"
      },
      "source": [
        "<a href=\"https://colab.research.google.com/github/aayrm5/Zero_to_GANS/blob/main/02_insurance_linear.ipynb\" target=\"_parent\"><img src=\"https://colab.research.google.com/assets/colab-badge.svg\" alt=\"Open In Colab\"/></a>"
      ]
    },
    {
      "cell_type": "code",
      "metadata": {
        "id": "Itgm8jvAvSpj"
      },
      "source": [
        "# Jovian Commit Essentials\n",
        "# Please retain and execute this cell without modifying the contents for `jovian.commit` to work\n",
        "!pip install jovian --upgrade -q\n",
        "import jovian\n",
        "jovian.utils.colab.set_colab_file_id('1A2ThHoM0NazJwVWKM9yeLAUXupzqUFaM')"
      ],
      "execution_count": 51,
      "outputs": []
    },
    {
      "cell_type": "markdown",
      "metadata": {
        "_cell_guid": "b1076dfc-b9ad-4769-8c92-a6c4dae69d19",
        "_uuid": "8f2839f25d086af736a60e9eeb907d3b93b6e0e5",
        "id": "lHQtNWPM7gwe"
      },
      "source": [
        "# Insurance cost prediction using linear regression\n",
        "\n",
        "Make a submisson here: https://jovian.ai/learn/deep-learning-with-pytorch-zero-to-gans/assignment/assignment-2-train-your-first-model\n",
        "\n",
        "In this assignment we're going to use information like a person's age, sex, BMI, no. of children and smoking habit to predict the price of yearly medical bills. This kind of model is useful for insurance companies to determine the yearly insurance premium for a person. The dataset for this problem is taken from [Kaggle](https://www.kaggle.com/mirichoi0218/insurance).\n",
        "\n",
        "\n",
        "We will create a model with the following steps:\n",
        "1. Download and explore the dataset\n",
        "2. Prepare the dataset for training\n",
        "3. Create a linear regression model\n",
        "4. Train the model to fit the data\n",
        "5. Make predictions using the trained model\n",
        "\n",
        "\n",
        "This assignment builds upon the concepts from the first 2 lessons. It will help to review these Jupyter notebooks:\n",
        "- PyTorch basics: https://jovian.ai/aakashns/01-pytorch-basics\n",
        "- Linear Regression: https://jovian.ai/aakashns/02-linear-regression\n",
        "- Logistic Regression: https://jovian.ai/aakashns/03-logistic-regression\n",
        "- Linear regression (minimal): https://jovian.ai/aakashns/housing-linear-minimal\n",
        "- Logistic regression (minimal): https://jovian.ai/aakashns/mnist-logistic-minimal\n",
        "\n",
        "As you go through this notebook, you will find a **???** in certain places. Your job is to replace the **???** with appropriate code or values, to ensure that the notebook runs properly end-to-end . In some cases, you'll be required to choose some hyperparameters (learning rate, batch size etc.). Try to experiment with the hypeparameters to get the lowest loss.\n"
      ]
    },
    {
      "cell_type": "code",
      "metadata": {
        "id": "9y0yZdav7gwe"
      },
      "source": [
        "# Uncomment and run the appropriate command for your operating system, if required\n",
        "\n",
        "# Linux / Binder\n",
        "# !pip install numpy matplotlib pandas torch==1.7.0+cpu torchvision==0.8.1+cpu torchaudio==0.7.0 -f https://download.pytorch.org/whl/torch_stable.html\n",
        "\n",
        "# Windows\n",
        "# !pip install numpy matplotlib pandas torch==1.7.0+cpu torchvision==0.8.1+cpu torchaudio==0.7.0 -f https://download.pytorch.org/whl/torch_stable.html\n",
        "\n",
        "# MacOS\n",
        "# !pip install numpy matplotlib pandas torch torchvision torchaudio"
      ],
      "execution_count": null,
      "outputs": []
    },
    {
      "cell_type": "code",
      "metadata": {
        "id": "kwx9IQgc7gwg"
      },
      "source": [
        "import torch\n",
        "import jovian\n",
        "import torchvision\n",
        "import torch.nn as nn\n",
        "import pandas as pd\n",
        "import matplotlib.pyplot as plt\n",
        "import torch.nn.functional as F\n",
        "from torchvision.datasets.utils import download_url\n",
        "from torch.utils.data import DataLoader, TensorDataset, random_split"
      ],
      "execution_count": 52,
      "outputs": []
    },
    {
      "cell_type": "code",
      "metadata": {
        "id": "sSbeieqS7gwg"
      },
      "source": [
        "project_name='02-insurance-linear-regression' # will be used by jovian.commit"
      ],
      "execution_count": 53,
      "outputs": []
    },
    {
      "cell_type": "markdown",
      "metadata": {
        "id": "gO-cdzkt7gwh"
      },
      "source": [
        "## Step 1: Download and explore the data\n",
        "\n",
        "Let us begin by downloading the data. We'll use the `download_url` function from PyTorch to get the data as a CSV (comma-separated values) file. "
      ]
    },
    {
      "cell_type": "code",
      "metadata": {
        "_cell_guid": "79c7e3d0-c299-4dcb-8224-4455121ee9b0",
        "_uuid": "d629ff2d2480ee46fbb7e2d37f6b5fab8052498a",
        "colab": {
          "base_uri": "https://localhost:8080/"
        },
        "id": "eDDLFDK-7gwh",
        "outputId": "bffb9ee2-3475-40b7-8a02-a82d42a2c1c7"
      },
      "source": [
        "DATASET_URL = \"https://hub.jovian.ml/wp-content/uploads/2020/05/insurance.csv\"\n",
        "DATA_FILENAME = \"insurance.csv\"\n",
        "download_url(DATASET_URL, '.')"
      ],
      "execution_count": 54,
      "outputs": [
        {
          "output_type": "stream",
          "text": [
            "Using downloaded and verified file: ./insurance.csv\n"
          ],
          "name": "stdout"
        }
      ]
    },
    {
      "cell_type": "markdown",
      "metadata": {
        "id": "gLPSTli47gwj"
      },
      "source": [
        "To load the dataset into memory, we'll use the `read_csv` function from the `pandas` library. The data will be loaded as a Pandas dataframe. See this short tutorial to learn more: https://data36.com/pandas-tutorial-1-basics-reading-data-files-dataframes-data-selection/"
      ]
    },
    {
      "cell_type": "code",
      "metadata": {
        "colab": {
          "base_uri": "https://localhost:8080/",
          "height": 206
        },
        "id": "3drC8Dg_7gwl",
        "outputId": "3bb84652-f122-4e20-93af-c116e28cd8f7"
      },
      "source": [
        "dataframe_raw = pd.read_csv(DATA_FILENAME)\n",
        "dataframe_raw.head()"
      ],
      "execution_count": 55,
      "outputs": [
        {
          "output_type": "execute_result",
          "data": {
            "text/html": [
              "<div>\n",
              "<style scoped>\n",
              "    .dataframe tbody tr th:only-of-type {\n",
              "        vertical-align: middle;\n",
              "    }\n",
              "\n",
              "    .dataframe tbody tr th {\n",
              "        vertical-align: top;\n",
              "    }\n",
              "\n",
              "    .dataframe thead th {\n",
              "        text-align: right;\n",
              "    }\n",
              "</style>\n",
              "<table border=\"1\" class=\"dataframe\">\n",
              "  <thead>\n",
              "    <tr style=\"text-align: right;\">\n",
              "      <th></th>\n",
              "      <th>age</th>\n",
              "      <th>sex</th>\n",
              "      <th>bmi</th>\n",
              "      <th>children</th>\n",
              "      <th>smoker</th>\n",
              "      <th>region</th>\n",
              "      <th>charges</th>\n",
              "    </tr>\n",
              "  </thead>\n",
              "  <tbody>\n",
              "    <tr>\n",
              "      <th>0</th>\n",
              "      <td>19</td>\n",
              "      <td>female</td>\n",
              "      <td>27.900</td>\n",
              "      <td>0</td>\n",
              "      <td>yes</td>\n",
              "      <td>southwest</td>\n",
              "      <td>16884.92400</td>\n",
              "    </tr>\n",
              "    <tr>\n",
              "      <th>1</th>\n",
              "      <td>18</td>\n",
              "      <td>male</td>\n",
              "      <td>33.770</td>\n",
              "      <td>1</td>\n",
              "      <td>no</td>\n",
              "      <td>southeast</td>\n",
              "      <td>1725.55230</td>\n",
              "    </tr>\n",
              "    <tr>\n",
              "      <th>2</th>\n",
              "      <td>28</td>\n",
              "      <td>male</td>\n",
              "      <td>33.000</td>\n",
              "      <td>3</td>\n",
              "      <td>no</td>\n",
              "      <td>southeast</td>\n",
              "      <td>4449.46200</td>\n",
              "    </tr>\n",
              "    <tr>\n",
              "      <th>3</th>\n",
              "      <td>33</td>\n",
              "      <td>male</td>\n",
              "      <td>22.705</td>\n",
              "      <td>0</td>\n",
              "      <td>no</td>\n",
              "      <td>northwest</td>\n",
              "      <td>21984.47061</td>\n",
              "    </tr>\n",
              "    <tr>\n",
              "      <th>4</th>\n",
              "      <td>32</td>\n",
              "      <td>male</td>\n",
              "      <td>28.880</td>\n",
              "      <td>0</td>\n",
              "      <td>no</td>\n",
              "      <td>northwest</td>\n",
              "      <td>3866.85520</td>\n",
              "    </tr>\n",
              "  </tbody>\n",
              "</table>\n",
              "</div>"
            ],
            "text/plain": [
              "   age     sex     bmi  children smoker     region      charges\n",
              "0   19  female  27.900         0    yes  southwest  16884.92400\n",
              "1   18    male  33.770         1     no  southeast   1725.55230\n",
              "2   28    male  33.000         3     no  southeast   4449.46200\n",
              "3   33    male  22.705         0     no  northwest  21984.47061\n",
              "4   32    male  28.880         0     no  northwest   3866.85520"
            ]
          },
          "metadata": {
            "tags": []
          },
          "execution_count": 55
        }
      ]
    },
    {
      "cell_type": "markdown",
      "metadata": {
        "id": "19Z37KN77gwm"
      },
      "source": [
        "We're going to do a slight customization of the data, so that you every participant receives a slightly different version of the dataset. Fill in your name below as a string (enter at least 5 characters)"
      ]
    },
    {
      "cell_type": "code",
      "metadata": {
        "id": "4sMoEba67gwm"
      },
      "source": [
        "your_name = 'Riyaz' # at least 5 characters"
      ],
      "execution_count": 56,
      "outputs": []
    },
    {
      "cell_type": "markdown",
      "metadata": {
        "id": "20__7aju7gwn"
      },
      "source": [
        "The `customize_dataset` function will customize the dataset slightly using your name as a source of random numbers."
      ]
    },
    {
      "cell_type": "code",
      "metadata": {
        "id": "782gIh0J7gwn"
      },
      "source": [
        "def customize_dataset(dataframe_raw, rand_str):\n",
        "    dataframe = dataframe_raw.copy(deep=True)\n",
        "    # drop some rows\n",
        "    dataframe = dataframe.sample(int(0.95*len(dataframe)), random_state=int(ord(rand_str[0])))\n",
        "    # scale input\n",
        "    dataframe.bmi = dataframe.bmi * ord(rand_str[1])/100.\n",
        "    # scale target\n",
        "    dataframe.charges = dataframe.charges * ord(rand_str[2])/100.\n",
        "    # drop column\n",
        "    if ord(rand_str[3]) % 2 == 1:\n",
        "        dataframe = dataframe.drop(['region'], axis=1)\n",
        "    return dataframe"
      ],
      "execution_count": 57,
      "outputs": []
    },
    {
      "cell_type": "code",
      "metadata": {
        "colab": {
          "base_uri": "https://localhost:8080/",
          "height": 206
        },
        "id": "BOPp2LBx7gwo",
        "outputId": "540773da-4e51-4637-edc8-31e54235a58f"
      },
      "source": [
        "dataframe = customize_dataset(dataframe_raw, your_name)\n",
        "dataframe.head()"
      ],
      "execution_count": 58,
      "outputs": [
        {
          "output_type": "execute_result",
          "data": {
            "text/html": [
              "<div>\n",
              "<style scoped>\n",
              "    .dataframe tbody tr th:only-of-type {\n",
              "        vertical-align: middle;\n",
              "    }\n",
              "\n",
              "    .dataframe tbody tr th {\n",
              "        vertical-align: top;\n",
              "    }\n",
              "\n",
              "    .dataframe thead th {\n",
              "        text-align: right;\n",
              "    }\n",
              "</style>\n",
              "<table border=\"1\" class=\"dataframe\">\n",
              "  <thead>\n",
              "    <tr style=\"text-align: right;\">\n",
              "      <th></th>\n",
              "      <th>age</th>\n",
              "      <th>sex</th>\n",
              "      <th>bmi</th>\n",
              "      <th>children</th>\n",
              "      <th>smoker</th>\n",
              "      <th>charges</th>\n",
              "    </tr>\n",
              "  </thead>\n",
              "  <tbody>\n",
              "    <tr>\n",
              "      <th>457</th>\n",
              "      <td>57</td>\n",
              "      <td>female</td>\n",
              "      <td>32.01975</td>\n",
              "      <td>0</td>\n",
              "      <td>no</td>\n",
              "      <td>14327.337811</td>\n",
              "    </tr>\n",
              "    <tr>\n",
              "      <th>1050</th>\n",
              "      <td>44</td>\n",
              "      <td>female</td>\n",
              "      <td>38.80275</td>\n",
              "      <td>1</td>\n",
              "      <td>no</td>\n",
              "      <td>9707.993894</td>\n",
              "    </tr>\n",
              "    <tr>\n",
              "      <th>56</th>\n",
              "      <td>58</td>\n",
              "      <td>female</td>\n",
              "      <td>33.41625</td>\n",
              "      <td>2</td>\n",
              "      <td>no</td>\n",
              "      <td>16464.916187</td>\n",
              "    </tr>\n",
              "    <tr>\n",
              "      <th>311</th>\n",
              "      <td>19</td>\n",
              "      <td>female</td>\n",
              "      <td>25.93500</td>\n",
              "      <td>0</td>\n",
              "      <td>no</td>\n",
              "      <td>2102.224960</td>\n",
              "    </tr>\n",
              "    <tr>\n",
              "      <th>1288</th>\n",
              "      <td>20</td>\n",
              "      <td>male</td>\n",
              "      <td>41.37000</td>\n",
              "      <td>2</td>\n",
              "      <td>yes</td>\n",
              "      <td>46396.924860</td>\n",
              "    </tr>\n",
              "  </tbody>\n",
              "</table>\n",
              "</div>"
            ],
            "text/plain": [
              "      age     sex       bmi  children smoker       charges\n",
              "457    57  female  32.01975         0     no  14327.337811\n",
              "1050   44  female  38.80275         1     no   9707.993894\n",
              "56     58  female  33.41625         2     no  16464.916187\n",
              "311    19  female  25.93500         0     no   2102.224960\n",
              "1288   20    male  41.37000         2    yes  46396.924860"
            ]
          },
          "metadata": {
            "tags": []
          },
          "execution_count": 58
        }
      ]
    },
    {
      "cell_type": "markdown",
      "metadata": {
        "id": "McZNi5j17gwo"
      },
      "source": [
        "Let us answer some basic questions about the dataset. \n",
        "\n",
        "\n",
        "**Q: How many rows does the dataset have?**"
      ]
    },
    {
      "cell_type": "code",
      "metadata": {
        "colab": {
          "base_uri": "https://localhost:8080/"
        },
        "id": "l-adcTrz7gwo",
        "outputId": "f83d278f-532b-474c-ab72-da67f3de899d"
      },
      "source": [
        "num_rows = dataframe.shape[0]\n",
        "print(num_rows)"
      ],
      "execution_count": 59,
      "outputs": [
        {
          "output_type": "stream",
          "text": [
            "1271\n"
          ],
          "name": "stdout"
        }
      ]
    },
    {
      "cell_type": "markdown",
      "metadata": {
        "id": "qy-_T5Mh7gwo"
      },
      "source": [
        "**Q: How many columns doe the dataset have**"
      ]
    },
    {
      "cell_type": "code",
      "metadata": {
        "colab": {
          "base_uri": "https://localhost:8080/"
        },
        "id": "Kf4dG3U47gwo",
        "outputId": "2eff7108-1d92-40e0-9202-aaf33c713633"
      },
      "source": [
        "num_cols = dataframe.shape[1]\n",
        "print(num_cols)"
      ],
      "execution_count": 60,
      "outputs": [
        {
          "output_type": "stream",
          "text": [
            "6\n"
          ],
          "name": "stdout"
        }
      ]
    },
    {
      "cell_type": "markdown",
      "metadata": {
        "id": "hDlICYXn7gwp"
      },
      "source": [
        "**Q: What are the column titles of the input variables?**"
      ]
    },
    {
      "cell_type": "code",
      "metadata": {
        "colab": {
          "base_uri": "https://localhost:8080/"
        },
        "id": "WxehLpH27gwp",
        "outputId": "a5065834-9043-4144-8d7d-0d4759198cf3"
      },
      "source": [
        "input_cols = list(dataframe.columns[:-1])\r\n",
        "input_cols"
      ],
      "execution_count": 61,
      "outputs": [
        {
          "output_type": "execute_result",
          "data": {
            "text/plain": [
              "['age', 'sex', 'bmi', 'children', 'smoker']"
            ]
          },
          "metadata": {
            "tags": []
          },
          "execution_count": 61
        }
      ]
    },
    {
      "cell_type": "markdown",
      "metadata": {
        "id": "DXYcCqJ97gwp"
      },
      "source": [
        "**Q: Which of the input columns are non-numeric or categorial variables ?**\n",
        "\n",
        "Hint: `sex` is one of them. List the columns that are not numbers."
      ]
    },
    {
      "cell_type": "code",
      "metadata": {
        "colab": {
          "base_uri": "https://localhost:8080/"
        },
        "id": "ggCW4JfP7gwq",
        "outputId": "254016a1-a151-43a7-f082-26cae1dead66"
      },
      "source": [
        "categorical_cols = list(dataframe.select_dtypes('O').columns)\r\n",
        "categorical_cols"
      ],
      "execution_count": 62,
      "outputs": [
        {
          "output_type": "execute_result",
          "data": {
            "text/plain": [
              "['sex', 'smoker']"
            ]
          },
          "metadata": {
            "tags": []
          },
          "execution_count": 62
        }
      ]
    },
    {
      "cell_type": "markdown",
      "metadata": {
        "id": "YMcDdUvL7gwq"
      },
      "source": [
        "**Q: What are the column titles of output/target variable(s)?**"
      ]
    },
    {
      "cell_type": "code",
      "metadata": {
        "colab": {
          "base_uri": "https://localhost:8080/"
        },
        "id": "H7khA6so7gwr",
        "outputId": "ae57d69b-834d-4194-c0bb-3948c2aeda7d"
      },
      "source": [
        "output_cols = [dataframe.columns[-1]]\r\n",
        "output_cols"
      ],
      "execution_count": 63,
      "outputs": [
        {
          "output_type": "execute_result",
          "data": {
            "text/plain": [
              "['charges']"
            ]
          },
          "metadata": {
            "tags": []
          },
          "execution_count": 63
        }
      ]
    },
    {
      "cell_type": "markdown",
      "metadata": {
        "id": "DHm25Hk37gwr"
      },
      "source": [
        "**Q: (Optional) What is the minimum, maximum and average value of the `charges` column? Can you show the distribution of values in a graph?**\n",
        "Use this data visualization cheatsheet for referece: https://jovian.ml/aakashns/dataviz-cheatsheet"
      ]
    },
    {
      "cell_type": "code",
      "metadata": {
        "colab": {
          "base_uri": "https://localhost:8080/",
          "height": 462
        },
        "id": "uQmkPMiv7gws",
        "outputId": "f8f275df-3ab0-4b29-d3dc-9b8999f0124e"
      },
      "source": [
        "# Write your answer here\r\n",
        "print(dataframe.agg({'charges':['min','max','mean']}))\r\n",
        "import seaborn as sns\r\n",
        "sns.set_style('darkgrid')\r\n",
        "plt.figure(figsize=(10,6))\r\n",
        "plt.hist(dataframe['charges'], bins=50, ec='black')\r\n",
        "plt.xlabel('Charges')\r\n",
        "plt.show()"
      ],
      "execution_count": 64,
      "outputs": [
        {
          "output_type": "stream",
          "text": [
            "           charges\n",
            "min    1357.467419\n",
            "max   77162.217892\n",
            "mean  15876.391392\n"
          ],
          "name": "stdout"
        },
        {
          "output_type": "display_data",
          "data": {
            "image/png": "[encoded data removed]",
            "text/plain": [
              "<Figure size 720x432 with 1 Axes>"
            ]
          },
          "metadata": {
            "tags": []
          }
        }
      ]
    },
    {
      "cell_type": "markdown",
      "metadata": {
        "id": "sQJmvUZf7gws"
      },
      "source": [
        "Remember to commit your notebook to Jovian after every step, so that you don't lose your work."
      ]
    },
    {
      "cell_type": "code",
      "metadata": {
        "id": "h2Fubb5N7gws"
      },
      "source": [
        "!pip install jovian --upgrade -q"
      ],
      "execution_count": 65,
      "outputs": []
    },
    {
      "cell_type": "code",
      "metadata": {
        "id": "dfhAudp77gws"
      },
      "source": [
        "import jovian"
      ],
      "execution_count": 66,
      "outputs": []
    },
    {
      "cell_type": "code",
      "metadata": {
        "colab": {
          "base_uri": "https://localhost:8080/",
          "height": 128
        },
        "id": "ykEJPHRx7gws",
        "outputId": "283fd05d-9bec-4274-ef04-94e1278ffcbd"
      },
      "source": [
        "jovian.commit(project='my-project')"
      ],
      "execution_count": 67,
      "outputs": [
        {
          "output_type": "stream",
          "text": [
            "[jovian] Detected Colab notebook...\u001b[0m\n",
            "[jovian] Uploading colab notebook to Jovian...\u001b[0m\n",
            "[jovian] Capturing environment..\u001b[0m\n",
            "[jovian] Attaching records (metrics, hyperparameters, dataset etc.)\u001b[0m\n",
            "[jovian] Committed successfully! https://jovian.ai/aayrm5/my-project\u001b[0m\n"
          ],
          "name": "stdout"
        },
        {
          "output_type": "execute_result",
          "data": {
            "application/vnd.google.colaboratory.intrinsic+json": {
              "type": "string"
            },
            "text/plain": [
              "'https://jovian.ai/aayrm5/my-project'"
            ]
          },
          "metadata": {
            "tags": []
          },
          "execution_count": 67
        }
      ]
    },
    {
      "cell_type": "markdown",
      "metadata": {
        "id": "5wMFa_vH7gwt"
      },
      "source": [
        "## Step 2: Prepare the dataset for training\n",
        "\n",
        "We need to convert the data from the Pandas dataframe into a PyTorch tensors for training. To do this, the first step is to convert it numpy arrays. If you've filled out `input_cols`, `categorial_cols` and `output_cols` correctly, this following function will perform the conversion to numpy arrays."
      ]
    },
    {
      "cell_type": "code",
      "metadata": {
        "id": "xzc-p4rQ7gwt"
      },
      "source": [
        "def dataframe_to_arrays(dataframe):\n",
        "    # Make a copy of the original dataframe\n",
        "    dataframe1 = dataframe.copy(deep=True)\n",
        "    # Convert non-numeric categorical columns to numbers\n",
        "    for col in categorical_cols:\n",
        "        dataframe1[col] = dataframe1[col].astype('category').cat.codes\n",
        "    # Extract input & outupts as numpy arrays\n",
        "    inputs_array = dataframe1[input_cols].to_numpy()\n",
        "    targets_array = dataframe1[output_cols].to_numpy()\n",
        "    return inputs_array, targets_array"
      ],
      "execution_count": 68,
      "outputs": []
    },
    {
      "cell_type": "markdown",
      "metadata": {
        "id": "YzNknZLY7gwt"
      },
      "source": [
        "Read through the [Pandas documentation](https://pandas.pydata.org/pandas-docs/stable/user_guide/categorical.html) to understand how we're converting categorical variables into numbers."
      ]
    },
    {
      "cell_type": "code",
      "metadata": {
        "colab": {
          "base_uri": "https://localhost:8080/"
        },
        "id": "p9pwgJnZ7gwt",
        "outputId": "23abd042-6661-45d3-d8ec-e3e5c34ded91"
      },
      "source": [
        "inputs_array, targets_array = dataframe_to_arrays(dataframe)\n",
        "inputs_array, targets_array"
      ],
      "execution_count": 69,
      "outputs": [
        {
          "output_type": "execute_result",
          "data": {
            "text/plain": [
              "(array([[57.     ,  0.     , 32.01975,  0.     ,  0.     ],\n",
              "        [44.     ,  0.     , 38.80275,  1.     ,  0.     ],\n",
              "        [58.     ,  0.     , 33.41625,  2.     ,  0.     ],\n",
              "        ...,\n",
              "        [59.     ,  0.     , 36.54   ,  2.     ,  0.     ],\n",
              "        [41.     ,  1.     , 30.24   ,  1.     ,  0.     ],\n",
              "        [36.     ,  0.     , 31.521  ,  0.     ,  0.     ]]),\n",
              " array([[14327.3378105],\n",
              "        [ 9707.9938945],\n",
              "        [16464.9161875],\n",
              "        ...,\n",
              "        [44661.8357163],\n",
              "        [ 7601.50435  ],\n",
              "        [ 6379.332718 ]]))"
            ]
          },
          "metadata": {
            "tags": []
          },
          "execution_count": 69
        }
      ]
    },
    {
      "cell_type": "markdown",
      "metadata": {
        "id": "sPz42ye07gwt"
      },
      "source": [
        "**Q: Convert the numpy arrays `inputs_array` and `targets_array` into PyTorch tensors. Make sure that the data type is `torch.float32`.**"
      ]
    },
    {
      "cell_type": "code",
      "metadata": {
        "colab": {
          "base_uri": "https://localhost:8080/"
        },
        "id": "HgzlRu947gwt",
        "outputId": "82dec562-68b0-44ed-a93d-64df57e48462"
      },
      "source": [
        "inputs = torch.from_numpy(inputs_array).type(torch.float32)\n",
        "targets = torch.from_numpy(targets_array).type(torch.float32)\n",
        "inputs[:2], targets[:2]"
      ],
      "execution_count": 70,
      "outputs": [
        {
          "output_type": "execute_result",
          "data": {
            "text/plain": [
              "(tensor([[57.0000,  0.0000, 32.0197,  0.0000,  0.0000],\n",
              "         [44.0000,  0.0000, 38.8027,  1.0000,  0.0000]]), tensor([[14327.3379],\n",
              "         [ 9707.9941]]))"
            ]
          },
          "metadata": {
            "tags": []
          },
          "execution_count": 70
        }
      ]
    },
    {
      "cell_type": "code",
      "metadata": {
        "colab": {
          "base_uri": "https://localhost:8080/"
        },
        "id": "G5uiId1W7gwu",
        "outputId": "b9600d69-73eb-41f2-b18c-d4e8c21fd2fd"
      },
      "source": [
        "inputs.dtype, targets.dtype"
      ],
      "execution_count": 71,
      "outputs": [
        {
          "output_type": "execute_result",
          "data": {
            "text/plain": [
              "(torch.float32, torch.float32)"
            ]
          },
          "metadata": {
            "tags": []
          },
          "execution_count": 71
        }
      ]
    },
    {
      "cell_type": "markdown",
      "metadata": {
        "id": "G-eFoqbG7gwu"
      },
      "source": [
        "Next, we need to create PyTorch datasets & data loaders for training & validation. We'll start by creating a `TensorDataset`."
      ]
    },
    {
      "cell_type": "code",
      "metadata": {
        "colab": {
          "base_uri": "https://localhost:8080/"
        },
        "id": "CMMhuY2y7gwu",
        "outputId": "ad8e7051-4e18-40d6-b149-da08a5ebcdb3"
      },
      "source": [
        "dataset = TensorDataset(inputs, targets)\r\n",
        "dataset[:5]"
      ],
      "execution_count": 72,
      "outputs": [
        {
          "output_type": "execute_result",
          "data": {
            "text/plain": [
              "(tensor([[57.0000,  0.0000, 32.0197,  0.0000,  0.0000],\n",
              "         [44.0000,  0.0000, 38.8027,  1.0000,  0.0000],\n",
              "         [58.0000,  0.0000, 33.4162,  2.0000,  0.0000],\n",
              "         [19.0000,  0.0000, 25.9350,  0.0000,  0.0000],\n",
              "         [20.0000,  1.0000, 41.3700,  2.0000,  1.0000]]), tensor([[14327.3379],\n",
              "         [ 9707.9941],\n",
              "         [16464.9160],\n",
              "         [ 2102.2249],\n",
              "         [46396.9258]]))"
            ]
          },
          "metadata": {
            "tags": []
          },
          "execution_count": 72
        }
      ]
    },
    {
      "cell_type": "markdown",
      "metadata": {
        "id": "JNPwLQ1O7gwu"
      },
      "source": [
        "**Q: Pick a number between `0.1` and `0.2` to determine the fraction of data that will be used for creating the validation set. Then use `random_split` to create training & validation datasets.**"
      ]
    },
    {
      "cell_type": "code",
      "metadata": {
        "id": "grasUJCt7gwu"
      },
      "source": [
        "val_percent = 0.125 # between 0.1 and 0.2\n",
        "val_size = int(num_rows * val_percent)\n",
        "train_size = num_rows - val_size\n",
        "\n",
        "\n",
        "train_ds, val_ds = random_split(dataset, [train_size, val_size]) # Use the random_split function to split dataset into 2 parts of the desired length"
      ],
      "execution_count": 73,
      "outputs": []
    },
    {
      "cell_type": "markdown",
      "metadata": {
        "id": "2YmRUx3O7gwv"
      },
      "source": [
        "Finally, we can create data loaders for training & validation.\n",
        "\n",
        "**Q: Pick a batch size for the data loader.**"
      ]
    },
    {
      "cell_type": "code",
      "metadata": {
        "id": "at24m7pF7gwv"
      },
      "source": [
        "batch_size = 120"
      ],
      "execution_count": 74,
      "outputs": []
    },
    {
      "cell_type": "code",
      "metadata": {
        "colab": {
          "base_uri": "https://localhost:8080/"
        },
        "id": "ii_V_k157gwv",
        "outputId": "7a87fbae-4faa-44cc-9538-a28869c6702d"
      },
      "source": [
        "train_loader = DataLoader(train_ds, batch_size, shuffle=True)\n",
        "val_loader = DataLoader(val_ds, batch_size)\n",
        "len(train_loader), len(val_loader)"
      ],
      "execution_count": 75,
      "outputs": [
        {
          "output_type": "execute_result",
          "data": {
            "text/plain": [
              "(10, 2)"
            ]
          },
          "metadata": {
            "tags": []
          },
          "execution_count": 75
        }
      ]
    },
    {
      "cell_type": "markdown",
      "metadata": {
        "id": "qXoiOiWO7gwv"
      },
      "source": [
        "Let's look at a batch of data to verify everything is working fine so far."
      ]
    },
    {
      "cell_type": "code",
      "metadata": {
        "colab": {
          "base_uri": "https://localhost:8080/"
        },
        "id": "9wIVbe607gww",
        "outputId": "da30c4b3-abac-41e7-cbce-7d77cabe8ae0"
      },
      "source": [
        "for xb, yb in train_loader:\n",
        "    print(\"inputs:\", xb)\n",
        "    print(\"targets:\", yb)\n",
        "    break"
      ],
      "execution_count": 76,
      "outputs": [
        {
          "output_type": "stream",
          "text": [
            "inputs: tensor([[29.0000,  1.0000, 35.0122,  2.0000,  0.0000],\n",
            "        [22.0000,  0.0000, 21.2467,  0.0000,  0.0000],\n",
            "        [23.0000,  1.0000, 19.6507,  0.0000,  0.0000],\n",
            "        [18.0000,  0.0000, 37.4062,  0.0000,  0.0000],\n",
            "        [61.0000,  1.0000, 24.8377,  0.0000,  0.0000],\n",
            "        [28.0000,  0.0000, 18.1545,  0.0000,  0.0000],\n",
            "        [62.0000,  0.0000, 41.1180,  0.0000,  0.0000],\n",
            "        [24.0000,  1.0000, 33.6105,  0.0000,  0.0000],\n",
            "        [60.0000,  1.0000, 25.5360,  0.0000,  0.0000],\n",
            "        [23.0000,  1.0000, 33.3165,  3.0000,  1.0000],\n",
            "        [22.0000,  0.0000, 31.9200,  0.0000,  0.0000],\n",
            "        [21.0000,  1.0000, 37.3065,  0.0000,  0.0000],\n",
            "        [19.0000,  0.0000, 29.2950,  0.0000,  1.0000],\n",
            "        [22.0000,  0.0000, 29.4525,  0.0000,  0.0000],\n",
            "        [44.0000,  1.0000, 23.2418,  2.0000,  0.0000],\n",
            "        [33.0000,  1.0000, 28.4550,  1.0000,  1.0000],\n",
            "        [62.0000,  0.0000, 32.0197,  2.0000,  0.0000],\n",
            "        [39.0000,  0.0000, 34.4400,  0.0000,  0.0000],\n",
            "        [44.0000,  0.0000, 40.8975,  0.0000,  1.0000],\n",
            "        [59.0000,  1.0000, 43.1970,  1.0000,  1.0000],\n",
            "        [46.0000,  1.0000, 27.9510,  1.0000,  0.0000],\n",
            "        [22.0000,  1.0000, 26.4338,  0.0000,  0.0000],\n",
            "        [64.0000,  0.0000, 33.4162,  2.0000,  0.0000],\n",
            "        [49.0000,  1.0000, 30.1245,  3.0000,  0.0000],\n",
            "        [56.0000,  0.0000, 30.2243,  0.0000,  0.0000],\n",
            "        [48.0000,  1.0000, 37.4062,  4.0000,  0.0000],\n",
            "        [44.0000,  1.0000, 41.4960,  0.0000,  0.0000],\n",
            "        [33.0000,  1.0000, 28.8277,  2.0000,  0.0000],\n",
            "        [60.0000,  0.0000, 30.1350,  1.0000,  0.0000],\n",
            "        [26.0000,  1.0000, 31.5000,  1.0000,  0.0000],\n",
            "        [37.0000,  0.0000, 26.8328,  1.0000,  1.0000],\n",
            "        [60.0000,  0.0000, 34.0725,  0.0000,  1.0000],\n",
            "        [64.0000,  1.0000, 36.2250,  0.0000,  0.0000],\n",
            "        [34.0000,  0.0000, 39.2018,  2.0000,  0.0000],\n",
            "        [25.0000,  1.0000, 31.1850,  3.0000,  1.0000],\n",
            "        [55.0000,  1.0000, 29.0273,  0.0000,  0.0000],\n",
            "        [34.0000,  0.0000, 19.9500,  3.0000,  0.0000],\n",
            "        [45.0000,  0.0000, 32.4450,  2.0000,  0.0000],\n",
            "        [18.0000,  1.0000, 34.9965,  0.0000,  0.0000],\n",
            "        [42.0000,  0.0000, 30.9540,  2.0000,  0.0000],\n",
            "        [27.0000,  1.0000, 29.9250,  0.0000,  1.0000],\n",
            "        [50.0000,  0.0000, 28.4287,  1.0000,  0.0000],\n",
            "        [50.0000,  0.0000, 26.8800,  0.0000,  0.0000],\n",
            "        [26.0000,  0.0000, 42.1942,  0.0000,  0.0000],\n",
            "        [32.0000,  0.0000, 21.5460,  0.0000,  0.0000],\n",
            "        [29.0000,  1.0000, 39.1545,  2.0000,  0.0000],\n",
            "        [29.0000,  0.0000, 31.0695,  1.0000,  0.0000],\n",
            "        [59.0000,  1.0000, 31.3215,  3.0000,  1.0000],\n",
            "        [48.0000,  0.0000, 34.9965,  0.0000,  0.0000],\n",
            "        [22.0000,  1.0000, 36.5400,  3.0000,  0.0000],\n",
            "        [61.0000,  0.0000, 26.3340,  0.0000,  0.0000],\n",
            "        [44.0000,  0.0000, 28.8750,  1.0000,  0.0000],\n",
            "        [26.0000,  0.0000, 44.5200,  1.0000,  0.0000],\n",
            "        [35.0000,  1.0000, 36.0360,  3.0000,  0.0000],\n",
            "        [49.0000,  1.0000, 26.8800,  2.0000,  1.0000],\n",
            "        [40.0000,  0.0000, 24.5385,  3.0000,  0.0000],\n",
            "        [61.0000,  0.0000, 31.4160,  3.0000,  1.0000],\n",
            "        [48.0000,  1.0000, 32.3190,  3.0000,  0.0000],\n",
            "        [19.0000,  1.0000, 27.3315,  1.0000,  1.0000],\n",
            "        [38.0000,  0.0000, 29.4000,  3.0000,  0.0000],\n",
            "        [31.0000,  1.0000, 27.2318,  1.0000,  0.0000],\n",
            "        [18.0000,  1.0000, 33.2640,  2.0000,  1.0000],\n",
            "        [25.0000,  0.0000, 25.5150,  3.0000,  0.0000],\n",
            "        [64.0000,  0.0000, 31.6208,  3.0000,  0.0000],\n",
            "        [38.0000,  0.0000, 28.9800,  0.0000,  0.0000],\n",
            "        [58.0000,  1.0000, 36.1095,  0.0000,  0.0000],\n",
            "        [55.0000,  0.0000, 26.6332,  3.0000,  0.0000],\n",
            "        [41.0000,  1.0000, 35.9205,  1.0000,  0.0000],\n",
            "        [59.0000,  1.0000, 25.9350,  0.0000,  0.0000],\n",
            "        [32.0000,  1.0000, 36.9600,  2.0000,  0.0000],\n",
            "        [30.0000,  0.0000, 29.7990,  1.0000,  1.0000],\n",
            "        [48.0000,  0.0000, 33.8415,  1.0000,  0.0000],\n",
            "        [49.0000,  1.0000, 37.6530,  0.0000,  0.0000],\n",
            "        [62.0000,  1.0000, 33.6157,  0.0000,  1.0000],\n",
            "        [18.0000,  0.0000, 32.9175,  4.0000,  0.0000],\n",
            "        [58.0000,  0.0000, 23.9085,  0.0000,  0.0000],\n",
            "        [55.0000,  0.0000, 35.2118,  2.0000,  0.0000],\n",
            "        [63.0000,  1.0000, 38.6032,  0.0000,  0.0000],\n",
            "        [48.0000,  0.0000, 28.7280,  1.0000,  0.0000],\n",
            "        [33.0000,  0.0000, 19.4250,  1.0000,  0.0000],\n",
            "        [24.0000,  0.0000, 35.0122,  0.0000,  0.0000],\n",
            "        [54.0000,  1.0000, 26.3550,  3.0000,  1.0000],\n",
            "        [43.0000,  1.0000, 27.3315,  0.0000,  0.0000],\n",
            "        [64.0000,  1.0000, 38.8080,  2.0000,  1.0000],\n",
            "        [34.0000,  0.0000, 24.7380,  0.0000,  0.0000],\n",
            "        [28.0000,  1.0000, 39.9630,  0.0000,  0.0000],\n",
            "        [40.0000,  1.0000, 37.0650,  3.0000,  0.0000],\n",
            "        [54.0000,  1.0000, 31.7205,  0.0000,  0.0000],\n",
            "        [18.0000,  1.0000, 27.4890,  2.0000,  0.0000],\n",
            "        [35.0000,  1.0000, 38.5035,  1.0000,  1.0000],\n",
            "        [54.0000,  0.0000, 24.1500,  3.0000,  0.0000],\n",
            "        [27.0000,  1.0000, 35.3430,  0.0000,  0.0000],\n",
            "        [59.0000,  0.0000, 38.6032,  1.0000,  1.0000],\n",
            "        [54.0000,  1.0000, 41.5800,  1.0000,  0.0000],\n",
            "        [43.0000,  1.0000, 29.1900,  0.0000,  1.0000],\n",
            "        [21.0000,  1.0000, 32.8177,  0.0000,  0.0000],\n",
            "        [47.0000,  0.0000, 38.4615,  1.0000,  1.0000],\n",
            "        [42.0000,  1.0000, 27.3735,  1.0000,  1.0000],\n",
            "        [49.0000,  0.0000, 32.3190,  1.0000,  0.0000],\n",
            "        [59.0000,  0.0000, 32.9175,  0.0000,  0.0000],\n",
            "        [42.0000,  1.0000, 37.5900,  2.0000,  0.0000],\n",
            "        [52.0000,  0.0000, 40.2990,  2.0000,  0.0000],\n",
            "        [35.0000,  1.0000, 28.4550,  1.0000,  0.0000],\n",
            "        [24.0000,  0.0000, 21.5460,  0.0000,  1.0000],\n",
            "        [28.0000,  0.0000, 28.8750,  2.0000,  0.0000],\n",
            "        [35.0000,  0.0000, 29.0850,  3.0000,  0.0000],\n",
            "        [20.0000,  0.0000, 33.3795,  2.0000,  0.0000],\n",
            "        [23.0000,  1.0000, 28.7280,  1.0000,  0.0000],\n",
            "        [29.0000,  1.0000, 40.8870,  1.0000,  0.0000],\n",
            "        [51.0000,  0.0000, 36.7080,  2.0000,  1.0000],\n",
            "        [25.0000,  0.0000, 31.7100,  0.0000,  1.0000],\n",
            "        [54.0000,  0.0000, 22.5435,  3.0000,  0.0000],\n",
            "        [58.0000,  0.0000, 34.6133,  0.0000,  0.0000],\n",
            "        [52.0000,  0.0000, 39.2700,  0.0000,  0.0000],\n",
            "        [18.0000,  1.0000, 30.8385,  1.0000,  0.0000],\n",
            "        [26.0000,  0.0000, 23.7405,  0.0000,  0.0000],\n",
            "        [41.0000,  0.0000, 34.8128,  3.0000,  0.0000],\n",
            "        [36.0000,  1.0000, 35.5110,  1.0000,  0.0000],\n",
            "        [28.0000,  1.0000, 25.5150,  5.0000,  0.0000],\n",
            "        [33.0000,  1.0000, 37.0073,  0.0000,  0.0000]])\n",
            "targets: tensor([[23525.2480],\n",
            "        [ 3058.6606],\n",
            "        [26130.4121],\n",
            "        [ 2675.4683],\n",
            "        [15886.8203],\n",
            "        [ 4516.4766],\n",
            "        [16299.6729],\n",
            "        [ 2397.7141],\n",
            "        [15153.5615],\n",
            "        [43788.8125],\n",
            "        [ 3317.7571],\n",
            "        [ 1854.2883],\n",
            "        [20430.7578],\n",
            "        [ 2608.3745],\n",
            "        [10046.0684],\n",
            "        [23039.4590],\n",
            "        [18173.9102],\n",
            "        [ 6836.1553],\n",
            "        [52009.9844],\n",
            "        [59254.0000],\n",
            "        [ 9367.9531],\n",
            "        [ 2475.2791],\n",
            "        [19443.5918],\n",
            "        [12419.9746],\n",
            "        [14106.6387],\n",
            "        [12991.6133],\n",
            "        [ 8407.9277],\n",
            "        [ 6366.3779],\n",
            "        [16001.8789],\n",
            "        [ 3513.9465],\n",
            "        [24559.2051],\n",
            "        [54460.8359],\n",
            "        [16725.5918],\n",
            "        [ 7247.3237],\n",
            "        [24119.4844],\n",
            "        [12819.3467],\n",
            "        [ 8171.1758],\n",
            "        [10309.2314],\n",
            "        [ 1374.4883],\n",
            "        [ 9244.7744],\n",
            "        [22155.9980],\n",
            "        [12228.4229],\n",
            "        [10807.8213],\n",
            "        [ 3873.5066],\n",
            "        [ 5498.5239],\n",
            "        [ 4910.3203],\n",
            "        [ 4776.3696],\n",
            "        [36523.7734],\n",
            "        [10023.2539],\n",
            "        [ 4166.1074],\n",
            "        [29660.8398],\n",
            "        [ 9228.6611],\n",
            "        [ 4126.4922],\n",
            "        [ 7180.5996],\n",
            "        [28200.9219],\n",
            "        [ 9985.2637],\n",
            "        [37440.0508],\n",
            "        [12270.7744],\n",
            "        [19905.5820],\n",
            "        [ 8652.8213],\n",
            "        [ 5130.2700],\n",
            "        [41506.8320],\n",
            "        [ 5313.8989],\n",
            "        [19911.4062],\n",
            "        [ 6514.0786],\n",
            "        [14210.1602],\n",
            "        [15787.2725],\n",
            "        [ 7610.6035],\n",
            "        [14911.9629],\n",
            "        [ 5651.4746],\n",
            "        [23621.5820],\n",
            "        [10734.0938],\n",
            "        [ 9830.5342],\n",
            "        [55309.3516],\n",
            "        [ 5519.0381],\n",
            "        [14318.8770],\n",
            "        [14846.3232],\n",
            "        [16918.0391],\n",
            "        [11431.3330],\n",
            "        [ 5766.8867],\n",
            "        [ 3455.0793],\n",
            "        [30712.5801],\n",
            "        [ 8273.2158],\n",
            "        [59988.9727],\n",
            "        [ 6040.7754],\n",
            "        [ 3254.2896],\n",
            "        [ 8708.2090],\n",
            "        [12380.1152],\n",
            "        [ 2787.8428],\n",
            "        [48126.8750],\n",
            "        [14634.3184],\n",
            "        [ 3023.0815],\n",
            "        [57955.1172],\n",
            "        [12645.1680],\n",
            "        [45773.9648],\n",
            "        [ 2310.5283],\n",
            "        [51993.5234],\n",
            "        [46277.1680],\n",
            "        [11831.7998],\n",
            "        [15272.8369],\n",
            "        [ 8663.7139],\n",
            "        [13790.2490],\n",
            "        [ 5743.0762],\n",
            "        [17631.9883],\n",
            "        [24414.9824],\n",
            "        [ 7761.1553],\n",
            "        [ 3698.2295],\n",
            "        [ 3374.7595],\n",
            "        [ 4200.4058],\n",
            "        [54015.8477],\n",
            "        [41019.7891],\n",
            "        [15095.1748],\n",
            "        [15041.4531],\n",
            "        [11657.7910],\n",
            "        [ 2080.5178],\n",
            "        [ 3843.9473],\n",
            "        [10331.3291],\n",
            "        [ 6506.7241],\n",
            "        [ 6794.5967],\n",
            "        [15009.9033]])\n"
          ],
          "name": "stdout"
        }
      ]
    },
    {
      "cell_type": "markdown",
      "metadata": {
        "id": "WLmky_4M7gww"
      },
      "source": [
        "Let's save our work by committing to Jovian."
      ]
    },
    {
      "cell_type": "code",
      "metadata": {
        "colab": {
          "base_uri": "https://localhost:8080/",
          "height": 110
        },
        "id": "TmIU60EC7gww",
        "outputId": "6d7a41a3-2fda-4304-bbd0-8ab72fb4dd17"
      },
      "source": [
        "jovian.commit(project=project_name, environment=None)"
      ],
      "execution_count": 77,
      "outputs": [
        {
          "output_type": "stream",
          "text": [
            "[jovian] Detected Colab notebook...\u001b[0m\n",
            "[jovian] Uploading colab notebook to Jovian...\u001b[0m\n",
            "[jovian] Attaching records (metrics, hyperparameters, dataset etc.)\u001b[0m\n",
            "[jovian] Committed successfully! https://jovian.ai/aayrm5/02-insurance-linear-regression\u001b[0m\n"
          ],
          "name": "stdout"
        },
        {
          "output_type": "execute_result",
          "data": {
            "application/vnd.google.colaboratory.intrinsic+json": {
              "type": "string"
            },
            "text/plain": [
              "'https://jovian.ai/aayrm5/02-insurance-linear-regression'"
            ]
          },
          "metadata": {
            "tags": []
          },
          "execution_count": 77
        }
      ]
    },
    {
      "cell_type": "markdown",
      "metadata": {
        "id": "TnVitODr7gww"
      },
      "source": [
        "## Step 3: Create a Linear Regression Model\n",
        "\n",
        "Our model itself is a fairly straightforward linear regression (we'll build more complex models in the next assignment). \n"
      ]
    },
    {
      "cell_type": "code",
      "metadata": {
        "colab": {
          "base_uri": "https://localhost:8080/"
        },
        "id": "SwsSiw5kcyU-",
        "outputId": "ce2dda27-5b15-4bf1-e09d-d0418884cbf3"
      },
      "source": [
        "inputs.size(), targets.size()"
      ],
      "execution_count": 78,
      "outputs": [
        {
          "output_type": "execute_result",
          "data": {
            "text/plain": [
              "(torch.Size([1271, 5]), torch.Size([1271, 1]))"
            ]
          },
          "metadata": {
            "tags": []
          },
          "execution_count": 78
        }
      ]
    },
    {
      "cell_type": "code",
      "metadata": {
        "colab": {
          "base_uri": "https://localhost:8080/"
        },
        "id": "M7CHKER0dQaS",
        "outputId": "55e7a70a-1952-4496-9080-cd83f1a70c52"
      },
      "source": [
        "input_cols"
      ],
      "execution_count": 79,
      "outputs": [
        {
          "output_type": "execute_result",
          "data": {
            "text/plain": [
              "['age', 'sex', 'bmi', 'children', 'smoker']"
            ]
          },
          "metadata": {
            "tags": []
          },
          "execution_count": 79
        }
      ]
    },
    {
      "cell_type": "code",
      "metadata": {
        "colab": {
          "base_uri": "https://localhost:8080/"
        },
        "id": "JnwvG6R27gww",
        "outputId": "160107b0-2739-4cf5-8dca-0ae516c71692"
      },
      "source": [
        "input_size = len(input_cols)\n",
        "output_size = len(output_cols)\n",
        "input_size, output_size"
      ],
      "execution_count": 80,
      "outputs": [
        {
          "output_type": "execute_result",
          "data": {
            "text/plain": [
              "(5, 1)"
            ]
          },
          "metadata": {
            "tags": []
          },
          "execution_count": 80
        }
      ]
    },
    {
      "cell_type": "markdown",
      "metadata": {
        "id": "lII-HmvO7gwy"
      },
      "source": [
        "**Q: Complete the class definition below by filling out the constructor (`__init__`), `forward`, `training_step` and `validation_step` methods.**\n",
        "\n",
        "Hint: Think carefully about picking a good loss fuction (it's not cross entropy). Maybe try 2-3 of them and see which one works best. See https://pytorch.org/docs/stable/nn.functional.html#loss-functions"
      ]
    },
    {
      "cell_type": "code",
      "metadata": {
        "id": "aWCueOFX7gwy"
      },
      "source": [
        "class InsuranceModel(nn.Module):\n",
        "    def __init__(self):\n",
        "        super().__init__()\n",
        "        self.linear = nn.Linear(input_size, output_size)                  # fill this (hint: use input_size & output_size defined above)\n",
        "        \n",
        "    def forward(self, xb):\n",
        "        out = self.linear(xb)                          # fill this\n",
        "        return out\n",
        "    \n",
        "    def training_step(self, batch):\n",
        "        inputs, targets = batch \n",
        "        # Generate predictions\n",
        "        out = self(inputs)        \n",
        "        # Calcuate loss\n",
        "        loss = F.l1_loss(out, targets)                          # fill this\n",
        "        return loss\n",
        "    \n",
        "    def validation_step(self, batch):\n",
        "        inputs, targets = batch\n",
        "        # Generate predictions\n",
        "        out = self(inputs)\n",
        "        # Calculate loss\n",
        "        loss = F.l1_loss(out, targets)                           # fill this    \n",
        "        return {'val_loss': loss.detach()}\n",
        "        \n",
        "    def validation_epoch_end(self, outputs):\n",
        "        batch_losses = [x['val_loss'] for x in outputs]\n",
        "        epoch_loss = torch.stack(batch_losses).mean()   # Combine losses\n",
        "        return {'val_loss': epoch_loss.item()}\n",
        "    \n",
        "    def epoch_end(self, epoch, result, num_epochs):\n",
        "        # Print result every 20th epoch\n",
        "        if (epoch+1) % 20 == 0 or epoch == num_epochs-1:\n",
        "            print(\"Epoch [{}], val_loss: {:.4f}\".format(epoch+1, result['val_loss']))"
      ],
      "execution_count": 81,
      "outputs": []
    },
    {
      "cell_type": "markdown",
      "metadata": {
        "id": "h_zIPt3c7gwy"
      },
      "source": [
        "Let us create a model using the `InsuranceModel` class. You may need to come back later and re-run the next cell to reinitialize the model, in case the loss becomes `nan` or `infinity`."
      ]
    },
    {
      "cell_type": "code",
      "metadata": {
        "id": "rfVZjwtv7gwz"
      },
      "source": [
        "model = InsuranceModel()"
      ],
      "execution_count": 82,
      "outputs": []
    },
    {
      "cell_type": "markdown",
      "metadata": {
        "id": "3VeDY6uC7gwz"
      },
      "source": [
        "Let's check out the weights and biases of the model using `model.parameters`."
      ]
    },
    {
      "cell_type": "code",
      "metadata": {
        "colab": {
          "base_uri": "https://localhost:8080/"
        },
        "id": "EH1Ld3nF7gwz",
        "outputId": "431e4970-1d3a-408a-b646-ede9ec973658"
      },
      "source": [
        "list(model.parameters())"
      ],
      "execution_count": 83,
      "outputs": [
        {
          "output_type": "execute_result",
          "data": {
            "text/plain": [
              "[Parameter containing:\n",
              " tensor([[ 0.0627, -0.0439,  0.3728, -0.4229,  0.3915]], requires_grad=True),\n",
              " Parameter containing:\n",
              " tensor([-0.3722], requires_grad=True)]"
            ]
          },
          "metadata": {
            "tags": []
          },
          "execution_count": 83
        }
      ]
    },
    {
      "cell_type": "markdown",
      "metadata": {
        "id": "0jOy_O2J7gw0"
      },
      "source": [
        "One final commit before we train the model."
      ]
    },
    {
      "cell_type": "code",
      "metadata": {
        "colab": {
          "base_uri": "https://localhost:8080/",
          "height": 110
        },
        "id": "QQMHI2on7gw0",
        "outputId": "882a64c1-7177-4fb2-8521-a3ffdba8a6eb"
      },
      "source": [
        "jovian.commit(project=project_name, environment=None)"
      ],
      "execution_count": 84,
      "outputs": [
        {
          "output_type": "stream",
          "text": [
            "[jovian] Detected Colab notebook...\u001b[0m\n",
            "[jovian] Uploading colab notebook to Jovian...\u001b[0m\n",
            "[jovian] Attaching records (metrics, hyperparameters, dataset etc.)\u001b[0m\n",
            "[jovian] Committed successfully! https://jovian.ai/aayrm5/02-insurance-linear-regression\u001b[0m\n"
          ],
          "name": "stdout"
        },
        {
          "output_type": "execute_result",
          "data": {
            "application/vnd.google.colaboratory.intrinsic+json": {
              "type": "string"
            },
            "text/plain": [
              "'https://jovian.ai/aayrm5/02-insurance-linear-regression'"
            ]
          },
          "metadata": {
            "tags": []
          },
          "execution_count": 84
        }
      ]
    },
    {
      "cell_type": "markdown",
      "metadata": {
        "id": "m3BVckeR7gw0"
      },
      "source": [
        "## Step 4: Train the model to fit the data\n",
        "\n",
        "To train our model, we'll use the same `fit` function explained in the lecture. That's the benefit of defining a generic training loop - you can use it for any problem."
      ]
    },
    {
      "cell_type": "code",
      "metadata": {
        "id": "a7wnuNSB7gw0"
      },
      "source": [
        "def evaluate(model, val_loader):\n",
        "    outputs = [model.validation_step(batch) for batch in val_loader]\n",
        "    return model.validation_epoch_end(outputs)\n",
        "\n",
        "def fit(epochs, lr, model, train_loader, val_loader, opt_func=torch.optim.Adam):\n",
        "    history = []\n",
        "    optimizer = opt_func(model.parameters(), lr)\n",
        "    for epoch in range(epochs):\n",
        "        # Training Phase \n",
        "        for batch in train_loader:\n",
        "            loss = model.training_step(batch)\n",
        "            loss.backward()\n",
        "            optimizer.step()\n",
        "            optimizer.zero_grad()\n",
        "        # Validation phase\n",
        "        result = evaluate(model, val_loader)\n",
        "        model.epoch_end(epoch, result, epochs)\n",
        "        history.append(result)\n",
        "    return history"
      ],
      "execution_count": 85,
      "outputs": []
    },
    {
      "cell_type": "markdown",
      "metadata": {
        "id": "85SwApoy7gw0"
      },
      "source": [
        "**Q: Use the `evaluate` function to calculate the loss on the validation set before training.**"
      ]
    },
    {
      "cell_type": "code",
      "metadata": {
        "colab": {
          "base_uri": "https://localhost:8080/"
        },
        "id": "jm3nKR667gw0",
        "outputId": "13fc9510-11b3-474a-af9e-6e4985fbc5ad"
      },
      "source": [
        "result = evaluate(model, val_loader) # Use the the evaluate function\n",
        "print(result)"
      ],
      "execution_count": 86,
      "outputs": [
        {
          "output_type": "stream",
          "text": [
            "{'val_loss': 16672.537109375}\n"
          ],
          "name": "stdout"
        }
      ]
    },
    {
      "cell_type": "markdown",
      "metadata": {
        "id": "HeOZGW147gw1"
      },
      "source": [
        "\n",
        "We are now ready to train the model. You may need to run the training loop many times, for different number of epochs and with different learning rates, to get a good result. Also, if your loss becomes too large (or `nan`), you may have to re-initialize the model by running the cell `model = InsuranceModel()`. Experiment with this for a while, and try to get to as low a loss as possible."
      ]
    },
    {
      "cell_type": "markdown",
      "metadata": {
        "id": "dIBXgF9w7gw1"
      },
      "source": [
        "**Q: Train the model 4-5 times with different learning rates & for different number of epochs.**\n",
        "\n",
        "Hint: Vary learning rates by orders of 10 (e.g. `1e-2`, `1e-3`, `1e-4`, `1e-5`, `1e-6`) to figure out what works."
      ]
    },
    {
      "cell_type": "code",
      "metadata": {
        "colab": {
          "base_uri": "https://localhost:8080/"
        },
        "id": "hycHucg37gw1",
        "outputId": "ba73157b-3194-4bcd-ba45-1361083b812d"
      },
      "source": [
        "epochs = 2000\n",
        "lr = 1e-1\n",
        "history1 = fit(epochs, lr, model, train_loader, val_loader)"
      ],
      "execution_count": 87,
      "outputs": [
        {
          "output_type": "stream",
          "text": [
            "Epoch [20], val_loss: 15226.4375\n",
            "Epoch [40], val_loss: 13808.7129\n",
            "Epoch [60], val_loss: 12618.1855\n",
            "Epoch [80], val_loss: 11706.9805\n",
            "Epoch [100], val_loss: 11024.8633\n",
            "Epoch [120], val_loss: 10514.4570\n",
            "Epoch [140], val_loss: 10188.2803\n",
            "Epoch [160], val_loss: 10015.3027\n",
            "Epoch [180], val_loss: 9925.4199\n",
            "Epoch [200], val_loss: 9885.5820\n",
            "Epoch [220], val_loss: 9858.3750\n",
            "Epoch [240], val_loss: 9841.5059\n",
            "Epoch [260], val_loss: 9824.1094\n",
            "Epoch [280], val_loss: 9805.3398\n",
            "Epoch [300], val_loss: 9785.4980\n",
            "Epoch [320], val_loss: 9762.6289\n",
            "Epoch [340], val_loss: 9738.9746\n",
            "Epoch [360], val_loss: 9712.2617\n",
            "Epoch [380], val_loss: 9684.8057\n",
            "Epoch [400], val_loss: 9657.1709\n",
            "Epoch [420], val_loss: 9626.6484\n",
            "Epoch [440], val_loss: 9597.7148\n",
            "Epoch [460], val_loss: 9564.0645\n",
            "Epoch [480], val_loss: 9532.9512\n",
            "Epoch [500], val_loss: 9499.3311\n",
            "Epoch [520], val_loss: 9468.2627\n",
            "Epoch [540], val_loss: 9436.1553\n",
            "Epoch [560], val_loss: 9404.1465\n",
            "Epoch [580], val_loss: 9373.4805\n",
            "Epoch [600], val_loss: 9344.7168\n",
            "Epoch [620], val_loss: 9323.4053\n",
            "Epoch [640], val_loss: 9300.9883\n",
            "Epoch [660], val_loss: 9286.7002\n",
            "Epoch [680], val_loss: 9276.3340\n",
            "Epoch [700], val_loss: 9262.1592\n",
            "Epoch [720], val_loss: 9251.1582\n",
            "Epoch [740], val_loss: 9242.5303\n",
            "Epoch [760], val_loss: 9235.2305\n",
            "Epoch [780], val_loss: 9225.1562\n",
            "Epoch [800], val_loss: 9219.6328\n",
            "Epoch [820], val_loss: 9213.5283\n",
            "Epoch [840], val_loss: 9205.6006\n",
            "Epoch [860], val_loss: 9201.1816\n",
            "Epoch [880], val_loss: 9193.7637\n",
            "Epoch [900], val_loss: 9189.1064\n",
            "Epoch [920], val_loss: 9181.7773\n",
            "Epoch [940], val_loss: 9177.6602\n",
            "Epoch [960], val_loss: 9172.7715\n",
            "Epoch [980], val_loss: 9166.0586\n",
            "Epoch [1000], val_loss: 9162.1504\n",
            "Epoch [1020], val_loss: 9156.0615\n",
            "Epoch [1040], val_loss: 9151.2490\n",
            "Epoch [1060], val_loss: 9145.9375\n",
            "Epoch [1080], val_loss: 9140.1016\n",
            "Epoch [1100], val_loss: 9135.7061\n",
            "Epoch [1120], val_loss: 9129.7324\n",
            "Epoch [1140], val_loss: 9125.6904\n",
            "Epoch [1160], val_loss: 9120.0654\n",
            "Epoch [1180], val_loss: 9114.1445\n",
            "Epoch [1200], val_loss: 9109.1133\n",
            "Epoch [1220], val_loss: 9103.3574\n",
            "Epoch [1240], val_loss: 9099.5078\n",
            "Epoch [1260], val_loss: 9095.2627\n",
            "Epoch [1280], val_loss: 9089.9082\n",
            "Epoch [1300], val_loss: 9086.0352\n",
            "Epoch [1320], val_loss: 9079.9014\n",
            "Epoch [1340], val_loss: 9075.3477\n",
            "Epoch [1360], val_loss: 9070.4502\n",
            "Epoch [1380], val_loss: 9066.3477\n",
            "Epoch [1400], val_loss: 9061.1201\n",
            "Epoch [1420], val_loss: 9056.6348\n",
            "Epoch [1440], val_loss: 9053.3828\n",
            "Epoch [1460], val_loss: 9046.7705\n",
            "Epoch [1480], val_loss: 9044.2109\n",
            "Epoch [1500], val_loss: 9039.4707\n",
            "Epoch [1520], val_loss: 9033.7080\n",
            "Epoch [1540], val_loss: 9031.7676\n",
            "Epoch [1560], val_loss: 9021.5078\n",
            "Epoch [1580], val_loss: 9017.9395\n",
            "Epoch [1600], val_loss: 9013.5547\n",
            "Epoch [1620], val_loss: 9008.6260\n",
            "Epoch [1640], val_loss: 9003.6260\n",
            "Epoch [1660], val_loss: 9000.2012\n",
            "Epoch [1680], val_loss: 8995.8008\n",
            "Epoch [1700], val_loss: 8991.3506\n",
            "Epoch [1720], val_loss: 8987.3066\n",
            "Epoch [1740], val_loss: 8983.1016\n",
            "Epoch [1760], val_loss: 8978.4746\n",
            "Epoch [1780], val_loss: 8972.6504\n",
            "Epoch [1800], val_loss: 8970.0576\n",
            "Epoch [1820], val_loss: 8965.7842\n",
            "Epoch [1840], val_loss: 8960.2178\n",
            "Epoch [1860], val_loss: 8956.5088\n",
            "Epoch [1880], val_loss: 8950.9668\n",
            "Epoch [1900], val_loss: 8945.9941\n",
            "Epoch [1920], val_loss: 8943.5898\n",
            "Epoch [1940], val_loss: 8939.6416\n",
            "Epoch [1960], val_loss: 8933.8447\n",
            "Epoch [1980], val_loss: 8930.5762\n",
            "Epoch [2000], val_loss: 8925.8779\n"
          ],
          "name": "stdout"
        }
      ]
    },
    {
      "cell_type": "code",
      "metadata": {
        "colab": {
          "base_uri": "https://localhost:8080/",
          "height": 295
        },
        "id": "lERzFIvYx6Zb",
        "outputId": "9fdd77b7-9502-495e-f3e1-c49e9032d91d"
      },
      "source": [
        "val_loss_list = [l['val_loss'] for l in history1]\r\n",
        "plt.plot(val_loss_list,'r--')\r\n",
        "plt.xlabel('epochs')\r\n",
        "plt.ylabel('val_loss')\r\n",
        "plt.yscale('log')\r\n",
        "plt.title('Val_loss vs. training epochs')\r\n",
        "plt.show()"
      ],
      "execution_count": 123,
      "outputs": [
        {
          "output_type": "display_data",
          "data": {
            "image/png": "[encoded data removed]",
            "text/plain": [
              "<Figure size 432x288 with 1 Axes>"
            ]
          },
          "metadata": {
            "tags": []
          }
        }
      ]
    },
    {
      "cell_type": "code",
      "metadata": {
        "colab": {
          "base_uri": "https://localhost:8080/"
        },
        "id": "_IP5t4HG7gw2",
        "outputId": "806b54a5-7957-44e5-cfc2-9dec506bc7f7"
      },
      "source": [
        "epochs = 3000\n",
        "lr = 1e-2\n",
        "history2 = fit(epochs, lr, model, train_loader, val_loader)"
      ],
      "execution_count": 94,
      "outputs": [
        {
          "output_type": "stream",
          "text": [
            "Epoch [20], val_loss: 8924.9951\n",
            "Epoch [40], val_loss: 8924.1191\n",
            "Epoch [60], val_loss: 8924.0117\n",
            "Epoch [80], val_loss: 8923.1631\n",
            "Epoch [100], val_loss: 8923.1299\n",
            "Epoch [120], val_loss: 8922.6719\n",
            "Epoch [140], val_loss: 8921.7949\n",
            "Epoch [160], val_loss: 8921.5566\n",
            "Epoch [180], val_loss: 8921.4316\n",
            "Epoch [200], val_loss: 8920.7900\n",
            "Epoch [220], val_loss: 8920.0508\n",
            "Epoch [240], val_loss: 8919.6123\n",
            "Epoch [260], val_loss: 8919.1865\n",
            "Epoch [280], val_loss: 8919.1768\n",
            "Epoch [300], val_loss: 8918.5039\n",
            "Epoch [320], val_loss: 8918.0186\n",
            "Epoch [340], val_loss: 8917.4863\n",
            "Epoch [360], val_loss: 8916.5508\n",
            "Epoch [380], val_loss: 8916.5625\n",
            "Epoch [400], val_loss: 8916.0869\n",
            "Epoch [420], val_loss: 8915.6211\n",
            "Epoch [440], val_loss: 8915.5293\n",
            "Epoch [460], val_loss: 8914.8896\n",
            "Epoch [480], val_loss: 8914.3398\n",
            "Epoch [500], val_loss: 8913.6436\n",
            "Epoch [520], val_loss: 8913.2344\n",
            "Epoch [540], val_loss: 8912.8320\n",
            "Epoch [560], val_loss: 8912.3926\n",
            "Epoch [580], val_loss: 8912.1299\n",
            "Epoch [600], val_loss: 8911.0000\n",
            "Epoch [620], val_loss: 8911.2012\n",
            "Epoch [640], val_loss: 8910.4844\n",
            "Epoch [660], val_loss: 8909.9141\n",
            "Epoch [680], val_loss: 8909.4922\n",
            "Epoch [700], val_loss: 8909.3213\n",
            "Epoch [720], val_loss: 8908.9688\n",
            "Epoch [740], val_loss: 8908.2695\n",
            "Epoch [760], val_loss: 8908.0566\n",
            "Epoch [780], val_loss: 8907.7207\n",
            "Epoch [800], val_loss: 8906.9502\n",
            "Epoch [820], val_loss: 8906.5391\n",
            "Epoch [840], val_loss: 8906.2949\n",
            "Epoch [860], val_loss: 8905.6387\n",
            "Epoch [880], val_loss: 8904.8369\n",
            "Epoch [900], val_loss: 8904.4072\n",
            "Epoch [920], val_loss: 8904.0273\n",
            "Epoch [940], val_loss: 8904.1758\n",
            "Epoch [960], val_loss: 8903.7188\n",
            "Epoch [980], val_loss: 8902.9922\n",
            "Epoch [1000], val_loss: 8902.1934\n",
            "Epoch [1020], val_loss: 8902.2295\n",
            "Epoch [1040], val_loss: 8901.3555\n",
            "Epoch [1060], val_loss: 8900.7891\n",
            "Epoch [1080], val_loss: 8901.0781\n",
            "Epoch [1100], val_loss: 8900.0996\n",
            "Epoch [1120], val_loss: 8899.3369\n",
            "Epoch [1140], val_loss: 8899.5898\n",
            "Epoch [1160], val_loss: 8898.8467\n",
            "Epoch [1180], val_loss: 8898.2617\n",
            "Epoch [1200], val_loss: 8897.9883\n",
            "Epoch [1220], val_loss: 8897.3027\n",
            "Epoch [1240], val_loss: 8896.6699\n",
            "Epoch [1260], val_loss: 8896.1904\n",
            "Epoch [1280], val_loss: 8895.9258\n",
            "Epoch [1300], val_loss: 8895.1787\n",
            "Epoch [1320], val_loss: 8895.1484\n",
            "Epoch [1340], val_loss: 8894.4365\n",
            "Epoch [1360], val_loss: 8894.3066\n",
            "Epoch [1380], val_loss: 8893.8047\n",
            "Epoch [1400], val_loss: 8893.6748\n",
            "Epoch [1420], val_loss: 8893.5371\n",
            "Epoch [1440], val_loss: 8892.8516\n",
            "Epoch [1460], val_loss: 8891.3740\n",
            "Epoch [1480], val_loss: 8891.1621\n",
            "Epoch [1500], val_loss: 8891.0625\n",
            "Epoch [1520], val_loss: 8891.3770\n",
            "Epoch [1540], val_loss: 8890.8525\n",
            "Epoch [1560], val_loss: 8890.3789\n",
            "Epoch [1580], val_loss: 8890.0391\n",
            "Epoch [1600], val_loss: 8889.1807\n",
            "Epoch [1620], val_loss: 8888.8594\n",
            "Epoch [1640], val_loss: 8888.1777\n",
            "Epoch [1660], val_loss: 8887.7363\n",
            "Epoch [1680], val_loss: 8887.4111\n",
            "Epoch [1700], val_loss: 8887.1562\n",
            "Epoch [1720], val_loss: 8886.4922\n",
            "Epoch [1740], val_loss: 8886.2402\n",
            "Epoch [1760], val_loss: 8885.6514\n",
            "Epoch [1780], val_loss: 8885.2480\n",
            "Epoch [1800], val_loss: 8884.8486\n",
            "Epoch [1820], val_loss: 8884.3379\n",
            "Epoch [1840], val_loss: 8883.8701\n",
            "Epoch [1860], val_loss: 8883.4736\n",
            "Epoch [1880], val_loss: 8882.9355\n",
            "Epoch [1900], val_loss: 8882.8486\n",
            "Epoch [1920], val_loss: 8881.9980\n",
            "Epoch [1940], val_loss: 8881.9268\n",
            "Epoch [1960], val_loss: 8881.2520\n",
            "Epoch [1980], val_loss: 8881.0977\n",
            "Epoch [2000], val_loss: 8880.5361\n",
            "Epoch [2020], val_loss: 8880.1973\n",
            "Epoch [2040], val_loss: 8879.7139\n",
            "Epoch [2060], val_loss: 8879.1279\n",
            "Epoch [2080], val_loss: 8878.6230\n",
            "Epoch [2100], val_loss: 8878.1680\n",
            "Epoch [2120], val_loss: 8877.6309\n",
            "Epoch [2140], val_loss: 8877.5029\n",
            "Epoch [2160], val_loss: 8876.8975\n",
            "Epoch [2180], val_loss: 8876.6455\n",
            "Epoch [2200], val_loss: 8876.1270\n",
            "Epoch [2220], val_loss: 8875.4629\n",
            "Epoch [2240], val_loss: 8875.2031\n",
            "Epoch [2260], val_loss: 8874.8965\n",
            "Epoch [2280], val_loss: 8873.8105\n",
            "Epoch [2300], val_loss: 8873.9707\n",
            "Epoch [2320], val_loss: 8873.6387\n",
            "Epoch [2340], val_loss: 8873.2354\n",
            "Epoch [2360], val_loss: 8872.7910\n",
            "Epoch [2380], val_loss: 8872.2129\n",
            "Epoch [2400], val_loss: 8871.8867\n",
            "Epoch [2420], val_loss: 8871.3701\n",
            "Epoch [2440], val_loss: 8871.3301\n",
            "Epoch [2460], val_loss: 8870.3789\n",
            "Epoch [2480], val_loss: 8869.9219\n",
            "Epoch [2500], val_loss: 8869.3340\n",
            "Epoch [2520], val_loss: 8868.9277\n",
            "Epoch [2540], val_loss: 8868.5967\n",
            "Epoch [2560], val_loss: 8868.0684\n",
            "Epoch [2580], val_loss: 8867.6855\n",
            "Epoch [2600], val_loss: 8867.0439\n",
            "Epoch [2620], val_loss: 8866.6133\n",
            "Epoch [2640], val_loss: 8866.2520\n",
            "Epoch [2660], val_loss: 8865.6113\n",
            "Epoch [2680], val_loss: 8865.5059\n",
            "Epoch [2700], val_loss: 8864.8242\n",
            "Epoch [2720], val_loss: 8864.5693\n",
            "Epoch [2740], val_loss: 8863.9961\n",
            "Epoch [2760], val_loss: 8863.6240\n",
            "Epoch [2780], val_loss: 8863.0088\n",
            "Epoch [2800], val_loss: 8863.0312\n",
            "Epoch [2820], val_loss: 8862.7744\n",
            "Epoch [2840], val_loss: 8861.3975\n",
            "Epoch [2860], val_loss: 8861.4434\n",
            "Epoch [2880], val_loss: 8860.7207\n",
            "Epoch [2900], val_loss: 8860.5605\n",
            "Epoch [2920], val_loss: 8860.1328\n",
            "Epoch [2940], val_loss: 8859.6816\n",
            "Epoch [2960], val_loss: 8859.0000\n",
            "Epoch [2980], val_loss: 8858.1787\n",
            "Epoch [3000], val_loss: 8858.2627\n"
          ],
          "name": "stdout"
        }
      ]
    },
    {
      "cell_type": "code",
      "metadata": {
        "colab": {
          "base_uri": "https://localhost:8080/",
          "height": 295
        },
        "id": "uvY2-ixb1sRc",
        "outputId": "95f48c35-b4d9-45cb-9079-331316800c4e"
      },
      "source": [
        "val_loss_list = [l['val_loss'] for l in history2]\r\n",
        "plt.plot(val_loss_list,'r--')\r\n",
        "plt.xlabel('epochs')\r\n",
        "plt.ylabel('val_loss')\r\n",
        "plt.yscale('log')\r\n",
        "plt.title('Val_loss vs. training epochs')\r\n",
        "plt.show()"
      ],
      "execution_count": 124,
      "outputs": [
        {
          "output_type": "display_data",
          "data": {
            "image/png": "[encoded data removed]",
            "text/plain": [
              "<Figure size 432x288 with 1 Axes>"
            ]
          },
          "metadata": {
            "tags": []
          }
        }
      ]
    },
    {
      "cell_type": "code",
      "metadata": {
        "colab": {
          "base_uri": "https://localhost:8080/"
        },
        "id": "4FppVLUK7gw2",
        "outputId": "956caafc-8d8f-4607-83ae-70b7e64aee14"
      },
      "source": [
        "epochs = 3000\n",
        "lr = 1e-3\n",
        "history3 = fit(epochs, lr, model, train_loader, val_loader)"
      ],
      "execution_count": 96,
      "outputs": [
        {
          "output_type": "stream",
          "text": [
            "Epoch [20], val_loss: 8858.1660\n",
            "Epoch [40], val_loss: 8858.1094\n",
            "Epoch [60], val_loss: 8858.0264\n",
            "Epoch [80], val_loss: 8857.9766\n",
            "Epoch [100], val_loss: 8857.8965\n",
            "Epoch [120], val_loss: 8857.9082\n",
            "Epoch [140], val_loss: 8857.9268\n",
            "Epoch [160], val_loss: 8857.8730\n",
            "Epoch [180], val_loss: 8857.7881\n",
            "Epoch [200], val_loss: 8857.7676\n",
            "Epoch [220], val_loss: 8857.6475\n",
            "Epoch [240], val_loss: 8857.5859\n",
            "Epoch [260], val_loss: 8857.6211\n",
            "Epoch [280], val_loss: 8857.5527\n",
            "Epoch [300], val_loss: 8857.5225\n",
            "Epoch [320], val_loss: 8857.4668\n",
            "Epoch [340], val_loss: 8857.3613\n",
            "Epoch [360], val_loss: 8857.3184\n",
            "Epoch [380], val_loss: 8857.3164\n",
            "Epoch [400], val_loss: 8857.2764\n",
            "Epoch [420], val_loss: 8857.2627\n",
            "Epoch [440], val_loss: 8857.1523\n",
            "Epoch [460], val_loss: 8857.1094\n",
            "Epoch [480], val_loss: 8857.1699\n",
            "Epoch [500], val_loss: 8857.1270\n",
            "Epoch [520], val_loss: 8857.0820\n",
            "Epoch [540], val_loss: 8857.1436\n",
            "Epoch [560], val_loss: 8857.0654\n",
            "Epoch [580], val_loss: 8857.0703\n",
            "Epoch [600], val_loss: 8856.9600\n",
            "Epoch [620], val_loss: 8856.8750\n",
            "Epoch [640], val_loss: 8856.8145\n",
            "Epoch [660], val_loss: 8856.7109\n",
            "Epoch [680], val_loss: 8856.6494\n",
            "Epoch [700], val_loss: 8856.5840\n",
            "Epoch [720], val_loss: 8856.5137\n",
            "Epoch [740], val_loss: 8856.5166\n",
            "Epoch [760], val_loss: 8856.3955\n",
            "Epoch [780], val_loss: 8856.3799\n",
            "Epoch [800], val_loss: 8856.3555\n",
            "Epoch [820], val_loss: 8856.3320\n",
            "Epoch [840], val_loss: 8856.2871\n",
            "Epoch [860], val_loss: 8856.2637\n",
            "Epoch [880], val_loss: 8856.2109\n",
            "Epoch [900], val_loss: 8856.2256\n",
            "Epoch [920], val_loss: 8856.1514\n",
            "Epoch [940], val_loss: 8856.1504\n",
            "Epoch [960], val_loss: 8856.0938\n",
            "Epoch [980], val_loss: 8856.0557\n",
            "Epoch [1000], val_loss: 8856.0654\n",
            "Epoch [1020], val_loss: 8856.0479\n",
            "Epoch [1040], val_loss: 8856.0732\n",
            "Epoch [1060], val_loss: 8856.0273\n",
            "Epoch [1080], val_loss: 8855.9219\n",
            "Epoch [1100], val_loss: 8855.9170\n",
            "Epoch [1120], val_loss: 8855.8428\n",
            "Epoch [1140], val_loss: 8855.7754\n",
            "Epoch [1160], val_loss: 8855.7852\n",
            "Epoch [1180], val_loss: 8855.7930\n",
            "Epoch [1200], val_loss: 8855.6982\n",
            "Epoch [1220], val_loss: 8855.6191\n",
            "Epoch [1240], val_loss: 8855.5518\n",
            "Epoch [1260], val_loss: 8855.5264\n",
            "Epoch [1280], val_loss: 8855.5078\n",
            "Epoch [1300], val_loss: 8855.4072\n",
            "Epoch [1320], val_loss: 8855.2637\n",
            "Epoch [1340], val_loss: 8855.2227\n",
            "Epoch [1360], val_loss: 8855.1846\n",
            "Epoch [1380], val_loss: 8855.1367\n",
            "Epoch [1400], val_loss: 8855.1611\n",
            "Epoch [1420], val_loss: 8855.0488\n",
            "Epoch [1440], val_loss: 8854.9863\n",
            "Epoch [1460], val_loss: 8854.9189\n",
            "Epoch [1480], val_loss: 8854.8408\n",
            "Epoch [1500], val_loss: 8854.8604\n",
            "Epoch [1520], val_loss: 8854.8232\n",
            "Epoch [1540], val_loss: 8854.7246\n",
            "Epoch [1560], val_loss: 8854.7070\n",
            "Epoch [1580], val_loss: 8854.6357\n",
            "Epoch [1600], val_loss: 8854.6631\n",
            "Epoch [1620], val_loss: 8854.5732\n",
            "Epoch [1640], val_loss: 8854.5088\n",
            "Epoch [1660], val_loss: 8854.4912\n",
            "Epoch [1680], val_loss: 8854.5000\n",
            "Epoch [1700], val_loss: 8854.4404\n",
            "Epoch [1720], val_loss: 8854.4092\n",
            "Epoch [1740], val_loss: 8854.3438\n",
            "Epoch [1760], val_loss: 8854.3428\n",
            "Epoch [1780], val_loss: 8854.2666\n",
            "Epoch [1800], val_loss: 8854.2324\n",
            "Epoch [1820], val_loss: 8854.2139\n",
            "Epoch [1840], val_loss: 8854.1377\n",
            "Epoch [1860], val_loss: 8854.1260\n",
            "Epoch [1880], val_loss: 8854.0469\n",
            "Epoch [1900], val_loss: 8853.9658\n",
            "Epoch [1920], val_loss: 8853.8848\n",
            "Epoch [1940], val_loss: 8853.8301\n",
            "Epoch [1960], val_loss: 8853.8682\n",
            "Epoch [1980], val_loss: 8853.8281\n",
            "Epoch [2000], val_loss: 8853.7998\n",
            "Epoch [2020], val_loss: 8853.7930\n",
            "Epoch [2040], val_loss: 8853.7500\n",
            "Epoch [2060], val_loss: 8853.6904\n",
            "Epoch [2080], val_loss: 8853.6475\n",
            "Epoch [2100], val_loss: 8853.5664\n",
            "Epoch [2120], val_loss: 8853.5273\n",
            "Epoch [2140], val_loss: 8853.4668\n",
            "Epoch [2160], val_loss: 8853.4111\n",
            "Epoch [2180], val_loss: 8853.3867\n",
            "Epoch [2200], val_loss: 8853.3633\n",
            "Epoch [2220], val_loss: 8853.3555\n",
            "Epoch [2240], val_loss: 8853.2402\n",
            "Epoch [2260], val_loss: 8853.1719\n",
            "Epoch [2280], val_loss: 8853.2314\n",
            "Epoch [2300], val_loss: 8853.1143\n",
            "Epoch [2320], val_loss: 8853.0400\n",
            "Epoch [2340], val_loss: 8852.9980\n",
            "Epoch [2360], val_loss: 8852.9775\n",
            "Epoch [2380], val_loss: 8852.9219\n",
            "Epoch [2400], val_loss: 8852.8926\n",
            "Epoch [2420], val_loss: 8852.9131\n",
            "Epoch [2440], val_loss: 8852.8838\n",
            "Epoch [2460], val_loss: 8852.9082\n",
            "Epoch [2480], val_loss: 8852.8125\n",
            "Epoch [2500], val_loss: 8852.7979\n",
            "Epoch [2520], val_loss: 8852.7334\n",
            "Epoch [2540], val_loss: 8852.6787\n",
            "Epoch [2560], val_loss: 8852.6318\n",
            "Epoch [2580], val_loss: 8852.6416\n",
            "Epoch [2600], val_loss: 8852.5664\n",
            "Epoch [2620], val_loss: 8852.4902\n",
            "Epoch [2640], val_loss: 8852.4688\n",
            "Epoch [2660], val_loss: 8852.4326\n",
            "Epoch [2680], val_loss: 8852.3242\n",
            "Epoch [2700], val_loss: 8852.2871\n",
            "Epoch [2720], val_loss: 8852.2090\n",
            "Epoch [2740], val_loss: 8852.1982\n",
            "Epoch [2760], val_loss: 8852.0781\n",
            "Epoch [2780], val_loss: 8852.0654\n",
            "Epoch [2800], val_loss: 8852.0742\n",
            "Epoch [2820], val_loss: 8851.9707\n",
            "Epoch [2840], val_loss: 8851.9307\n",
            "Epoch [2860], val_loss: 8851.9414\n",
            "Epoch [2880], val_loss: 8851.8936\n",
            "Epoch [2900], val_loss: 8851.8398\n",
            "Epoch [2920], val_loss: 8851.8193\n",
            "Epoch [2940], val_loss: 8851.7676\n",
            "Epoch [2960], val_loss: 8851.7363\n",
            "Epoch [2980], val_loss: 8851.7178\n",
            "Epoch [3000], val_loss: 8851.6670\n"
          ],
          "name": "stdout"
        }
      ]
    },
    {
      "cell_type": "code",
      "metadata": {
        "colab": {
          "base_uri": "https://localhost:8080/",
          "height": 313
        },
        "id": "oT-nUauq13tc",
        "outputId": "52b8d24b-e829-441c-ee9e-1ecebcd271eb"
      },
      "source": [
        "val_loss_list = [l['val_loss'] for l in history3]\r\n",
        "plt.plot(val_loss_list,'r--')\r\n",
        "plt.xlabel('epochs')\r\n",
        "plt.ylabel('val_loss')\r\n",
        "plt.yscale('log')\r\n",
        "plt.title('Val_loss vs. training epochs')\r\n",
        "plt.show()"
      ],
      "execution_count": 108,
      "outputs": [
        {
          "output_type": "execute_result",
          "data": {
            "text/plain": [
              "Text(0.5, 1.0, 'Val_loss vs. training epochs')"
            ]
          },
          "metadata": {
            "tags": []
          },
          "execution_count": 108
        },
        {
          "output_type": "display_data",
          "data": {
            "image/png": "[encoded data removed]",
            "text/plain": [
              "<Figure size 432x288 with 1 Axes>"
            ]
          },
          "metadata": {
            "tags": []
          }
        }
      ]
    },
    {
      "cell_type": "code",
      "metadata": {
        "colab": {
          "base_uri": "https://localhost:8080/"
        },
        "id": "CHlilxp97gw2",
        "outputId": "20e8e13d-b6b5-42c3-d56e-e8d8d8f642de"
      },
      "source": [
        "epochs = 3000\n",
        "lr = 1e-1\n",
        "history4 = fit(epochs, lr, model, train_loader, val_loader)"
      ],
      "execution_count": 97,
      "outputs": [
        {
          "output_type": "stream",
          "text": [
            "Epoch [20], val_loss: 8845.8154\n",
            "Epoch [40], val_loss: 8842.7744\n",
            "Epoch [60], val_loss: 8838.3623\n",
            "Epoch [80], val_loss: 8833.6797\n",
            "Epoch [100], val_loss: 8829.4131\n",
            "Epoch [120], val_loss: 8824.8809\n",
            "Epoch [140], val_loss: 8822.5244\n",
            "Epoch [160], val_loss: 8816.0703\n",
            "Epoch [180], val_loss: 8812.4209\n",
            "Epoch [200], val_loss: 8809.0967\n",
            "Epoch [220], val_loss: 8804.3760\n",
            "Epoch [240], val_loss: 8800.8818\n",
            "Epoch [260], val_loss: 8795.6914\n",
            "Epoch [280], val_loss: 8792.5898\n",
            "Epoch [300], val_loss: 8787.3975\n",
            "Epoch [320], val_loss: 8782.1387\n",
            "Epoch [340], val_loss: 8777.9951\n",
            "Epoch [360], val_loss: 8773.7441\n",
            "Epoch [380], val_loss: 8769.7148\n",
            "Epoch [400], val_loss: 8766.5488\n",
            "Epoch [420], val_loss: 8760.4902\n",
            "Epoch [440], val_loss: 8756.4883\n",
            "Epoch [460], val_loss: 8751.8174\n",
            "Epoch [480], val_loss: 8748.9551\n",
            "Epoch [500], val_loss: 8744.1387\n",
            "Epoch [520], val_loss: 8739.8730\n",
            "Epoch [540], val_loss: 8735.7246\n",
            "Epoch [560], val_loss: 8732.0479\n",
            "Epoch [580], val_loss: 8727.0469\n",
            "Epoch [600], val_loss: 8723.7285\n",
            "Epoch [620], val_loss: 8718.7344\n",
            "Epoch [640], val_loss: 8714.1611\n",
            "Epoch [660], val_loss: 8711.1201\n",
            "Epoch [680], val_loss: 8705.6348\n",
            "Epoch [700], val_loss: 8702.8301\n",
            "Epoch [720], val_loss: 8699.7764\n",
            "Epoch [740], val_loss: 8692.3086\n",
            "Epoch [760], val_loss: 8688.2461\n",
            "Epoch [780], val_loss: 8684.9648\n",
            "Epoch [800], val_loss: 8682.1602\n",
            "Epoch [820], val_loss: 8677.1709\n",
            "Epoch [840], val_loss: 8672.0967\n",
            "Epoch [860], val_loss: 8668.4531\n",
            "Epoch [880], val_loss: 8664.0742\n",
            "Epoch [900], val_loss: 8659.7070\n",
            "Epoch [920], val_loss: 8655.4746\n",
            "Epoch [940], val_loss: 8651.4844\n",
            "Epoch [960], val_loss: 8647.1035\n",
            "Epoch [980], val_loss: 8642.5723\n",
            "Epoch [1000], val_loss: 8638.1602\n",
            "Epoch [1020], val_loss: 8634.9189\n",
            "Epoch [1040], val_loss: 8631.4326\n",
            "Epoch [1060], val_loss: 8627.4219\n",
            "Epoch [1080], val_loss: 8621.9004\n",
            "Epoch [1100], val_loss: 8617.9268\n",
            "Epoch [1120], val_loss: 8613.0918\n",
            "Epoch [1140], val_loss: 8609.9785\n",
            "Epoch [1160], val_loss: 8605.9189\n",
            "Epoch [1180], val_loss: 8601.4434\n",
            "Epoch [1200], val_loss: 8597.3164\n",
            "Epoch [1220], val_loss: 8590.4707\n",
            "Epoch [1240], val_loss: 8586.2266\n",
            "Epoch [1260], val_loss: 8584.4375\n",
            "Epoch [1280], val_loss: 8577.5391\n",
            "Epoch [1300], val_loss: 8575.5977\n",
            "Epoch [1320], val_loss: 8571.3115\n",
            "Epoch [1340], val_loss: 8567.5664\n",
            "Epoch [1360], val_loss: 8564.1924\n",
            "Epoch [1380], val_loss: 8558.2695\n",
            "Epoch [1400], val_loss: 8553.3066\n",
            "Epoch [1420], val_loss: 8550.6953\n",
            "Epoch [1440], val_loss: 8545.9150\n",
            "Epoch [1460], val_loss: 8543.2031\n",
            "Epoch [1480], val_loss: 8537.1777\n",
            "Epoch [1500], val_loss: 8534.0850\n",
            "Epoch [1520], val_loss: 8530.1084\n",
            "Epoch [1540], val_loss: 8525.2578\n",
            "Epoch [1560], val_loss: 8522.2109\n",
            "Epoch [1580], val_loss: 8515.6211\n",
            "Epoch [1600], val_loss: 8513.8496\n",
            "Epoch [1620], val_loss: 8507.9023\n",
            "Epoch [1640], val_loss: 8502.2324\n",
            "Epoch [1660], val_loss: 8499.8613\n",
            "Epoch [1680], val_loss: 8494.6807\n",
            "Epoch [1700], val_loss: 8492.7949\n",
            "Epoch [1720], val_loss: 8486.7539\n",
            "Epoch [1740], val_loss: 8483.3066\n",
            "Epoch [1760], val_loss: 8478.8633\n",
            "Epoch [1780], val_loss: 8474.8105\n",
            "Epoch [1800], val_loss: 8469.6406\n",
            "Epoch [1820], val_loss: 8465.2344\n",
            "Epoch [1840], val_loss: 8462.0234\n",
            "Epoch [1860], val_loss: 8457.1221\n",
            "Epoch [1880], val_loss: 8454.1553\n",
            "Epoch [1900], val_loss: 8449.2969\n",
            "Epoch [1920], val_loss: 8445.9951\n",
            "Epoch [1940], val_loss: 8441.3994\n",
            "Epoch [1960], val_loss: 8437.6895\n",
            "Epoch [1980], val_loss: 8432.6035\n",
            "Epoch [2000], val_loss: 8427.3750\n",
            "Epoch [2020], val_loss: 8423.6816\n",
            "Epoch [2040], val_loss: 8421.2031\n",
            "Epoch [2060], val_loss: 8415.6729\n",
            "Epoch [2080], val_loss: 8412.0146\n",
            "Epoch [2100], val_loss: 8408.4365\n",
            "Epoch [2120], val_loss: 8405.0762\n",
            "Epoch [2140], val_loss: 8400.1484\n",
            "Epoch [2160], val_loss: 8395.5078\n",
            "Epoch [2180], val_loss: 8392.9160\n",
            "Epoch [2200], val_loss: 8386.8496\n",
            "Epoch [2220], val_loss: 8383.6650\n",
            "Epoch [2240], val_loss: 8380.3496\n",
            "Epoch [2260], val_loss: 8376.1621\n",
            "Epoch [2280], val_loss: 8371.4658\n",
            "Epoch [2300], val_loss: 8367.8477\n",
            "Epoch [2320], val_loss: 8362.5605\n",
            "Epoch [2340], val_loss: 8360.2959\n",
            "Epoch [2360], val_loss: 8355.0557\n",
            "Epoch [2380], val_loss: 8351.5947\n",
            "Epoch [2400], val_loss: 8346.1328\n",
            "Epoch [2420], val_loss: 8343.6426\n",
            "Epoch [2440], val_loss: 8337.5723\n",
            "Epoch [2460], val_loss: 8335.6348\n",
            "Epoch [2480], val_loss: 8328.8184\n",
            "Epoch [2500], val_loss: 8325.1113\n",
            "Epoch [2520], val_loss: 8321.6484\n",
            "Epoch [2540], val_loss: 8317.6641\n",
            "Epoch [2560], val_loss: 8313.0244\n",
            "Epoch [2580], val_loss: 8309.1357\n",
            "Epoch [2600], val_loss: 8305.7012\n",
            "Epoch [2620], val_loss: 8302.9766\n",
            "Epoch [2640], val_loss: 8297.6240\n",
            "Epoch [2660], val_loss: 8293.6973\n",
            "Epoch [2680], val_loss: 8288.9805\n",
            "Epoch [2700], val_loss: 8285.5830\n",
            "Epoch [2720], val_loss: 8280.7012\n",
            "Epoch [2740], val_loss: 8277.8115\n",
            "Epoch [2760], val_loss: 8273.4990\n",
            "Epoch [2780], val_loss: 8268.7256\n",
            "Epoch [2800], val_loss: 8264.3594\n",
            "Epoch [2820], val_loss: 8259.7246\n",
            "Epoch [2840], val_loss: 8257.0293\n",
            "Epoch [2860], val_loss: 8251.1494\n",
            "Epoch [2880], val_loss: 8249.4902\n",
            "Epoch [2900], val_loss: 8244.4551\n",
            "Epoch [2920], val_loss: 8241.6436\n",
            "Epoch [2940], val_loss: 8236.7783\n",
            "Epoch [2960], val_loss: 8231.7656\n",
            "Epoch [2980], val_loss: 8228.9688\n",
            "Epoch [3000], val_loss: 8224.0977\n"
          ],
          "name": "stdout"
        }
      ]
    },
    {
      "cell_type": "code",
      "metadata": {
        "colab": {
          "base_uri": "https://localhost:8080/",
          "height": 313
        },
        "id": "vKdATPAY2Ooz",
        "outputId": "ff618cc2-9adb-4490-eb08-59571d34fbad"
      },
      "source": [
        "val_loss_list = [l['val_loss'] for l in history4]\r\n",
        "plt.plot(val_loss_list,'r--')\r\n",
        "plt.xlabel('epochs')\r\n",
        "plt.ylabel('val_loss')\r\n",
        "plt.yscale('log')\r\n",
        "plt.title('Val_loss vs. training epochs')\r\n",
        "plt.show()"
      ],
      "execution_count": 109,
      "outputs": [
        {
          "output_type": "execute_result",
          "data": {
            "text/plain": [
              "Text(0.5, 1.0, 'Val_loss vs. training epochs')"
            ]
          },
          "metadata": {
            "tags": []
          },
          "execution_count": 109
        },
        {
          "output_type": "display_data",
          "data": {
            "image/png": "[encoded data removed]",
            "text/plain": [
              "<Figure size 432x288 with 1 Axes>"
            ]
          },
          "metadata": {
            "tags": []
          }
        }
      ]
    },
    {
      "cell_type": "code",
      "metadata": {
        "colab": {
          "base_uri": "https://localhost:8080/"
        },
        "id": "alStP6xe7gw2",
        "outputId": "f3d039a4-412e-446d-910c-929f2aafdc82"
      },
      "source": [
        "epochs = 3000\n",
        "lr = 1e-5\n",
        "history5 = fit(epochs, lr, model, train_loader, val_loader)"
      ],
      "execution_count": 98,
      "outputs": [
        {
          "output_type": "stream",
          "text": [
            "Epoch [20], val_loss: 8224.0977\n",
            "Epoch [40], val_loss: 8224.0977\n",
            "Epoch [60], val_loss: 8224.0967\n",
            "Epoch [80], val_loss: 8224.0967\n",
            "Epoch [100], val_loss: 8224.0957\n",
            "Epoch [120], val_loss: 8224.0967\n",
            "Epoch [140], val_loss: 8224.0967\n",
            "Epoch [160], val_loss: 8224.0967\n",
            "Epoch [180], val_loss: 8224.0967\n",
            "Epoch [200], val_loss: 8224.0957\n",
            "Epoch [220], val_loss: 8224.0957\n",
            "Epoch [240], val_loss: 8224.0957\n",
            "Epoch [260], val_loss: 8224.0957\n",
            "Epoch [280], val_loss: 8224.0947\n",
            "Epoch [300], val_loss: 8224.0957\n",
            "Epoch [320], val_loss: 8224.0947\n",
            "Epoch [340], val_loss: 8224.0938\n",
            "Epoch [360], val_loss: 8224.0938\n",
            "Epoch [380], val_loss: 8224.0938\n",
            "Epoch [400], val_loss: 8224.0938\n",
            "Epoch [420], val_loss: 8224.0938\n",
            "Epoch [440], val_loss: 8224.0938\n",
            "Epoch [460], val_loss: 8224.0938\n",
            "Epoch [480], val_loss: 8224.0938\n",
            "Epoch [500], val_loss: 8224.0928\n",
            "Epoch [520], val_loss: 8224.0938\n",
            "Epoch [540], val_loss: 8224.0928\n",
            "Epoch [560], val_loss: 8224.0928\n",
            "Epoch [580], val_loss: 8224.0918\n",
            "Epoch [600], val_loss: 8224.0918\n",
            "Epoch [620], val_loss: 8224.0918\n",
            "Epoch [640], val_loss: 8224.0928\n",
            "Epoch [660], val_loss: 8224.0918\n",
            "Epoch [680], val_loss: 8224.0918\n",
            "Epoch [700], val_loss: 8224.0918\n",
            "Epoch [720], val_loss: 8224.0918\n",
            "Epoch [740], val_loss: 8224.0918\n",
            "Epoch [760], val_loss: 8224.0898\n",
            "Epoch [780], val_loss: 8224.0898\n",
            "Epoch [800], val_loss: 8224.0898\n",
            "Epoch [820], val_loss: 8224.0898\n",
            "Epoch [840], val_loss: 8224.0908\n",
            "Epoch [860], val_loss: 8224.0908\n",
            "Epoch [880], val_loss: 8224.0898\n",
            "Epoch [900], val_loss: 8224.0898\n",
            "Epoch [920], val_loss: 8224.0898\n",
            "Epoch [940], val_loss: 8224.0889\n",
            "Epoch [960], val_loss: 8224.0898\n",
            "Epoch [980], val_loss: 8224.0889\n",
            "Epoch [1000], val_loss: 8224.0889\n",
            "Epoch [1020], val_loss: 8224.0889\n",
            "Epoch [1040], val_loss: 8224.0889\n",
            "Epoch [1060], val_loss: 8224.0889\n",
            "Epoch [1080], val_loss: 8224.0889\n",
            "Epoch [1100], val_loss: 8224.0879\n",
            "Epoch [1120], val_loss: 8224.0889\n",
            "Epoch [1140], val_loss: 8224.0889\n",
            "Epoch [1160], val_loss: 8224.0879\n",
            "Epoch [1180], val_loss: 8224.0889\n",
            "Epoch [1200], val_loss: 8224.0889\n",
            "Epoch [1220], val_loss: 8224.0879\n",
            "Epoch [1240], val_loss: 8224.0879\n",
            "Epoch [1260], val_loss: 8224.0879\n",
            "Epoch [1280], val_loss: 8224.0879\n",
            "Epoch [1300], val_loss: 8224.0879\n",
            "Epoch [1320], val_loss: 8224.0869\n",
            "Epoch [1340], val_loss: 8224.0869\n",
            "Epoch [1360], val_loss: 8224.0869\n",
            "Epoch [1380], val_loss: 8224.0869\n",
            "Epoch [1400], val_loss: 8224.0869\n",
            "Epoch [1420], val_loss: 8224.0859\n",
            "Epoch [1440], val_loss: 8224.0859\n",
            "Epoch [1460], val_loss: 8224.0859\n",
            "Epoch [1480], val_loss: 8224.0859\n",
            "Epoch [1500], val_loss: 8224.0859\n",
            "Epoch [1520], val_loss: 8224.0859\n",
            "Epoch [1540], val_loss: 8224.0859\n",
            "Epoch [1560], val_loss: 8224.0850\n",
            "Epoch [1580], val_loss: 8224.0840\n",
            "Epoch [1600], val_loss: 8224.0840\n",
            "Epoch [1620], val_loss: 8224.0840\n",
            "Epoch [1640], val_loss: 8224.0840\n",
            "Epoch [1660], val_loss: 8224.0840\n",
            "Epoch [1680], val_loss: 8224.0830\n",
            "Epoch [1700], val_loss: 8224.0830\n",
            "Epoch [1720], val_loss: 8224.0830\n",
            "Epoch [1740], val_loss: 8224.0830\n",
            "Epoch [1760], val_loss: 8224.0820\n",
            "Epoch [1780], val_loss: 8224.0820\n",
            "Epoch [1800], val_loss: 8224.0820\n",
            "Epoch [1820], val_loss: 8224.0820\n",
            "Epoch [1840], val_loss: 8224.0820\n",
            "Epoch [1860], val_loss: 8224.0820\n",
            "Epoch [1880], val_loss: 8224.0820\n",
            "Epoch [1900], val_loss: 8224.0820\n",
            "Epoch [1920], val_loss: 8224.0811\n",
            "Epoch [1940], val_loss: 8224.0811\n",
            "Epoch [1960], val_loss: 8224.0820\n",
            "Epoch [1980], val_loss: 8224.0811\n",
            "Epoch [2000], val_loss: 8224.0811\n",
            "Epoch [2020], val_loss: 8224.0801\n",
            "Epoch [2040], val_loss: 8224.0801\n",
            "Epoch [2060], val_loss: 8224.0801\n",
            "Epoch [2080], val_loss: 8224.0801\n",
            "Epoch [2100], val_loss: 8224.0801\n",
            "Epoch [2120], val_loss: 8224.0801\n",
            "Epoch [2140], val_loss: 8224.0801\n",
            "Epoch [2160], val_loss: 8224.0791\n",
            "Epoch [2180], val_loss: 8224.0791\n",
            "Epoch [2200], val_loss: 8224.0791\n",
            "Epoch [2220], val_loss: 8224.0791\n",
            "Epoch [2240], val_loss: 8224.0791\n",
            "Epoch [2260], val_loss: 8224.0791\n",
            "Epoch [2280], val_loss: 8224.0791\n",
            "Epoch [2300], val_loss: 8224.0781\n",
            "Epoch [2320], val_loss: 8224.0781\n",
            "Epoch [2340], val_loss: 8224.0771\n",
            "Epoch [2360], val_loss: 8224.0771\n",
            "Epoch [2380], val_loss: 8224.0781\n",
            "Epoch [2400], val_loss: 8224.0771\n",
            "Epoch [2420], val_loss: 8224.0781\n",
            "Epoch [2440], val_loss: 8224.0781\n",
            "Epoch [2460], val_loss: 8224.0771\n",
            "Epoch [2480], val_loss: 8224.0762\n",
            "Epoch [2500], val_loss: 8224.0771\n",
            "Epoch [2520], val_loss: 8224.0752\n",
            "Epoch [2540], val_loss: 8224.0762\n",
            "Epoch [2560], val_loss: 8224.0752\n",
            "Epoch [2580], val_loss: 8224.0752\n",
            "Epoch [2600], val_loss: 8224.0752\n",
            "Epoch [2620], val_loss: 8224.0762\n",
            "Epoch [2640], val_loss: 8224.0762\n",
            "Epoch [2660], val_loss: 8224.0752\n",
            "Epoch [2680], val_loss: 8224.0762\n",
            "Epoch [2700], val_loss: 8224.0752\n",
            "Epoch [2720], val_loss: 8224.0762\n",
            "Epoch [2740], val_loss: 8224.0762\n",
            "Epoch [2760], val_loss: 8224.0762\n",
            "Epoch [2780], val_loss: 8224.0752\n",
            "Epoch [2800], val_loss: 8224.0742\n",
            "Epoch [2820], val_loss: 8224.0742\n",
            "Epoch [2840], val_loss: 8224.0732\n",
            "Epoch [2860], val_loss: 8224.0732\n",
            "Epoch [2880], val_loss: 8224.0732\n",
            "Epoch [2900], val_loss: 8224.0732\n",
            "Epoch [2920], val_loss: 8224.0732\n",
            "Epoch [2940], val_loss: 8224.0732\n",
            "Epoch [2960], val_loss: 8224.0732\n",
            "Epoch [2980], val_loss: 8224.0742\n",
            "Epoch [3000], val_loss: 8224.0723\n"
          ],
          "name": "stdout"
        }
      ]
    },
    {
      "cell_type": "code",
      "metadata": {
        "colab": {
          "base_uri": "https://localhost:8080/",
          "height": 313
        },
        "id": "-4yK4b6Y2Vi6",
        "outputId": "508fe974-e45d-4622-ae11-126d3440679b"
      },
      "source": [
        "val_loss_list = [l['val_loss'] for l in history5]\r\n",
        "plt.plot(val_loss_list,'r--')\r\n",
        "plt.xlabel('epochs')\r\n",
        "plt.ylabel('val_loss')\r\n",
        "plt.yscale('log')\r\n",
        "plt.title('Val_loss vs. training epochs')\r\n",
        "plt.show()"
      ],
      "execution_count": 110,
      "outputs": [
        {
          "output_type": "execute_result",
          "data": {
            "text/plain": [
              "Text(0.5, 1.0, 'Val_loss vs. training epochs')"
            ]
          },
          "metadata": {
            "tags": []
          },
          "execution_count": 110
        },
        {
          "output_type": "display_data",
          "data": {
            "image/png": "[encoded data removed]",
            "text/plain": [
              "<Figure size 432x288 with 1 Axes>"
            ]
          },
          "metadata": {
            "tags": []
          }
        }
      ]
    },
    {
      "cell_type": "markdown",
      "metadata": {
        "id": "5r--XFgH7gw2"
      },
      "source": [
        "**Q: What is the final validation loss of your model?**"
      ]
    },
    {
      "cell_type": "code",
      "metadata": {
        "colab": {
          "base_uri": "https://localhost:8080/",
          "height": 332
        },
        "id": "EQCcDPNg0dXW",
        "outputId": "b998c680-c325-4912-d06c-0e83ac1fdb39"
      },
      "source": [
        "val_loss = evaluate(model, val_loader)\r\n",
        "print(val_loss)\r\n",
        "val_loss_history = [result] + history1 + history2 + history3 + history4 + history5\r\n",
        "val_loss_list = [vl['val_loss'] for vl in val_loss_history]\r\n",
        "plt.plot(val_loss_list, '-g')\r\n",
        "plt.xlabel('epochs')\r\n",
        "plt.ylabel('val_loss (log10 scale)')\r\n",
        "plt.yscale('log')  # linear scale is not very representative\r\n",
        "plt.title('Val_loss vs. training epochs')"
      ],
      "execution_count": 111,
      "outputs": [
        {
          "output_type": "stream",
          "text": [
            "{'val_loss': 8224.072265625}\n"
          ],
          "name": "stdout"
        },
        {
          "output_type": "execute_result",
          "data": {
            "text/plain": [
              "Text(0.5, 1.0, 'Val_loss vs. training epochs')"
            ]
          },
          "metadata": {
            "tags": []
          },
          "execution_count": 111
        },
        {
          "output_type": "display_data",
          "data": {
            "image/png": "[encoded data removed]",
            "text/plain": [
              "<Figure size 432x288 with 1 Axes>"
            ]
          },
          "metadata": {
            "tags": []
          }
        }
      ]
    },
    {
      "cell_type": "code",
      "metadata": {
        "colab": {
          "base_uri": "https://localhost:8080/"
        },
        "id": "8PzwNvWb7gw2",
        "outputId": "23d183ad-9606-4f2c-b083-fd7b5ef8b2cd"
      },
      "source": [
        "val_loss = history5[-1]['val_loss']\r\n",
        "val_loss"
      ],
      "execution_count": 100,
      "outputs": [
        {
          "output_type": "execute_result",
          "data": {
            "text/plain": [
              "8224.072265625"
            ]
          },
          "metadata": {
            "tags": []
          },
          "execution_count": 100
        }
      ]
    },
    {
      "cell_type": "markdown",
      "metadata": {
        "id": "olVv31Jh7gw2"
      },
      "source": [
        "Let's log the final validation loss to Jovian and commit the notebook"
      ]
    },
    {
      "cell_type": "code",
      "metadata": {
        "colab": {
          "base_uri": "https://localhost:8080/"
        },
        "id": "7xjY6dEf7gw3",
        "outputId": "f851376d-7a97-4c04-e586-8cbf5dbe047d"
      },
      "source": [
        "jovian.log_metrics(val_loss=val_loss)"
      ],
      "execution_count": null,
      "outputs": [
        {
          "output_type": "stream",
          "text": [
            "[jovian] Metrics logged.\u001b[0m\n"
          ],
          "name": "stdout"
        }
      ]
    },
    {
      "cell_type": "code",
      "metadata": {
        "colab": {
          "base_uri": "https://localhost:8080/",
          "height": 110
        },
        "id": "Uge2kppN7gw3",
        "outputId": "e2d11fd9-11a9-45df-e2bd-db8d087c7d7b"
      },
      "source": [
        "jovian.commit(project=project_name, environment=None)"
      ],
      "execution_count": null,
      "outputs": [
        {
          "output_type": "stream",
          "text": [
            "[jovian] Detected Colab notebook...\u001b[0m\n",
            "[jovian] Uploading colab notebook to Jovian...\u001b[0m\n",
            "[jovian] Attaching records (metrics, hyperparameters, dataset etc.)\u001b[0m\n",
            "[jovian] Committed successfully! https://jovian.ai/aayrm5/02-insurance-linear-regression\u001b[0m\n"
          ],
          "name": "stdout"
        },
        {
          "output_type": "execute_result",
          "data": {
            "application/vnd.google.colaboratory.intrinsic+json": {
              "type": "string"
            },
            "text/plain": [
              "'https://jovian.ai/aayrm5/02-insurance-linear-regression'"
            ]
          },
          "metadata": {
            "tags": []
          },
          "execution_count": 44
        }
      ]
    },
    {
      "cell_type": "markdown",
      "metadata": {
        "id": "wyPfTjxW7gw3"
      },
      "source": [
        "Now scroll back up, re-initialize the model, and try different set of values for batch size, number of epochs, learning rate etc. Commit each experiment and use the \"Compare\" and \"View Diff\" options on Jovian to compare the different results."
      ]
    },
    {
      "cell_type": "markdown",
      "metadata": {
        "id": "Bwgdqq147gw3"
      },
      "source": [
        "## Step 5: Make predictions using the trained model\n",
        "\n",
        "**Q: Complete the following function definition to make predictions on a single input**"
      ]
    },
    {
      "cell_type": "code",
      "metadata": {
        "id": "3vsGBTX17gw4"
      },
      "source": [
        "def predict_single(input, target, model):\n",
        "    inputs = input.unsqueeze(0)\n",
        "    predictions = model(input)                # fill this\n",
        "    prediction = predictions[0].detach()\n",
        "    print(\"Input:\", input)\n",
        "    print(\"Target:\", target)\n",
        "    print(\"Prediction:\", prediction)"
      ],
      "execution_count": 112,
      "outputs": []
    },
    {
      "cell_type": "code",
      "metadata": {
        "colab": {
          "base_uri": "https://localhost:8080/"
        },
        "id": "7OxYOoGu7gw4",
        "outputId": "a73bc368-01e1-4230-8a41-6a5aba75b12f"
      },
      "source": [
        "input, target = val_ds[0]\n",
        "predict_single(input, target, model)"
      ],
      "execution_count": 113,
      "outputs": [
        {
          "output_type": "stream",
          "text": [
            "Input: tensor([53.0000,  0.0000, 24.9375,  2.0000,  0.0000])\n",
            "Target: tensor([14192.9121])\n",
            "Prediction: tensor(14342.9883)\n"
          ],
          "name": "stdout"
        }
      ]
    },
    {
      "cell_type": "code",
      "metadata": {
        "colab": {
          "base_uri": "https://localhost:8080/"
        },
        "id": "DTIOaKnK7gw4",
        "outputId": "96549bdf-b713-4c07-dee8-3dbcee1e8bcb"
      },
      "source": [
        "input, target = val_ds[10]\n",
        "predict_single(input, target, model)"
      ],
      "execution_count": 114,
      "outputs": [
        {
          "output_type": "stream",
          "text": [
            "Input: tensor([20.0000,  0.0000, 33.5160,  0.0000,  0.0000])\n",
            "Target: tensor([2736.4983])\n",
            "Prediction: tensor(2577.4795)\n"
          ],
          "name": "stdout"
        }
      ]
    },
    {
      "cell_type": "code",
      "metadata": {
        "colab": {
          "base_uri": "https://localhost:8080/"
        },
        "id": "MLlw7lNl7gw4",
        "outputId": "9eb9015a-c370-496a-ade9-a20409206732"
      },
      "source": [
        "input, target = val_ds[23]\n",
        "predict_single(input, target, model)"
      ],
      "execution_count": 115,
      "outputs": [
        {
          "output_type": "stream",
          "text": [
            "Input: tensor([19.0000,  1.0000, 26.4338,  0.0000,  0.0000])\n",
            "Target: tensor([1974.7639])\n",
            "Prediction: tensor(1986.1943)\n"
          ],
          "name": "stdout"
        }
      ]
    },
    {
      "cell_type": "markdown",
      "metadata": {
        "id": "ncttT-qS7gw4"
      },
      "source": [
        "Are you happy with your model's predictions? Try to improve them further."
      ]
    },
    {
      "cell_type": "markdown",
      "metadata": {
        "id": "tkUHYItK7gw4"
      },
      "source": [
        "## (Optional) Step 6: Try another dataset & blog about it\n",
        "\n",
        "While this last step is optional for the submission of your assignment, we highly recommend that you do it. Try to replicate this notebook for a different linear regression or logistic regression problem. This will help solidify your understanding, and give you a chance to differentiate the generic patterns in machine learning from problem-specific details.You can use one of these starer notebooks (just change the dataset):\n",
        "\n",
        "- Linear regression (minimal): https://jovian.ai/aakashns/housing-linear-minimal\n",
        "- Logistic regression (minimal): https://jovian.ai/aakashns/mnist-logistic-minimal\n",
        "\n",
        "Here are some sources to find good datasets:\n",
        "\n",
        "- https://lionbridge.ai/datasets/10-open-datasets-for-linear-regression/\n",
        "- https://www.kaggle.com/rtatman/datasets-for-regression-analysis\n",
        "- https://archive.ics.uci.edu/ml/datasets.php?format=&task=reg&att=&area=&numAtt=&numIns=&type=&sort=nameUp&view=table\n",
        "- https://people.sc.fsu.edu/~jburkardt/datasets/regression/regression.html\n",
        "- https://archive.ics.uci.edu/ml/datasets/wine+quality\n",
        "- https://pytorch.org/docs/stable/torchvision/datasets.html\n",
        "\n",
        "We also recommend that you write a blog about your approach to the problem. Here is a suggested structure for your post (feel free to experiment with it):\n",
        "\n",
        "- Interesting title & subtitle\n",
        "- Overview of what the blog covers (which dataset, linear regression or logistic regression, intro to PyTorch)\n",
        "- Downloading & exploring the data\n",
        "- Preparing the data for training\n",
        "- Creating a model using PyTorch\n",
        "- Training the model to fit the data\n",
        "- Your thoughts on how to experiment with different hyperparmeters to reduce loss\n",
        "- Making predictions using the model\n",
        "\n",
        "As with the previous assignment, you can [embed Juptyer notebook cells & outputs from Jovian](https://medium.com/jovianml/share-and-embed-jupyter-notebooks-online-with-jovian-ml-df709a03064e) into your blog. \n",
        "\n",
        "Don't forget to share your work on the forum: https://jovian.ai/forum/t/linear-regression-and-logistic-regression-notebooks-and-blog-posts/14039"
      ]
    },
    {
      "cell_type": "code",
      "metadata": {
        "id": "fQuZzZg17gw4",
        "colab": {
          "base_uri": "https://localhost:8080/",
          "height": 184
        },
        "outputId": "8e3b640a-a96f-450d-dc6c-787db02da3ae"
      },
      "source": [
        "jovian.commit(project=project_name, environment=None)\n",
        "jovian.commit(project=project_name, environment=None) # try again, kaggle fails sometimes"
      ],
      "execution_count": 116,
      "outputs": [
        {
          "output_type": "stream",
          "text": [
            "[jovian] Detected Colab notebook...\u001b[0m\n",
            "[jovian] Uploading colab notebook to Jovian...\u001b[0m\n",
            "[jovian] Attaching records (metrics, hyperparameters, dataset etc.)\u001b[0m\n",
            "[jovian] Committed successfully! https://jovian.ai/aayrm5/02-insurance-linear-regression\u001b[0m\n",
            "[jovian] Detected Colab notebook...\u001b[0m\n",
            "[jovian] Uploading colab notebook to Jovian...\u001b[0m\n",
            "[jovian] Attaching records (metrics, hyperparameters, dataset etc.)\u001b[0m\n",
            "[jovian] Committed successfully! https://jovian.ai/aayrm5/02-insurance-linear-regression\u001b[0m\n"
          ],
          "name": "stdout"
        },
        {
          "output_type": "execute_result",
          "data": {
            "application/vnd.google.colaboratory.intrinsic+json": {
              "type": "string"
            },
            "text/plain": [
              "'https://jovian.ai/aayrm5/02-insurance-linear-regression'"
            ]
          },
          "metadata": {
            "tags": []
          },
          "execution_count": 116
        }
      ]
    },
    {
      "cell_type": "code",
      "metadata": {
        "id": "u3H7jF-S7gw5",
        "colab": {
          "base_uri": "https://localhost:8080/"
        },
        "outputId": "5c1cbb9f-6165-4664-d2e1-104df8b2032e"
      },
      "source": [
        "jovian.submit(project='my-project',assignment=\"zerotogans-a2\")"
      ],
      "execution_count": 117,
      "outputs": [
        {
          "output_type": "stream",
          "text": [
            "[jovian] Detected Colab notebook...\u001b[0m\n",
            "[jovian] Uploading colab notebook to Jovian...\u001b[0m\n",
            "[jovian] Capturing environment..\u001b[0m\n",
            "[jovian] Attaching records (metrics, hyperparameters, dataset etc.)\u001b[0m\n",
            "[jovian] Committed successfully! https://jovian.ai/aayrm5/my-project\u001b[0m\n",
            "[jovian] Submitting assignment..\u001b[0m\n",
            "[jovian] Verify your submission at https://jovian.ai/learn/deep-learning-with-pytorch-zero-to-gans/assignment/assignment-2-train-your-first-model\u001b[0m\n"
          ],
          "name": "stdout"
        }
      ]
    },
    {
      "cell_type": "code",
      "metadata": {
        "id": "DwP7OLaxdtpT"
      },
      "source": [
        ""
      ],
      "execution_count": null,
      "outputs": []
    }
  ]
}